{
  "nbformat": 4,
  "nbformat_minor": 0,
  "metadata": {
    "colab": {
      "name": "BackEnd_Code.ipynb",
      "provenance": [],
      "collapsed_sections": []
    },
    "kernelspec": {
      "name": "python3",
      "display_name": "Python 3"
    },
    "language_info": {
      "name": "python"
    }
  },
  "cells": [
    {
      "cell_type": "code",
      "execution_count": 67,
      "metadata": {
        "id": "47pBk-9Sk3YV",
        "colab": {
          "base_uri": "https://localhost:8080/",
          "height": 243
        },
        "outputId": "c0e0b799-6c0e-4a97-98ca-4c6633223355"
      },
      "outputs": [
        {
          "output_type": "stream",
          "name": "stdout",
          "text": [
            "Requirement already satisfied: anvil-uplink in /usr/local/lib/python3.7/dist-packages (0.3.42)\n",
            "Requirement already satisfied: ws4py in /usr/local/lib/python3.7/dist-packages (from anvil-uplink) (0.5.1)\n",
            "Requirement already satisfied: future in /usr/local/lib/python3.7/dist-packages (from anvil-uplink) (0.16.0)\n",
            "Requirement already satisfied: six in /usr/local/lib/python3.7/dist-packages (from anvil-uplink) (1.15.0)\n",
            "Collecting argparse\n",
            "  Using cached argparse-1.4.0-py2.py3-none-any.whl (23 kB)\n",
            "Installing collected packages: argparse\n",
            "Successfully installed argparse-1.4.0\n"
          ]
        },
        {
          "output_type": "display_data",
          "data": {
            "application/vnd.colab-display-data+json": {
              "pip_warning": {
                "packages": [
                  "argparse"
                ]
              }
            }
          },
          "metadata": {}
        }
      ],
      "source": [
        "!pip install anvil-uplink"
      ]
    },
    {
      "cell_type": "code",
      "source": [
        "import pickle"
      ],
      "metadata": {
        "id": "itRT-qPItQDW"
      },
      "execution_count": 80,
      "outputs": []
    },
    {
      "cell_type": "code",
      "source": [
        "import anvil.server"
      ],
      "metadata": {
        "id": "ry27fpwBpIb-"
      },
      "execution_count": 81,
      "outputs": []
    },
    {
      "cell_type": "code",
      "source": [
        "anvil.server.connect(\"XDZ3PLH2T2G5IL34ZH57U4RJ-QMY3OWSYFOTX3OLW\")"
      ],
      "metadata": {
        "id": "b2gE15DzpNE_"
      },
      "execution_count": 82,
      "outputs": []
    },
    {
      "cell_type": "code",
      "source": [
        "from google.colab import drive\n",
        "drive.mount('/content/drive')"
      ],
      "metadata": {
        "colab": {
          "base_uri": "https://localhost:8080/"
        },
        "id": "KsaYJ89vuBRN",
        "outputId": "0a4e5c0e-81e4-4704-a6b8-ca0eeb20d092"
      },
      "execution_count": 83,
      "outputs": [
        {
          "output_type": "stream",
          "name": "stdout",
          "text": [
            "Drive already mounted at /content/drive; to attempt to forcibly remount, call drive.mount(\"/content/drive\", force_remount=True).\n"
          ]
        }
      ]
    },
    {
      "cell_type": "code",
      "source": [
        "@anvil.server.callable\n",
        "def predict_water_quality(model_selection, P1,P2,P3,P4,P5,P6,P7,P8,P9,P10,P11,P12,P13,P14,P15,P16,P17,P18,P19,P20,P21,P22,P23,P24,P25,P26,P27,P28,Mud):\n",
        "  stat = [[-2.17613774, 5.18535219], [1.74891267, 3.52860926], [-3.33195647, 5.88369101], [2.18213426, 3.08575102], [-1.45232266, 3.90360681],[-0.68803793, 1.67290433], [-2.60356324, 5.57053365],[0.23412883, 4.7693215],[-1.23937555, 2.174822],[-2.76993678, 4.32212902],[1.89559888, 2.73166361],[-3.07236643, 4.47471263],[-0.08466206, 0.976804],[-3.49819486, 4.58678574],[-0.03803831, 0.91903926],[-2.03807261, 3.38179136],[-3.25977852, 5.71246941],[-1.1001765, 2.28745511],[0.30853872, 1.20287319],[0.16972019, 1.00497365],[0.40998451, 2.86350958],[-0.01135526, 1.15566518],[-0.00602396, 1.08852244],[-0.05848128, 0.54220164],[0.03186172, 0.61415002], [0.02107445, 0.44376257],[0.10374869, 0.93689208],[0.05197956 , 0.40890298],[104.00806629,249.17402970]]\n",
        "  P1 = (float(P1)-stat[0][0])/stat[0][1]\n",
        "  P2 = (float(P2)-stat[1][0])/stat[1][1]\n",
        "  P3 = (float(P3)-stat[2][0])/stat[2][1]\n",
        "  P4 = (float(P4)-stat[3][0])/stat[3][1]\n",
        "  P5 = (float(P5)-stat[4][0])/stat[4][1]\n",
        "  P6 = (float(P6)-stat[5][0])/stat[5][1]\n",
        "  P7 = (float(P7)-stat[6][0])/stat[6][1]\n",
        "  P8 = (float(P8)-stat[7][0])/stat[7][1]\n",
        "  P9 = (float(P9)-stat[8][0])/stat[8][1]\n",
        "  P10 = (float(P10)-stat[9][0])/stat[9][1]\n",
        "  P11 = (float(P11)-stat[10][0])/stat[10][1]\n",
        "  P12 = (float(P12)-stat[11][0])/stat[11][1]\n",
        "  P13 = (float(P13)-stat[12][0])/stat[12][1]\n",
        "  P14 = (float(P14)-stat[13][0])/stat[13][1]\n",
        "  P15 = (float(P15)-stat[14][0])/stat[14][1]\n",
        "  P16 = (float(P16)-stat[15][0])/stat[15][1]\n",
        "  P17 = (float(P17)-stat[16][0])/stat[16][1]\n",
        "  P18 = (float(P18)-stat[17][0])/stat[17][1]\n",
        "  P19 = (float(P19)-stat[18][0])/stat[18][1]\n",
        "  P20 = (float(P20)-stat[19][0])/stat[19][1]\n",
        "  P21 = (float(P21)-stat[20][0])/stat[20][1]\n",
        "  P22 = (float(P22)-stat[21][0])/stat[21][1]\n",
        "  P23 = (float(P23)-stat[22][0])/stat[22][1]\n",
        "  P24 = (float(P24)-stat[23][0])/stat[23][1]\n",
        "  P25 = (float(P25)-stat[24][0])/stat[24][1]\n",
        "  P26 = (float(P26)-stat[25][0])/stat[25][1]\n",
        "  P27 = (float(P27)-stat[26][0])/stat[26][1]\n",
        "  P28 = (float(P28)-stat[27][0])/stat[27][1]\n",
        "  Mud = (float(Mud)-stat[28][0])/stat[28][1]\n",
        "  if (model_selection == 'Decision Tree'):\n",
        "    # load saved model\n",
        "    with open('/content/drive/MyDrive/PKL-Files-of-Classification-Algorithms/DecisionTree.pkl', 'rb') as f:\n",
        "      classifier = pickle.load(f)\n",
        "  elif(model_selection == 'Deep Learning (ANN)'):\n",
        "    with open('/content/drive/MyDrive/PKL-Files-of-Classification-Algorithms/DeepLearningANN.pkl', 'rb') as f:\n",
        "      classifier = pickle.load(f)\n",
        "  elif(model_selection == 'Light GBM'):\n",
        "    with open('/content/drive/MyDrive/PKL-Files-of-Classification-Algorithms/LGBM.pkl', 'rb') as f:\n",
        "      classifier = pickle.load(f)\n",
        "  elif(model_selection == 'Logistic Regression'):\n",
        "    with open('/content/drive/MyDrive/PKL-Files-of-Classification-Algorithms/logisticregression.pkl', 'rb') as f:\n",
        "      classifier = pickle.load(f)    \n",
        "  elif(model_selection == 'Naive Bayes'):\n",
        "    with open('/content/drive/MyDrive/PKL-Files-of-Classification-Algorithms/naive_bayes.pkl', 'rb') as f:\n",
        "      classifier = pickle.load(f)\n",
        "  elif(model_selection == 'Random Forest (50 trees)'):\n",
        "    with open('/content/drive/MyDrive/PKL-Files-of-Classification-Algorithms/RandomClassifier50.pkl', 'rb') as f:\n",
        "      classifier = pickle.load(f)\n",
        "  elif(model_selection == 'Random Forest (100 trees)'):\n",
        "    with open('/content/drive/MyDrive/PKL-Files-of-Classification-Algorithms/RandomClassifier100.pkl', 'rb') as f:\n",
        "      classifier = pickle.load(f)\n",
        "  elif(model_selection == 'Random Forest (150 tress)'):\n",
        "    with open('/content/drive/MyDrive/PKL-Files-of-Classification-Algorithms/RandomClassifier150.pkl', 'rb') as f:\n",
        "      classifier = pickle.load(f)\n",
        "  elif(model_selection == 'SVM (with kernal rbf)'):\n",
        "    with open('/content/drive/MyDrive/PKL-Files-of-Classification-Algorithms/SVM.pkl', 'rb') as f:\n",
        "      classifier = pickle.load(f)\n",
        "  elif(model_selection == 'XGB'):\n",
        "    with open('/content/drive/MyDrive/XGB_WD.pkl', 'rb') as f:\n",
        "      classifier = pickle.load(f)\n",
        "  else:\n",
        "    with open('/content/drive/MyDrive/PKL-Files-of-Classification-Algorithms/RandomClassifier150.pkl', 'rb') as f:\n",
        "      classifier = pickle.load(f)               \n",
        "  classification = classifier.predict([[P1,P2,P3,P4,P5,P6,P7,P8,P9,P10,P11,P12,P13,P14,P15,P16,P17,P18,P19,P20,P21,P22,P23,P24,P25,P26,P27,P28,Mud]])\n",
        "  if classification == 1:\n",
        "    return 'Impure'\n",
        "  else:\n",
        "    return 'Pure'"
      ],
      "metadata": {
        "id": "AL93i0GFpRyN"
      },
      "execution_count": 84,
      "outputs": []
    },
    {
      "cell_type": "code",
      "source": [
        "anvil.server.wait_forever()"
      ],
      "metadata": {
        "id": "yDYMLfvLrmEG",
        "colab": {
          "base_uri": "https://localhost:8080/",
          "height": 252
        },
        "outputId": "46e8d311-613f-4551-c74d-940861da5073"
      },
      "execution_count": 85,
      "outputs": [
        {
          "output_type": "error",
          "ename": "KeyboardInterrupt",
          "evalue": "ignored",
          "traceback": [
            "\u001b[0;31m---------------------------------------------------------------------------\u001b[0m",
            "\u001b[0;31mKeyboardInterrupt\u001b[0m                         Traceback (most recent call last)",
            "\u001b[0;32m<ipython-input-85-95cac3476493>\u001b[0m in \u001b[0;36m<module>\u001b[0;34m()\u001b[0m\n\u001b[0;32m----> 1\u001b[0;31m \u001b[0manvil\u001b[0m\u001b[0;34m.\u001b[0m\u001b[0mserver\u001b[0m\u001b[0;34m.\u001b[0m\u001b[0mwait_forever\u001b[0m\u001b[0;34m(\u001b[0m\u001b[0;34m)\u001b[0m\u001b[0;34m\u001b[0m\u001b[0;34m\u001b[0m\u001b[0m\n\u001b[0m",
            "\u001b[0;32m/usr/local/lib/python3.7/dist-packages/anvil/server.py\u001b[0m in \u001b[0;36mwait_forever\u001b[0;34m()\u001b[0m\n\u001b[1;32m    428\u001b[0m     \u001b[0m_get_connection\u001b[0m\u001b[0;34m(\u001b[0m\u001b[0;34m)\u001b[0m\u001b[0;34m\u001b[0m\u001b[0;34m\u001b[0m\u001b[0m\n\u001b[1;32m    429\u001b[0m     \u001b[0;32mwhile\u001b[0m \u001b[0;32mTrue\u001b[0m\u001b[0;34m:\u001b[0m\u001b[0;34m\u001b[0m\u001b[0;34m\u001b[0m\u001b[0m\n\u001b[0;32m--> 430\u001b[0;31m         \u001b[0mtime\u001b[0m\u001b[0;34m.\u001b[0m\u001b[0msleep\u001b[0m\u001b[0;34m(\u001b[0m\u001b[0;36m1\u001b[0m\u001b[0;34m)\u001b[0m\u001b[0;34m\u001b[0m\u001b[0;34m\u001b[0m\u001b[0m\n\u001b[0m",
            "\u001b[0;31mKeyboardInterrupt\u001b[0m: "
          ]
        }
      ]
    },
    {
      "cell_type": "code",
      "source": [
        ""
      ],
      "metadata": {
        "id": "qR13gE9rvT4h"
      },
      "execution_count": null,
      "outputs": []
    }
  ]
}