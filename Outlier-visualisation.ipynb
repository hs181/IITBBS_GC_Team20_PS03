{
  "cells": [
    {
      "cell_type": "code",
      "source": [
        "import numpy as np\n",
        "import pandas as pd\n",
        "import matplotlib.pyplot as plt\n",
        "import seaborn as sns"
      ],
      "metadata": {
        "id": "KCniJ_u2WWTM"
      },
      "execution_count": 1,
      "outputs": []
    },
    {
      "cell_type": "code",
      "source": [
        "from google.colab import drive\n",
        "drive.mount('/content/drive')"
      ],
      "metadata": {
        "id": "c2c6MWC8geFU",
        "outputId": "45b33de2-da2a-49e3-e637-4d46eb63c8c6",
        "colab": {
          "base_uri": "https://localhost:8080/"
        }
      },
      "execution_count": 2,
      "outputs": [
        {
          "output_type": "stream",
          "name": "stdout",
          "text": [
            "Mounted at /content/drive\n"
          ]
        }
      ]
    },
    {
      "cell_type": "code",
      "source": [
        "dataset=pd.read_csv(\"/content/drive/MyDrive/GC-Hackathon/training_set.csv\")\n",
        "x=dataset.iloc[:,2:-1].values\n",
        "y=dataset.iloc[:,-1].values"
      ],
      "metadata": {
        "id": "CtQBo5bXYh8m"
      },
      "execution_count": 3,
      "outputs": []
    },
    {
      "cell_type": "code",
      "source": [
        "x.shape"
      ],
      "metadata": {
        "colab": {
          "base_uri": "https://localhost:8080/"
        },
        "id": "jfgUzdnimQkj",
        "outputId": "0c1307cd-1f7c-40e3-82d7-c6155c4856cc"
      },
      "execution_count": 4,
      "outputs": [
        {
          "output_type": "execute_result",
          "data": {
            "text/plain": [
              "(227845, 29)"
            ]
          },
          "metadata": {},
          "execution_count": 4
        }
      ]
    },
    {
      "cell_type": "code",
      "source": [
        "dataset = dataset.drop(['buffer'], axis = 1)"
      ],
      "metadata": {
        "id": "QVPYIzdErhU4"
      },
      "execution_count": 5,
      "outputs": []
    },
    {
      "cell_type": "code",
      "source": [
        "dataset.head(10)"
      ],
      "metadata": {
        "colab": {
          "base_uri": "https://localhost:8080/",
          "height": 456
        },
        "id": "yhHk5pogkugM",
        "outputId": "8507b5a7-235d-4988-9673-3f7cb395c67c"
      },
      "execution_count": 6,
      "outputs": [
        {
          "output_type": "execute_result",
          "data": {
            "text/plain": [
              "     Time        P1        P2        P3        P4        P5        P6  \\\n",
              "0  134454  1.997387  0.028631 -1.885047  0.341234  0.350263 -0.900297   \n",
              "1   78980 -0.851823  1.446070  0.679759  0.007973  0.617801 -1.210695   \n",
              "2   55273  1.119963  0.546055  0.877856  2.415833 -0.282554 -0.336366   \n",
              "3   36417  1.328189 -0.305950 -0.998639 -1.236795  1.733800  3.236893   \n",
              "4  154977 -0.618361 -0.861401  0.513524  1.677866 -0.143396 -0.510276   \n",
              "5   67706 -1.204396  0.895136  1.416752 -1.515809 -0.232933 -0.278645   \n",
              "6   51705  1.174498  0.363603 -0.213642  0.874376  0.561873 -0.105249   \n",
              "7   36512 -0.407854  0.940336  1.533733 -0.018123 -0.219400 -0.934602   \n",
              "8  159573  2.008964 -0.026310 -1.837550  0.313541  0.272992 -0.816407   \n",
              "9   19901  1.337836 -0.587493  0.724083 -0.300644 -1.207252 -0.605452   \n",
              "\n",
              "         P7        P8        P9  ...       P21       P22       P23       P24  \\\n",
              "0  0.119352 -0.157746  0.474746  ...  0.229023  0.729647 -0.082236 -0.550494   \n",
              "1  1.369637 -0.442985 -0.466060  ...  0.130170  0.471780 -0.215118  0.402875   \n",
              "2  0.018747  0.042135 -0.982280  ... -0.183696 -0.662870  0.156578  0.471700   \n",
              "3 -0.779472  0.830587  0.258104  ... -0.183574 -0.678249  0.056192  1.054628   \n",
              "4 -1.020312  0.734283  0.980549  ...  0.029121 -0.269169  0.410990 -0.091444   \n",
              "5  0.470024  0.291977  0.256230  ... -0.094880 -0.079252  0.038514  0.017078   \n",
              "6  0.505197 -0.178866 -0.364710  ... -0.371282 -1.095817  0.010938 -0.791478   \n",
              "7  0.597172  0.024610 -0.151850  ... -0.247570 -0.725830 -0.006221  0.322366   \n",
              "8 -0.017404 -0.074550  0.323780  ...  0.202899  0.554954  0.058351  0.694446   \n",
              "9 -0.840063 -0.033971  0.788198  ... -0.123340 -0.122951  0.008669  0.461695   \n",
              "\n",
              "        P25       P26       P27       P28    Mud  Class  \n",
              "0  0.227840 -0.090372 -0.012176 -0.044384  21.90      0  \n",
              "1 -0.109756 -0.629885 -0.725665 -0.351324   2.99      0  \n",
              "2  0.182968 -0.295540 -0.012185  0.020821   7.08      0  \n",
              "3  0.275940  0.919345 -0.069212  0.003619   7.68      0  \n",
              "4 -0.883856 -0.863775 -0.023857 -0.293884  49.00      0  \n",
              "5 -0.360650  0.748521  0.510475  0.259724  30.00      0  \n",
              "6  0.473820 -0.669108  0.019495  0.023306  52.05      0  \n",
              "7 -0.249413  0.076587  0.255380  0.117340   1.79      0  \n",
              "8  0.000615  0.627712 -0.083553 -0.045078  16.07      0  \n",
              "9  0.427552 -0.307951 -0.025863 -0.004419  10.00      0  \n",
              "\n",
              "[10 rows x 31 columns]"
            ],
            "text/html": [
              "\n",
              "  <div id=\"df-98d433da-856d-42e6-90c1-bb887d719f29\">\n",
              "    <div class=\"colab-df-container\">\n",
              "      <div>\n",
              "<style scoped>\n",
              "    .dataframe tbody tr th:only-of-type {\n",
              "        vertical-align: middle;\n",
              "    }\n",
              "\n",
              "    .dataframe tbody tr th {\n",
              "        vertical-align: top;\n",
              "    }\n",
              "\n",
              "    .dataframe thead th {\n",
              "        text-align: right;\n",
              "    }\n",
              "</style>\n",
              "<table border=\"1\" class=\"dataframe\">\n",
              "  <thead>\n",
              "    <tr style=\"text-align: right;\">\n",
              "      <th></th>\n",
              "      <th>Time</th>\n",
              "      <th>P1</th>\n",
              "      <th>P2</th>\n",
              "      <th>P3</th>\n",
              "      <th>P4</th>\n",
              "      <th>P5</th>\n",
              "      <th>P6</th>\n",
              "      <th>P7</th>\n",
              "      <th>P8</th>\n",
              "      <th>P9</th>\n",
              "      <th>...</th>\n",
              "      <th>P21</th>\n",
              "      <th>P22</th>\n",
              "      <th>P23</th>\n",
              "      <th>P24</th>\n",
              "      <th>P25</th>\n",
              "      <th>P26</th>\n",
              "      <th>P27</th>\n",
              "      <th>P28</th>\n",
              "      <th>Mud</th>\n",
              "      <th>Class</th>\n",
              "    </tr>\n",
              "  </thead>\n",
              "  <tbody>\n",
              "    <tr>\n",
              "      <th>0</th>\n",
              "      <td>134454</td>\n",
              "      <td>1.997387</td>\n",
              "      <td>0.028631</td>\n",
              "      <td>-1.885047</td>\n",
              "      <td>0.341234</td>\n",
              "      <td>0.350263</td>\n",
              "      <td>-0.900297</td>\n",
              "      <td>0.119352</td>\n",
              "      <td>-0.157746</td>\n",
              "      <td>0.474746</td>\n",
              "      <td>...</td>\n",
              "      <td>0.229023</td>\n",
              "      <td>0.729647</td>\n",
              "      <td>-0.082236</td>\n",
              "      <td>-0.550494</td>\n",
              "      <td>0.227840</td>\n",
              "      <td>-0.090372</td>\n",
              "      <td>-0.012176</td>\n",
              "      <td>-0.044384</td>\n",
              "      <td>21.90</td>\n",
              "      <td>0</td>\n",
              "    </tr>\n",
              "    <tr>\n",
              "      <th>1</th>\n",
              "      <td>78980</td>\n",
              "      <td>-0.851823</td>\n",
              "      <td>1.446070</td>\n",
              "      <td>0.679759</td>\n",
              "      <td>0.007973</td>\n",
              "      <td>0.617801</td>\n",
              "      <td>-1.210695</td>\n",
              "      <td>1.369637</td>\n",
              "      <td>-0.442985</td>\n",
              "      <td>-0.466060</td>\n",
              "      <td>...</td>\n",
              "      <td>0.130170</td>\n",
              "      <td>0.471780</td>\n",
              "      <td>-0.215118</td>\n",
              "      <td>0.402875</td>\n",
              "      <td>-0.109756</td>\n",
              "      <td>-0.629885</td>\n",
              "      <td>-0.725665</td>\n",
              "      <td>-0.351324</td>\n",
              "      <td>2.99</td>\n",
              "      <td>0</td>\n",
              "    </tr>\n",
              "    <tr>\n",
              "      <th>2</th>\n",
              "      <td>55273</td>\n",
              "      <td>1.119963</td>\n",
              "      <td>0.546055</td>\n",
              "      <td>0.877856</td>\n",
              "      <td>2.415833</td>\n",
              "      <td>-0.282554</td>\n",
              "      <td>-0.336366</td>\n",
              "      <td>0.018747</td>\n",
              "      <td>0.042135</td>\n",
              "      <td>-0.982280</td>\n",
              "      <td>...</td>\n",
              "      <td>-0.183696</td>\n",
              "      <td>-0.662870</td>\n",
              "      <td>0.156578</td>\n",
              "      <td>0.471700</td>\n",
              "      <td>0.182968</td>\n",
              "      <td>-0.295540</td>\n",
              "      <td>-0.012185</td>\n",
              "      <td>0.020821</td>\n",
              "      <td>7.08</td>\n",
              "      <td>0</td>\n",
              "    </tr>\n",
              "    <tr>\n",
              "      <th>3</th>\n",
              "      <td>36417</td>\n",
              "      <td>1.328189</td>\n",
              "      <td>-0.305950</td>\n",
              "      <td>-0.998639</td>\n",
              "      <td>-1.236795</td>\n",
              "      <td>1.733800</td>\n",
              "      <td>3.236893</td>\n",
              "      <td>-0.779472</td>\n",
              "      <td>0.830587</td>\n",
              "      <td>0.258104</td>\n",
              "      <td>...</td>\n",
              "      <td>-0.183574</td>\n",
              "      <td>-0.678249</td>\n",
              "      <td>0.056192</td>\n",
              "      <td>1.054628</td>\n",
              "      <td>0.275940</td>\n",
              "      <td>0.919345</td>\n",
              "      <td>-0.069212</td>\n",
              "      <td>0.003619</td>\n",
              "      <td>7.68</td>\n",
              "      <td>0</td>\n",
              "    </tr>\n",
              "    <tr>\n",
              "      <th>4</th>\n",
              "      <td>154977</td>\n",
              "      <td>-0.618361</td>\n",
              "      <td>-0.861401</td>\n",
              "      <td>0.513524</td>\n",
              "      <td>1.677866</td>\n",
              "      <td>-0.143396</td>\n",
              "      <td>-0.510276</td>\n",
              "      <td>-1.020312</td>\n",
              "      <td>0.734283</td>\n",
              "      <td>0.980549</td>\n",
              "      <td>...</td>\n",
              "      <td>0.029121</td>\n",
              "      <td>-0.269169</td>\n",
              "      <td>0.410990</td>\n",
              "      <td>-0.091444</td>\n",
              "      <td>-0.883856</td>\n",
              "      <td>-0.863775</td>\n",
              "      <td>-0.023857</td>\n",
              "      <td>-0.293884</td>\n",
              "      <td>49.00</td>\n",
              "      <td>0</td>\n",
              "    </tr>\n",
              "    <tr>\n",
              "      <th>5</th>\n",
              "      <td>67706</td>\n",
              "      <td>-1.204396</td>\n",
              "      <td>0.895136</td>\n",
              "      <td>1.416752</td>\n",
              "      <td>-1.515809</td>\n",
              "      <td>-0.232933</td>\n",
              "      <td>-0.278645</td>\n",
              "      <td>0.470024</td>\n",
              "      <td>0.291977</td>\n",
              "      <td>0.256230</td>\n",
              "      <td>...</td>\n",
              "      <td>-0.094880</td>\n",
              "      <td>-0.079252</td>\n",
              "      <td>0.038514</td>\n",
              "      <td>0.017078</td>\n",
              "      <td>-0.360650</td>\n",
              "      <td>0.748521</td>\n",
              "      <td>0.510475</td>\n",
              "      <td>0.259724</td>\n",
              "      <td>30.00</td>\n",
              "      <td>0</td>\n",
              "    </tr>\n",
              "    <tr>\n",
              "      <th>6</th>\n",
              "      <td>51705</td>\n",
              "      <td>1.174498</td>\n",
              "      <td>0.363603</td>\n",
              "      <td>-0.213642</td>\n",
              "      <td>0.874376</td>\n",
              "      <td>0.561873</td>\n",
              "      <td>-0.105249</td>\n",
              "      <td>0.505197</td>\n",
              "      <td>-0.178866</td>\n",
              "      <td>-0.364710</td>\n",
              "      <td>...</td>\n",
              "      <td>-0.371282</td>\n",
              "      <td>-1.095817</td>\n",
              "      <td>0.010938</td>\n",
              "      <td>-0.791478</td>\n",
              "      <td>0.473820</td>\n",
              "      <td>-0.669108</td>\n",
              "      <td>0.019495</td>\n",
              "      <td>0.023306</td>\n",
              "      <td>52.05</td>\n",
              "      <td>0</td>\n",
              "    </tr>\n",
              "    <tr>\n",
              "      <th>7</th>\n",
              "      <td>36512</td>\n",
              "      <td>-0.407854</td>\n",
              "      <td>0.940336</td>\n",
              "      <td>1.533733</td>\n",
              "      <td>-0.018123</td>\n",
              "      <td>-0.219400</td>\n",
              "      <td>-0.934602</td>\n",
              "      <td>0.597172</td>\n",
              "      <td>0.024610</td>\n",
              "      <td>-0.151850</td>\n",
              "      <td>...</td>\n",
              "      <td>-0.247570</td>\n",
              "      <td>-0.725830</td>\n",
              "      <td>-0.006221</td>\n",
              "      <td>0.322366</td>\n",
              "      <td>-0.249413</td>\n",
              "      <td>0.076587</td>\n",
              "      <td>0.255380</td>\n",
              "      <td>0.117340</td>\n",
              "      <td>1.79</td>\n",
              "      <td>0</td>\n",
              "    </tr>\n",
              "    <tr>\n",
              "      <th>8</th>\n",
              "      <td>159573</td>\n",
              "      <td>2.008964</td>\n",
              "      <td>-0.026310</td>\n",
              "      <td>-1.837550</td>\n",
              "      <td>0.313541</td>\n",
              "      <td>0.272992</td>\n",
              "      <td>-0.816407</td>\n",
              "      <td>-0.017404</td>\n",
              "      <td>-0.074550</td>\n",
              "      <td>0.323780</td>\n",
              "      <td>...</td>\n",
              "      <td>0.202899</td>\n",
              "      <td>0.554954</td>\n",
              "      <td>0.058351</td>\n",
              "      <td>0.694446</td>\n",
              "      <td>0.000615</td>\n",
              "      <td>0.627712</td>\n",
              "      <td>-0.083553</td>\n",
              "      <td>-0.045078</td>\n",
              "      <td>16.07</td>\n",
              "      <td>0</td>\n",
              "    </tr>\n",
              "    <tr>\n",
              "      <th>9</th>\n",
              "      <td>19901</td>\n",
              "      <td>1.337836</td>\n",
              "      <td>-0.587493</td>\n",
              "      <td>0.724083</td>\n",
              "      <td>-0.300644</td>\n",
              "      <td>-1.207252</td>\n",
              "      <td>-0.605452</td>\n",
              "      <td>-0.840063</td>\n",
              "      <td>-0.033971</td>\n",
              "      <td>0.788198</td>\n",
              "      <td>...</td>\n",
              "      <td>-0.123340</td>\n",
              "      <td>-0.122951</td>\n",
              "      <td>0.008669</td>\n",
              "      <td>0.461695</td>\n",
              "      <td>0.427552</td>\n",
              "      <td>-0.307951</td>\n",
              "      <td>-0.025863</td>\n",
              "      <td>-0.004419</td>\n",
              "      <td>10.00</td>\n",
              "      <td>0</td>\n",
              "    </tr>\n",
              "  </tbody>\n",
              "</table>\n",
              "<p>10 rows × 31 columns</p>\n",
              "</div>\n",
              "      <button class=\"colab-df-convert\" onclick=\"convertToInteractive('df-98d433da-856d-42e6-90c1-bb887d719f29')\"\n",
              "              title=\"Convert this dataframe to an interactive table.\"\n",
              "              style=\"display:none;\">\n",
              "        \n",
              "  <svg xmlns=\"http://www.w3.org/2000/svg\" height=\"24px\"viewBox=\"0 0 24 24\"\n",
              "       width=\"24px\">\n",
              "    <path d=\"M0 0h24v24H0V0z\" fill=\"none\"/>\n",
              "    <path d=\"M18.56 5.44l.94 2.06.94-2.06 2.06-.94-2.06-.94-.94-2.06-.94 2.06-2.06.94zm-11 1L8.5 8.5l.94-2.06 2.06-.94-2.06-.94L8.5 2.5l-.94 2.06-2.06.94zm10 10l.94 2.06.94-2.06 2.06-.94-2.06-.94-.94-2.06-.94 2.06-2.06.94z\"/><path d=\"M17.41 7.96l-1.37-1.37c-.4-.4-.92-.59-1.43-.59-.52 0-1.04.2-1.43.59L10.3 9.45l-7.72 7.72c-.78.78-.78 2.05 0 2.83L4 21.41c.39.39.9.59 1.41.59.51 0 1.02-.2 1.41-.59l7.78-7.78 2.81-2.81c.8-.78.8-2.07 0-2.86zM5.41 20L4 18.59l7.72-7.72 1.47 1.35L5.41 20z\"/>\n",
              "  </svg>\n",
              "      </button>\n",
              "      \n",
              "  <style>\n",
              "    .colab-df-container {\n",
              "      display:flex;\n",
              "      flex-wrap:wrap;\n",
              "      gap: 12px;\n",
              "    }\n",
              "\n",
              "    .colab-df-convert {\n",
              "      background-color: #E8F0FE;\n",
              "      border: none;\n",
              "      border-radius: 50%;\n",
              "      cursor: pointer;\n",
              "      display: none;\n",
              "      fill: #1967D2;\n",
              "      height: 32px;\n",
              "      padding: 0 0 0 0;\n",
              "      width: 32px;\n",
              "    }\n",
              "\n",
              "    .colab-df-convert:hover {\n",
              "      background-color: #E2EBFA;\n",
              "      box-shadow: 0px 1px 2px rgba(60, 64, 67, 0.3), 0px 1px 3px 1px rgba(60, 64, 67, 0.15);\n",
              "      fill: #174EA6;\n",
              "    }\n",
              "\n",
              "    [theme=dark] .colab-df-convert {\n",
              "      background-color: #3B4455;\n",
              "      fill: #D2E3FC;\n",
              "    }\n",
              "\n",
              "    [theme=dark] .colab-df-convert:hover {\n",
              "      background-color: #434B5C;\n",
              "      box-shadow: 0px 1px 3px 1px rgba(0, 0, 0, 0.15);\n",
              "      filter: drop-shadow(0px 1px 2px rgba(0, 0, 0, 0.3));\n",
              "      fill: #FFFFFF;\n",
              "    }\n",
              "  </style>\n",
              "\n",
              "      <script>\n",
              "        const buttonEl =\n",
              "          document.querySelector('#df-98d433da-856d-42e6-90c1-bb887d719f29 button.colab-df-convert');\n",
              "        buttonEl.style.display =\n",
              "          google.colab.kernel.accessAllowed ? 'block' : 'none';\n",
              "\n",
              "        async function convertToInteractive(key) {\n",
              "          const element = document.querySelector('#df-98d433da-856d-42e6-90c1-bb887d719f29');\n",
              "          const dataTable =\n",
              "            await google.colab.kernel.invokeFunction('convertToInteractive',\n",
              "                                                     [key], {});\n",
              "          if (!dataTable) return;\n",
              "\n",
              "          const docLinkHtml = 'Like what you see? Visit the ' +\n",
              "            '<a target=\"_blank\" href=https://colab.research.google.com/notebooks/data_table.ipynb>data table notebook</a>'\n",
              "            + ' to learn more about interactive tables.';\n",
              "          element.innerHTML = '';\n",
              "          dataTable['output_type'] = 'display_data';\n",
              "          await google.colab.output.renderOutput(dataTable, element);\n",
              "          const docLink = document.createElement('div');\n",
              "          docLink.innerHTML = docLinkHtml;\n",
              "          element.appendChild(docLink);\n",
              "        }\n",
              "      </script>\n",
              "    </div>\n",
              "  </div>\n",
              "  "
            ]
          },
          "metadata": {},
          "execution_count": 6
        }
      ]
    },
    {
      "cell_type": "code",
      "source": [
        "dataset['Class'].sum()"
      ],
      "metadata": {
        "colab": {
          "base_uri": "https://localhost:8080/"
        },
        "id": "cJvYAcunvE1x",
        "outputId": "c9284aa9-d4a6-4478-a55d-e063e56fc0ed"
      },
      "execution_count": 7,
      "outputs": [
        {
          "output_type": "execute_result",
          "data": {
            "text/plain": [
              "400"
            ]
          },
          "metadata": {},
          "execution_count": 7
        }
      ]
    },
    {
      "cell_type": "code",
      "source": [
        "for col in dataset:\n",
        "    print(f'{col}: {dataset[col].unique()}')\n"
      ],
      "metadata": {
        "colab": {
          "base_uri": "https://localhost:8080/"
        },
        "id": "_Q8u87E_tpPz",
        "outputId": "64ac4a54-3b01-4933-d45a-030c42d4980e"
      },
      "execution_count": 8,
      "outputs": [
        {
          "output_type": "stream",
          "name": "stdout",
          "text": [
            "Time: [134454  78980  55273 ... 139712  42964  42853]\n",
            "P1: [ 1.99738662 -0.85182304  1.11996283 ...  0.02057785  1.15162816\n",
            "  1.92249746]\n",
            "P2: [ 0.02863075  1.44607049  0.5460548  ... -0.30060018 -0.01172861\n",
            " -0.46416262]\n",
            "P3: [-1.88504708  0.67975938  0.87785555 ...  0.51596431  1.19277978\n",
            "  0.1475083 ]\n",
            "P4: [ 0.34123406  0.00797332  2.41583278 ... -2.42356968  1.13558685\n",
            "  0.34305528]\n",
            "P5: [ 0.35026254  0.61780121 -0.28255398 ...  0.219863   -0.69428712\n",
            " -0.66568411]\n",
            "P6: [-0.90029741 -1.21069503 -0.33636581 ...  0.17617976  0.3253029\n",
            "  0.35575   ]\n",
            "P7: [ 0.11935187  1.36963682  0.01874691 ... -0.10892754 -0.63714433\n",
            " -1.11752469]\n",
            "P8: [-0.15774643 -0.44298526  0.04213506 ...  0.13181585  0.22368309\n",
            "  0.18561354]\n",
            "P9: [ 0.47474587 -0.46606005 -0.9822802  ... -0.88327916  0.55415902\n",
            "  2.33486871]\n",
            "P10: [-0.29622776 -0.01877438  0.84328598 ...  0.05485735 -0.04773753\n",
            " -0.24925436]\n",
            "P11: [ 0.90851755 -0.52503042  1.3666721  ...  0.3085199   0.72914782\n",
            "  1.89223692]\n",
            "P12: [ 0.22124002  0.13662876  0.61161151 ...  0.27778104  1.4180904\n",
            " -1.2770274 ]\n",
            "P13: [-0.80916607  0.27673018 -0.25940708 ...  1.10587491  0.67378092\n",
            "  2.15301478]\n",
            "P14: [-0.38888202  0.15652621  0.53355047 ... -0.62380205 -0.31806242\n",
            "  1.22186942]\n",
            "P15: [ 0.36286273 -0.01596735 -0.13521686 ... -1.42610984 -0.57271078\n",
            " -0.62426018]\n",
            "P16: [ 0.49616023 -0.18216077  0.92061138 ...  1.58652475  0.33741086\n",
            "  0.77217075]\n",
            "P17: [ 0.102897   -0.66073347 -0.81411323 ... -0.67277093 -0.65660627\n",
            " -0.13239914]\n",
            "P18: [ 1.13694824 -0.35081819 -0.02005239 ... -0.5709601   0.45586549\n",
            "  0.68392218]\n",
            "P19: [-0.06511436 -0.77430098 -0.70952271 ...  0.07741563  0.20022948\n",
            " -0.29960454]\n",
            "P20: [-0.20183737 -0.19874729 -0.15214319 ...  0.09742828 -0.08846634\n",
            " -0.14997875]\n",
            "P21: [ 0.22902262  0.13017024 -0.18369629 ...  0.54241477 -0.030267\n",
            " -0.05532522]\n",
            "P22: [ 0.72964714  0.47177994 -0.66286984 ...  1.51367516  0.13844551\n",
            "  0.18309862]\n",
            "P23: [-0.08223632 -0.2151179   0.15657817 ...  0.02560204 -0.05699199\n",
            "  0.35559336]\n",
            "P24: [-0.55049358  0.40287525  0.47169998 ...  0.27426718  0.03155939\n",
            "  0.68049306]\n",
            "P25: [ 0.22783986 -0.10975606  0.18296803 ... -1.04330368  0.45473975\n",
            " -0.6404989 ]\n",
            "P26: [-0.09037204 -0.62988471 -0.29554038 ... -0.40717697 -0.4075993\n",
            "  0.39074875]\n",
            "P27: [-0.01217591 -0.72566483 -0.01218483 ...  0.25416114  0.07436725\n",
            " -0.04295093]\n",
            "P28: [-0.04438383 -0.35132374  0.02082098 ...  0.25766137  0.02464218\n",
            " -0.04573341]\n",
            "Mud: [  21.9     2.99    7.08 ... 1860.    201.13  150.96]\n",
            "Class: [0 1]\n"
          ]
        }
      ]
    },
    {
      "cell_type": "code",
      "source": [
        "max_thresold = dataset['Mud'].quantile(0.95)\n",
        "print(max_thresold)\n",
        "\n",
        "\n",
        "min_thresold = dataset['Mud'].quantile(0.05)\n",
        "print(min_thresold)\n",
        "\n",
        "\"\"\"\n",
        "dataset = dataset[(dataset['Mud']<max_thresold) & (dataset['Mud']>min_thresold)]\n",
        "print(dataset[(dataset['Mud']>max_thresold) & (dataset['Mud']min_thresold)][\"Class\"].sum())\n",
        "\"\"\"\n",
        "sns.boxplot(x=dataset[\"Mud\"])\n"
      ],
      "metadata": {
        "colab": {
          "base_uri": "https://localhost:8080/",
          "height": 331
        },
        "id": "A2e1qnH3lYy-",
        "outputId": "0aab8f9e-2efe-4d6f-e948-744f20a4b86f"
      },
      "execution_count": 9,
      "outputs": [
        {
          "output_type": "stream",
          "name": "stdout",
          "text": [
            "364.89599999999973\n",
            "0.92\n"
          ]
        },
        {
          "output_type": "execute_result",
          "data": {
            "text/plain": [
              "<matplotlib.axes._subplots.AxesSubplot at 0x7f10fdbb8cd0>"
            ]
          },
          "metadata": {},
          "execution_count": 9
        },
        {
          "output_type": "display_data",
          "data": {
            "text/plain": [
              "<Figure size 432x288 with 1 Axes>"
            ],
            "image/png": "[encoded data removed]"
          },
          "metadata": {
            "needs_background": "light"
          }
        }
      ]
    },
    {
      "cell_type": "code",
      "source": [
        "max_thresold = dataset['P1'].quantile(0.99)\n",
        "print(max_thresold)\n",
        "\n",
        "\n",
        "min_thresold = dataset['P1'].quantile(0.01)\n",
        "print(min_thresold)\n",
        "\n",
        "\"\"\"\n",
        "dataset = dataset[(dataset['P1']<max_thresold) & (dataset['P1']>min_thresold)]\n",
        "print(dataset[(dataset['P1']<max_thresold) & (dataset['P1']>min_thresold)][\"Class\"].sum())\n",
        "\"\"\"\n",
        "\n",
        "sns.boxplot(x=dataset[\"P1\"])"
      ],
      "metadata": {
        "colab": {
          "base_uri": "https://localhost:8080/",
          "height": 331
        },
        "id": "SIY_-XdBvX_E",
        "outputId": "37a809e9-3696-4779-ca29-b29aff232f50"
      },
      "execution_count": 10,
      "outputs": [
        {
          "output_type": "stream",
          "name": "stdout",
          "text": [
            "2.2381772428\n",
            "-6.5256609352\n"
          ]
        },
        {
          "output_type": "execute_result",
          "data": {
            "text/plain": [
              "<matplotlib.axes._subplots.AxesSubplot at 0x7f10fd640ed0>"
            ]
          },
          "metadata": {},
          "execution_count": 10
        },
        {
          "output_type": "display_data",
          "data": {
            "text/plain": [
              "<Figure size 432x288 with 1 Axes>"
            ],
            "image/png": "[encoded data removed]"
          },
          "metadata": {
            "needs_background": "light"
          }
        }
      ]
    },
    {
      "cell_type": "code",
      "source": [
        "max_thresold = dataset['P2'].quantile(0.95)\n",
        "print(max_thresold)\n",
        "\n",
        "\n",
        "min_thresold = dataset['P2'].quantile(0.05)\n",
        "print(min_thresold)\n",
        "\n",
        "\"\"\"\n",
        "dataset = dataset[(dataset['P2']<max_thresold) & (dataset['P2']>min_thresold)]\n",
        "print(dataset[(dataset['P2']<max_thresold) & (dataset['P2']>min_thresold)][\"Class\"].sum())\n",
        "\"\"\"\n",
        "\n",
        "sns.boxplot(x=dataset[\"P2\"])"
      ],
      "metadata": {
        "colab": {
          "base_uri": "https://localhost:8080/",
          "height": 331
        },
        "id": "D2ffKEniwK_L",
        "outputId": "b3fb3c5d-b1fd-4214-ffb2-0e4cb95e67f7"
      },
      "execution_count": 11,
      "outputs": [
        {
          "output_type": "stream",
          "name": "stdout",
          "text": [
            "1.8059130689999998\n",
            "-1.9744760289999999\n"
          ]
        },
        {
          "output_type": "execute_result",
          "data": {
            "text/plain": [
              "<matplotlib.axes._subplots.AxesSubplot at 0x7f10fd5c1510>"
            ]
          },
          "metadata": {},
          "execution_count": 11
        },
        {
          "output_type": "display_data",
          "data": {
            "text/plain": [
              "<Figure size 432x288 with 1 Axes>"
            ],
            "image/png": "[encoded data removed]"
          },
          "metadata": {
            "needs_background": "light"
          }
        }
      ]
    },
    {
      "cell_type": "code",
      "source": [
        "max_thresold = dataset['P3'].quantile(0.95)\n",
        "print(max_thresold)\n",
        "\n",
        "\n",
        "min_thresold = dataset['P3'].quantile(0.05)\n",
        "print(min_thresold)\n",
        "\n",
        "\"\"\"\n",
        "dataset = dataset[(dataset['P3']<max_thresold) & (dataset['P3']>min_thresold)]\n",
        "print(dataset[(dataset['P3']<max_thresold) & (dataset['P3']>min_thresold)][\"Class\"].sum())\n",
        "\"\"\"\n",
        "\n",
        "sns.boxplot(x=dataset[\"P3\"])"
      ],
      "metadata": {
        "colab": {
          "base_uri": "https://localhost:8080/",
          "height": 331
        },
        "id": "56aSC-q7wrNB",
        "outputId": "70dedea6-bcc7-4c96-8473-3a7245f6f01d"
      },
      "execution_count": 12,
      "outputs": [
        {
          "output_type": "stream",
          "name": "stdout",
          "text": [
            "2.0603833853999993\n",
            "-2.3914704847999997\n"
          ]
        },
        {
          "output_type": "execute_result",
          "data": {
            "text/plain": [
              "<matplotlib.axes._subplots.AxesSubplot at 0x7f10fd59ae90>"
            ]
          },
          "metadata": {},
          "execution_count": 12
        },
        {
          "output_type": "display_data",
          "data": {
            "text/plain": [
              "<Figure size 432x288 with 1 Axes>"
            ],
            "image/png": "[encoded data removed]"
          },
          "metadata": {
            "needs_background": "light"
          }
        }
      ]
    },
    {
      "cell_type": "code",
      "source": [
        "max_thresold = dataset['P4'].quantile(0.95)\n",
        "print(max_thresold)\n",
        "\n",
        "\n",
        "min_thresold = dataset['P4'].quantile(0.05)\n",
        "print(min_thresold)\n",
        "\n",
        "'''\n",
        "dataset = dataset[(dataset['P4']<max_thresold) & (dataset['P4']>min_thresold)]\n",
        "print(dataset[(dataset['P4']<max_thresold) & (dataset['P4']>min_thresold)][\"Class\"].sum())\n",
        "'''\n",
        "\n",
        "sns.boxplot(x=dataset[\"P4\"])"
      ],
      "metadata": {
        "colab": {
          "base_uri": "https://localhost:8080/",
          "height": 331
        },
        "id": "cb8RcLwpFs34",
        "outputId": "30a84014-d608-43a6-e1b3-1b08bed6db3c"
      },
      "execution_count": 13,
      "outputs": [
        {
          "output_type": "stream",
          "name": "stdout",
          "text": [
            "2.5621568768\n",
            "-2.1973994354\n"
          ]
        },
        {
          "output_type": "execute_result",
          "data": {
            "text/plain": [
              "<matplotlib.axes._subplots.AxesSubplot at 0x7f10fd519850>"
            ]
          },
          "metadata": {},
          "execution_count": 13
        },
        {
          "output_type": "display_data",
          "data": {
            "text/plain": [
              "<Figure size 432x288 with 1 Axes>"
            ],
            "image/png": "[encoded data removed]"
          },
          "metadata": {
            "needs_background": "light"
          }
        }
      ]
    },
    {
      "cell_type": "code",
      "source": [
        "max_thresold = dataset['P5'].quantile(0.95)\n",
        "print(max_thresold)\n",
        "\n",
        "\n",
        "min_thresold = dataset['P5'].quantile(0.05)\n",
        "print(min_thresold)\n",
        "\n",
        "'''\n",
        "dataset = dataset[(dataset['P5']<max_thresold) & (dataset['P5']>min_thresold)]\n",
        "print(dataset[(dataset['P5']<max_thresold) & (dataset['P5']>min_thresold)][\"Class\"].sum())\n",
        "'''\n",
        "\n",
        "sns.boxplot(x=dataset[\"P5\"])"
      ],
      "metadata": {
        "colab": {
          "base_uri": "https://localhost:8080/",
          "height": 331
        },
        "id": "TfQ8IWvwH9Os",
        "outputId": "2c824c5f-c93a-4086-b048-8fefa38a07ff"
      },
      "execution_count": 14,
      "outputs": [
        {
          "output_type": "stream",
          "name": "stdout",
          "text": [
            "2.097925440599998\n",
            "-1.7011095379999999\n"
          ]
        },
        {
          "output_type": "execute_result",
          "data": {
            "text/plain": [
              "<matplotlib.axes._subplots.AxesSubplot at 0x7f10fd495750>"
            ]
          },
          "metadata": {},
          "execution_count": 14
        },
        {
          "output_type": "display_data",
          "data": {
            "text/plain": [
              "<Figure size 432x288 with 1 Axes>"
            ],
            "image/png": "[encoded data removed]"
          },
          "metadata": {
            "needs_background": "light"
          }
        }
      ]
    },
    {
      "cell_type": "code",
      "source": [
        "max_thresold = dataset['P6'].quantile(0.95)\n",
        "print(max_thresold)\n",
        "\n",
        "\n",
        "min_thresold = dataset['P6'].quantile(0.05)\n",
        "print(min_thresold)\n",
        "\n",
        "'''\n",
        "dataset = dataset[(dataset['P6']<max_thresold) & (dataset['P6']>min_thresold)]\n",
        "print(dataset[(dataset['P6']<max_thresold) & (dataset['P6']>min_thresold)][\"Class\"].sum())\n",
        "'''\n",
        "\n",
        "sns.boxplot(x=dataset[\"P6\"])"
      ],
      "metadata": {
        "colab": {
          "base_uri": "https://localhost:8080/",
          "height": 331
        },
        "id": "aGgHJDGuIMyy",
        "outputId": "1253d773-2cee-4739-a704-855464c1c4e5"
      },
      "execution_count": 15,
      "outputs": [
        {
          "output_type": "stream",
          "name": "stdout",
          "text": [
            "3.160352803999998\n",
            "-1.408382936\n"
          ]
        },
        {
          "output_type": "execute_result",
          "data": {
            "text/plain": [
              "<matplotlib.axes._subplots.AxesSubplot at 0x7f10fd408890>"
            ]
          },
          "metadata": {},
          "execution_count": 15
        },
        {
          "output_type": "display_data",
          "data": {
            "text/plain": [
              "<Figure size 432x288 with 1 Axes>"
            ],
            "image/png": "[encoded data removed]"
          },
          "metadata": {
            "needs_background": "light"
          }
        }
      ]
    },
    {
      "cell_type": "code",
      "source": [
        "max_thresold = dataset['P7'].quantile(0.95)\n",
        "print(max_thresold)\n",
        "\n",
        "\n",
        "min_thresold = dataset['P7'].quantile(0.05)\n",
        "print(min_thresold)\n",
        "\n",
        "'''\n",
        "dataset = dataset[(dataset['P7']<max_thresold) & (dataset['P7']>min_thresold)]\n",
        "print(dataset[(dataset['P7']<max_thresold) & (dataset['P7']>min_thresold)][\"Class\"].sum())\n",
        "'''\n",
        "\n",
        "sns.boxplot(x=dataset[\"P7\"])"
      ],
      "metadata": {
        "colab": {
          "base_uri": "https://localhost:8080/",
          "height": 331
        },
        "id": "L8HKz98tJGvO",
        "outputId": "a84482ef-64d2-42e0-ca79-7a0f257e031b"
      },
      "execution_count": 16,
      "outputs": [
        {
          "output_type": "stream",
          "name": "stdout",
          "text": [
            "1.4064432371999989\n",
            "-1.434387175\n"
          ]
        },
        {
          "output_type": "execute_result",
          "data": {
            "text/plain": [
              "<matplotlib.axes._subplots.AxesSubplot at 0x7f10fd3f77d0>"
            ]
          },
          "metadata": {},
          "execution_count": 16
        },
        {
          "output_type": "display_data",
          "data": {
            "text/plain": [
              "<Figure size 432x288 with 1 Axes>"
            ],
            "image/png": "[encoded data removed]"
          },
          "metadata": {
            "needs_background": "light"
          }
        }
      ]
    },
    {
      "cell_type": "code",
      "source": [
        "max_thresold = dataset['P8'].quantile(0.95)\n",
        "print(max_thresold)\n",
        "\n",
        "\n",
        "min_thresold = dataset['P8'].quantile(0.05)\n",
        "print(min_thresold)\n",
        "\n",
        "'''\n",
        "dataset = dataset[(dataset['P8']<max_thresold) & (dataset['P8']>min_thresold)]\n",
        "print(dataset[(dataset['P8']<max_thresold) & (dataset['P8']>min_thresold)][\"Class\"].sum())\n",
        "'''\n",
        "\n",
        "sns.boxplot(x=dataset[\"P8\"])"
      ],
      "metadata": {
        "colab": {
          "base_uri": "https://localhost:8080/",
          "height": 331
        },
        "id": "v8uJPYm4xCTN",
        "outputId": "13c85676-fe44-4ca2-dd87-dc672fa7c43b"
      },
      "execution_count": 17,
      "outputs": [
        {
          "output_type": "stream",
          "name": "stdout",
          "text": [
            "1.0485980213999992\n",
            "-0.8507066254\n"
          ]
        },
        {
          "output_type": "execute_result",
          "data": {
            "text/plain": [
              "<matplotlib.axes._subplots.AxesSubplot at 0x7f10fd36ca10>"
            ]
          },
          "metadata": {},
          "execution_count": 17
        },
        {
          "output_type": "display_data",
          "data": {
            "text/plain": [
              "<Figure size 432x288 with 1 Axes>"
            ],
            "image/png": "[encoded data removed]"
          },
          "metadata": {
            "needs_background": "light"
          }
        }
      ]
    },
    {
      "cell_type": "code",
      "source": [
        "max_thresold = dataset['P9'].quantile(0.95)\n",
        "print(max_thresold)\n",
        "\n",
        "\n",
        "min_thresold = dataset['P9'].quantile(0.05)\n",
        "print(min_thresold)\n",
        "\n",
        "'''\n",
        "dataset = dataset[(dataset['P9']<max_thresold) & (dataset['P9']>min_thresold)]\n",
        "print(dataset[(dataset['P9']<max_thresold) & (dataset['P9']>min_thresold)][\"Class\"].sum())\n",
        "'''\n",
        "\n",
        "sns.boxplot(x=dataset[\"P9\"])"
      ],
      "metadata": {
        "colab": {
          "base_uri": "https://localhost:8080/",
          "height": 331
        },
        "id": "6dV60t2sJZI3",
        "outputId": "7dd4da34-6da3-4297-91d5-2e5ba58ce7bb"
      },
      "execution_count": 18,
      "outputs": [
        {
          "output_type": "stream",
          "name": "stdout",
          "text": [
            "1.7812399485999997\n",
            "-1.7572971931999999\n"
          ]
        },
        {
          "output_type": "execute_result",
          "data": {
            "text/plain": [
              "<matplotlib.axes._subplots.AxesSubplot at 0x7f10fd2e1a50>"
            ]
          },
          "metadata": {},
          "execution_count": 18
        },
        {
          "output_type": "display_data",
          "data": {
            "text/plain": [
              "<Figure size 432x288 with 1 Axes>"
            ],
            "image/png": "[encoded data removed]"
          },
          "metadata": {
            "needs_background": "light"
          }
        }
      ]
    },
    {
      "cell_type": "code",
      "source": [
        "max_thresold = dataset['P10'].quantile(0.95)\n",
        "print(max_thresold)\n",
        "\n",
        "\n",
        "min_thresold = dataset['P10'].quantile(0.05)\n",
        "print(min_thresold)\n",
        "\n",
        "'''\n",
        "dataset = dataset[(dataset['P10']<max_thresold) & (dataset['P10']>min_thresold)]\n",
        "print(dataset[(dataset['P10']<max_thresold) & (dataset['P10']>min_thresold)][\"Class\"].sum())\n",
        "'''\n",
        "\n",
        "sns.boxplot(x=dataset[\"P10\"])"
      ],
      "metadata": {
        "colab": {
          "base_uri": "https://localhost:8080/",
          "height": 331
        },
        "id": "HuPNlgLSKb-3",
        "outputId": "1722ce59-56e6-437e-bf77-1c6afcdc82c5"
      },
      "execution_count": 19,
      "outputs": [
        {
          "output_type": "stream",
          "name": "stdout",
          "text": [
            "1.5484770681999998\n",
            "-1.3395511846000001\n"
          ]
        },
        {
          "output_type": "execute_result",
          "data": {
            "text/plain": [
              "<matplotlib.axes._subplots.AxesSubplot at 0x7f10fd240e50>"
            ]
          },
          "metadata": {},
          "execution_count": 19
        },
        {
          "output_type": "display_data",
          "data": {
            "text/plain": [
              "<Figure size 432x288 with 1 Axes>"
            ],
            "image/png": "[encoded data removed]"
          },
          "metadata": {
            "needs_background": "light"
          }
        }
      ]
    },
    {
      "cell_type": "code",
      "source": [
        "max_thresold = dataset['P11'].quantile(0.95)\n",
        "print(max_thresold)\n",
        "\n",
        "\n",
        "min_thresold = dataset['P11'].quantile(0.05)\n",
        "print(min_thresold)\n",
        "\n",
        "'''\n",
        "dataset = dataset[(dataset['P11']<max_thresold) & (dataset['P11']>min_thresold)]\n",
        "print(dataset[(dataset['P11']<max_thresold) & (dataset['P11']>min_thresold)][\"Class\"].sum())\n",
        "'''\n",
        "\n",
        "sns.boxplot(x=dataset[\"P11\"])"
      ],
      "metadata": {
        "colab": {
          "base_uri": "https://localhost:8080/",
          "height": 331
        },
        "id": "a598vSsdK8U3",
        "outputId": "9dbe9781-e228-48dd-eda4-9ed6aef1b1ac"
      },
      "execution_count": 20,
      "outputs": [
        {
          "output_type": "stream",
          "name": "stdout",
          "text": [
            "1.6131284425999994\n",
            "-1.5765145418\n"
          ]
        },
        {
          "output_type": "execute_result",
          "data": {
            "text/plain": [
              "<matplotlib.axes._subplots.AxesSubplot at 0x7f10fd231690>"
            ]
          },
          "metadata": {},
          "execution_count": 20
        },
        {
          "output_type": "display_data",
          "data": {
            "text/plain": [
              "<Figure size 432x288 with 1 Axes>"
            ],
            "image/png": "[encoded data removed]"
          },
          "metadata": {
            "needs_background": "light"
          }
        }
      ]
    },
    {
      "cell_type": "code",
      "source": [
        "max_thresold = dataset['P12'].quantile(0.95)\n",
        "print(max_thresold)\n",
        "\n",
        "\n",
        "min_thresold = dataset['P12'].quantile(0.05)\n",
        "print(min_thresold)\n",
        "\n",
        "'''\n",
        "dataset = dataset[(dataset['P12']<max_thresold) & (dataset['P12']>min_thresold)]\n",
        "print(dataset[(dataset['P12']<max_thresold) & (dataset['P12']>min_thresold)][\"Class\"].sum())\n",
        "'''\n",
        "\n",
        "sns.boxplot(x=dataset[\"P12\"])"
      ],
      "metadata": {
        "colab": {
          "base_uri": "https://localhost:8080/",
          "height": 331
        },
        "id": "WS2V_IRKLJZ3",
        "outputId": "abbce8a4-88bd-4998-bdb0-d521b2328929"
      },
      "execution_count": 21,
      "outputs": [
        {
          "output_type": "stream",
          "name": "stdout",
          "text": [
            "1.242983082799999\n",
            "-1.9644966623999998\n"
          ]
        },
        {
          "output_type": "execute_result",
          "data": {
            "text/plain": [
              "<matplotlib.axes._subplots.AxesSubplot at 0x7f10fd1d4d50>"
            ]
          },
          "metadata": {},
          "execution_count": 21
        },
        {
          "output_type": "display_data",
          "data": {
            "text/plain": [
              "<Figure size 432x288 with 1 Axes>"
            ],
            "image/png": "[encoded data removed]"
          },
          "metadata": {
            "needs_background": "light"
          }
        }
      ]
    },
    {
      "cell_type": "code",
      "source": [
        "max_thresold = dataset['P13'].quantile(0.95)\n",
        "print(max_thresold)\n",
        "\n",
        "\n",
        "min_thresold = dataset['P13'].quantile(0.05)\n",
        "print(min_thresold)\n",
        "\n",
        "'''\n",
        "dataset = dataset[(dataset['P13']<max_thresold) & (dataset['P13']>min_thresold)]\n",
        "print(dataset[(dataset['P13']<max_thresold) & (dataset['P13']>min_thresold)][\"Class\"].sum())\n",
        "'''\n",
        "\n",
        "sns.boxplot(x=dataset[\"P13\"])"
      ],
      "metadata": {
        "colab": {
          "base_uri": "https://localhost:8080/",
          "height": 331
        },
        "id": "qLKmiWVnLhrO",
        "outputId": "82a5564c-279d-49fc-cca0-99b4600f53bc"
      },
      "execution_count": 22,
      "outputs": [
        {
          "output_type": "stream",
          "name": "stdout",
          "text": [
            "1.6049166671999997\n",
            "-1.6395453463999998\n"
          ]
        },
        {
          "output_type": "execute_result",
          "data": {
            "text/plain": [
              "<matplotlib.axes._subplots.AxesSubplot at 0x7f10fd10edd0>"
            ]
          },
          "metadata": {},
          "execution_count": 22
        },
        {
          "output_type": "display_data",
          "data": {
            "text/plain": [
              "<Figure size 432x288 with 1 Axes>"
            ],
            "image/png": "[encoded data removed]"
          },
          "metadata": {
            "needs_background": "light"
          }
        }
      ]
    },
    {
      "cell_type": "code",
      "source": [
        "max_thresold = dataset['P14'].quantile(0.95)\n",
        "print(max_thresold)\n",
        "\n",
        "\n",
        "min_thresold = dataset['P14'].quantile(0.05)\n",
        "print(min_thresold)\n",
        "\n",
        "'''\n",
        "dataset = dataset[(dataset['P14']<max_thresold) & (dataset['P14']>min_thresold)]\n",
        "print(dataset[(dataset['P14']<max_thresold) & (dataset['P14']>min_thresold)][\"Class\"].sum())\n",
        "'''\n",
        "\n",
        "sns.boxplot(x=dataset[\"P14\"])"
      ],
      "metadata": {
        "colab": {
          "base_uri": "https://localhost:8080/",
          "height": 331
        },
        "id": "zaaOdDMMMjdK",
        "outputId": "845c433b-c4d7-492c-dd2c-4f95ea417487"
      },
      "execution_count": 23,
      "outputs": [
        {
          "output_type": "stream",
          "name": "stdout",
          "text": [
            "1.3920970049999997\n",
            "-1.4437502418000001\n"
          ]
        },
        {
          "output_type": "execute_result",
          "data": {
            "text/plain": [
              "<matplotlib.axes._subplots.AxesSubplot at 0x7f10fd59a410>"
            ]
          },
          "metadata": {},
          "execution_count": 23
        },
        {
          "output_type": "display_data",
          "data": {
            "text/plain": [
              "<Figure size 432x288 with 1 Axes>"
            ],
            "image/png": "[encoded data removed]"
          },
          "metadata": {
            "needs_background": "light"
          }
        }
      ]
    },
    {
      "cell_type": "code",
      "source": [
        "max_thresold = dataset['P15'].quantile(0.95)\n",
        "print(max_thresold)\n",
        "\n",
        "\n",
        "min_thresold = dataset['P15'].quantile(0.05)\n",
        "print(min_thresold)\n",
        "\n",
        "'''\n",
        "dataset = dataset[(dataset['P15']<max_thresold) & (dataset['P15']>min_thresold)]\n",
        "print(dataset[(dataset['P15']<max_thresold) & (dataset['P15']>min_thresold)][\"Class\"].sum())\n",
        "'''\n",
        "\n",
        "sns.boxplot(x=dataset[\"P15\"])"
      ],
      "metadata": {
        "colab": {
          "base_uri": "https://localhost:8080/",
          "height": 331
        },
        "id": "ShlRfVG4M18O",
        "outputId": "df3d3827-0113-4a7c-f558-e18dae2b8aa6"
      },
      "execution_count": 24,
      "outputs": [
        {
          "output_type": "stream",
          "name": "stdout",
          "text": [
            "1.3744091538\n",
            "-1.591650388\n"
          ]
        },
        {
          "output_type": "execute_result",
          "data": {
            "text/plain": [
              "<matplotlib.axes._subplots.AxesSubplot at 0x7f10fd231190>"
            ]
          },
          "metadata": {},
          "execution_count": 24
        },
        {
          "output_type": "display_data",
          "data": {
            "text/plain": [
              "<Figure size 432x288 with 1 Axes>"
            ],
            "image/png": "[encoded data removed]"
          },
          "metadata": {
            "needs_background": "light"
          }
        }
      ]
    },
    {
      "cell_type": "code",
      "source": [
        "max_thresold = dataset['P16'].quantile(0.95)\n",
        "print(max_thresold)\n",
        "\n",
        "\n",
        "min_thresold = dataset['P16'].quantile(0.05)\n",
        "print(min_thresold)\n",
        "\n",
        "'''\n",
        "dataset = dataset[(dataset['P16']<max_thresold) & (dataset['P16']>min_thresold)]\n",
        "print(dataset[(dataset['P16']<max_thresold) & (dataset['P16']>min_thresold)][\"Class\"].sum())\n",
        "'''\n",
        "\n",
        "sns.boxplot(x=dataset[\"P16\"])"
      ],
      "metadata": {
        "colab": {
          "base_uri": "https://localhost:8080/",
          "height": 331
        },
        "id": "J5Gnc_Y6NYRa",
        "outputId": "48afdf83-b05c-4cf4-ae86-720da629252c"
      },
      "execution_count": 25,
      "outputs": [
        {
          "output_type": "stream",
          "name": "stdout",
          "text": [
            "1.3243033913999995\n",
            "-1.4962567951999999\n"
          ]
        },
        {
          "output_type": "execute_result",
          "data": {
            "text/plain": [
              "<matplotlib.axes._subplots.AxesSubplot at 0x7f10fd036610>"
            ]
          },
          "metadata": {},
          "execution_count": 25
        },
        {
          "output_type": "display_data",
          "data": {
            "text/plain": [
              "<Figure size 432x288 with 1 Axes>"
            ],
            "image/png": "[encoded data removed]"
          },
          "metadata": {
            "needs_background": "light"
          }
        }
      ]
    },
    {
      "cell_type": "code",
      "source": [
        "max_thresold = dataset['P17'].quantile(0.95)\n",
        "print(max_thresold)\n",
        "\n",
        "\n",
        "min_thresold = dataset['P17'].quantile(0.05)\n",
        "print(min_thresold)\n",
        "\n",
        "'''\n",
        "dataset = dataset[(dataset['P17']<max_thresold) & (dataset['P17']>min_thresold)]\n",
        "print(dataset[(dataset['P17']<max_thresold) & (dataset['P17']>min_thresold)][\"Class\"].sum())\n",
        "'''\n",
        "\n",
        "sns.boxplot(x=dataset[\"P17\"])"
      ],
      "metadata": {
        "colab": {
          "base_uri": "https://localhost:8080/",
          "height": 331
        },
        "id": "QVb_Elj7OS4G",
        "outputId": "d4503461-66dd-4d8a-e1dc-cea44c8224ee"
      },
      "execution_count": 26,
      "outputs": [
        {
          "output_type": "stream",
          "name": "stdout",
          "text": [
            "1.2764815541999999\n",
            "-0.981633226\n"
          ]
        },
        {
          "output_type": "execute_result",
          "data": {
            "text/plain": [
              "<matplotlib.axes._subplots.AxesSubplot at 0x7f10fe3e1150>"
            ]
          },
          "metadata": {},
          "execution_count": 26
        },
        {
          "output_type": "display_data",
          "data": {
            "text/plain": [
              "<Figure size 432x288 with 1 Axes>"
            ],
            "image/png": "[encoded data removed]"
          },
          "metadata": {
            "needs_background": "light"
          }
        }
      ]
    },
    {
      "cell_type": "code",
      "source": [
        "max_thresold = dataset['P18'].quantile(0.95)\n",
        "print(max_thresold)\n",
        "\n",
        "\n",
        "min_thresold = dataset['P18'].quantile(0.05)\n",
        "print(min_thresold)\n",
        "\n",
        "'''\n",
        "dataset = dataset[(dataset['P18']<max_thresold) & (dataset['P18']>min_thresold)]\n",
        "print(dataset[(dataset['P18']<max_thresold) & (dataset['P18']>min_thresold)][\"Class\"].sum())\n",
        "'''\n",
        "\n",
        "sns.boxplot(x=dataset[\"P18\"])"
      ],
      "metadata": {
        "colab": {
          "base_uri": "https://localhost:8080/",
          "height": 331
        },
        "id": "v-UUh_WQO0DZ",
        "outputId": "63656da1-9c5b-4b7f-8e88-98429f04b8dd"
      },
      "execution_count": 27,
      "outputs": [
        {
          "output_type": "stream",
          "name": "stdout",
          "text": [
            "1.3933037115999987\n",
            "-1.3628391564\n"
          ]
        },
        {
          "output_type": "execute_result",
          "data": {
            "text/plain": [
              "<matplotlib.axes._subplots.AxesSubplot at 0x7f10fcf6e510>"
            ]
          },
          "metadata": {},
          "execution_count": 27
        },
        {
          "output_type": "display_data",
          "data": {
            "text/plain": [
              "<Figure size 432x288 with 1 Axes>"
            ],
            "image/png": "[encoded data removed]"
          },
          "metadata": {
            "needs_background": "light"
          }
        }
      ]
    },
    {
      "cell_type": "code",
      "source": [
        "max_thresold = dataset['P19'].quantile(0.95)\n",
        "print(max_thresold)\n",
        "\n",
        "\n",
        "min_thresold = dataset['P19'].quantile(0.05)\n",
        "print(min_thresold)\n",
        "\n",
        "'''\n",
        "dataset = dataset[(dataset['P19']<max_thresold) & (dataset['P19']>min_thresold)]\n",
        "print(dataset[(dataset['P19']<max_thresold) & (dataset['P19']>min_thresold)][\"Class\"].sum())\n",
        "'''\n",
        "\n",
        "sns.boxplot(x=dataset[\"P19\"])"
      ],
      "metadata": {
        "colab": {
          "base_uri": "https://localhost:8080/",
          "height": 331
        },
        "id": "qlSF4RP4PTo5",
        "outputId": "b9b3e2aa-b095-4049-8625-0fb340ab4c3e"
      },
      "execution_count": 28,
      "outputs": [
        {
          "output_type": "stream",
          "name": "stdout",
          "text": [
            "1.2874015135999997\n",
            "-1.3565933118\n"
          ]
        },
        {
          "output_type": "execute_result",
          "data": {
            "text/plain": [
              "<matplotlib.axes._subplots.AxesSubplot at 0x7f10fce85790>"
            ]
          },
          "metadata": {},
          "execution_count": 28
        },
        {
          "output_type": "display_data",
          "data": {
            "text/plain": [
              "<Figure size 432x288 with 1 Axes>"
            ],
            "image/png": "[encoded data removed]"
          },
          "metadata": {
            "needs_background": "light"
          }
        }
      ]
    },
    {
      "cell_type": "code",
      "source": [
        "max_thresold = dataset['P20'].quantile(0.95)\n",
        "print(max_thresold)\n",
        "\n",
        "min_thresold = dataset['P20'].quantile(0.05)\n",
        "print(min_thresold)\n",
        "\n",
        "'''\n",
        "dataset = dataset[(dataset['P20']<max_thresold) & (dataset['P20']>min_thresold)]\n",
        "print(dataset[(dataset['P20']<max_thresold) & (dataset['P20']>min_thresold)][\"Class\"].sum())\n",
        "'''\n",
        "\n",
        "sns.boxplot(x=dataset[\"P20\"])"
      ],
      "metadata": {
        "colab": {
          "base_uri": "https://localhost:8080/",
          "height": 331
        },
        "id": "TYLKnBfVPoYh",
        "outputId": "a289a03b-e1b5-42e6-8a82-bdbadc5a2f51"
      },
      "execution_count": 29,
      "outputs": [
        {
          "output_type": "stream",
          "name": "stdout",
          "text": [
            "0.8364623495999994\n",
            "-0.5603635337999999\n"
          ]
        },
        {
          "output_type": "execute_result",
          "data": {
            "text/plain": [
              "<matplotlib.axes._subplots.AxesSubplot at 0x7f10fce711d0>"
            ]
          },
          "metadata": {},
          "execution_count": 29
        },
        {
          "output_type": "display_data",
          "data": {
            "text/plain": [
              "<Figure size 432x288 with 1 Axes>"
            ],
            "image/png": "[encoded data removed]"
          },
          "metadata": {
            "needs_background": "light"
          }
        }
      ]
    },
    {
      "cell_type": "code",
      "source": [
        "max_thresold = dataset['P21'].quantile(0.95)\n",
        "print(max_thresold)\n",
        "\n",
        "min_thresold = dataset['P21'].quantile(0.05)\n",
        "print(min_thresold)\n",
        "\n",
        "'''\n",
        "dataset = dataset[(dataset['P21']<max_thresold) & (dataset['P21']>min_thresold)]\n",
        "print(dataset[(dataset['P21']<max_thresold) & (dataset['P21']>min_thresold)][\"Class\"].sum())\n",
        "'''\n",
        "\n",
        "sns.boxplot(x=dataset[\"P21\"])"
      ],
      "metadata": {
        "colab": {
          "base_uri": "https://localhost:8080/",
          "height": 331
        },
        "id": "c-IuoWXFxO3c",
        "outputId": "274aea33-5caa-46b6-8509-8744bd2f3af4"
      },
      "execution_count": 30,
      "outputs": [
        {
          "output_type": "stream",
          "name": "stdout",
          "text": [
            "0.5401274583999993\n",
            "-0.5036268145999999\n"
          ]
        },
        {
          "output_type": "execute_result",
          "data": {
            "text/plain": [
              "<matplotlib.axes._subplots.AxesSubplot at 0x7f10fcdf6a10>"
            ]
          },
          "metadata": {},
          "execution_count": 30
        },
        {
          "output_type": "display_data",
          "data": {
            "text/plain": [
              "<Figure size 432x288 with 1 Axes>"
            ],
            "image/png": "[encoded data removed]"
          },
          "metadata": {
            "needs_background": "light"
          }
        }
      ]
    },
    {
      "cell_type": "code",
      "source": [
        "max_thresold = dataset['P22'].quantile(0.95)\n",
        "print(max_thresold)\n",
        "\n",
        "min_thresold = dataset['P22'].quantile(0.05)\n",
        "print(min_thresold)\n",
        "\n",
        "'''\n",
        "dataset = dataset[(dataset['P22']<max_thresold) & (dataset['P22']>min_thresold)]\n",
        "print(dataset[(dataset['P22']<max_thresold) & (dataset['P22']>min_thresold)][\"Class\"].sum())\n",
        "'''\n",
        "\n",
        "sns.boxplot(x=dataset[\"P22\"])"
      ],
      "metadata": {
        "colab": {
          "base_uri": "https://localhost:8080/",
          "height": 331
        },
        "id": "sdnz4FlNRCV9",
        "outputId": "bbfa13dd-55af-46ec-c285-557445a306bd"
      },
      "execution_count": 31,
      "outputs": [
        {
          "output_type": "stream",
          "name": "stdout",
          "text": [
            "1.1298653993999999\n",
            "-1.0803271196\n"
          ]
        },
        {
          "output_type": "execute_result",
          "data": {
            "text/plain": [
              "<matplotlib.axes._subplots.AxesSubplot at 0x7f10fcd60ad0>"
            ]
          },
          "metadata": {},
          "execution_count": 31
        },
        {
          "output_type": "display_data",
          "data": {
            "text/plain": [
              "<Figure size 432x288 with 1 Axes>"
            ],
            "image/png": "[encoded data removed]"
          },
          "metadata": {
            "needs_background": "light"
          }
        }
      ]
    },
    {
      "cell_type": "code",
      "source": [
        "max_thresold = dataset['P23'].quantile(0.95)\n",
        "print(max_thresold)\n",
        "\n",
        "min_thresold = dataset['P23'].quantile(0.05)\n",
        "print(min_thresold)\n",
        "\n",
        "'''\n",
        "dataset = dataset[(dataset['P23']<max_thresold) & (dataset['P23']>min_thresold)]\n",
        "print(dataset[(dataset['P23']<max_thresold) & (dataset['P23']>min_thresold)][\"Class\"].sum())\n",
        "'''\n",
        "\n",
        "sns.boxplot(x=dataset[\"P23\"])"
      ],
      "metadata": {
        "colab": {
          "base_uri": "https://localhost:8080/",
          "height": 331
        },
        "id": "ggWYyTFFRCE1",
        "outputId": "77bad16f-114b-404b-d377-7cf79ac21c27"
      },
      "execution_count": 32,
      "outputs": [
        {
          "output_type": "stream",
          "name": "stdout",
          "text": [
            "0.48831160659999984\n",
            "-0.473210494\n"
          ]
        },
        {
          "output_type": "execute_result",
          "data": {
            "text/plain": [
              "<matplotlib.axes._subplots.AxesSubplot at 0x7f10fcccbf10>"
            ]
          },
          "metadata": {},
          "execution_count": 32
        },
        {
          "output_type": "display_data",
          "data": {
            "text/plain": [
              "<Figure size 432x288 with 1 Axes>"
            ],
            "image/png": "[encoded data removed]"
          },
          "metadata": {
            "needs_background": "light"
          }
        }
      ]
    },
    {
      "cell_type": "code",
      "source": [
        "max_thresold = dataset['P24'].quantile(0.95)\n",
        "print(max_thresold)\n",
        "\n",
        "min_thresold = dataset['P24'].quantile(0.05)\n",
        "print(min_thresold)\n",
        "\n",
        "'''\n",
        "dataset = dataset[(dataset['P24']<max_thresold) & (dataset['P24']>min_thresold)]\n",
        "print(dataset[(dataset['P24']<max_thresold) & (dataset['P24']>min_thresold)][\"Class\"].sum())\n",
        "'''\n",
        "\n",
        "sns.boxplot(x=dataset[\"P24\"])"
      ],
      "metadata": {
        "colab": {
          "base_uri": "https://localhost:8080/",
          "height": 331
        },
        "id": "RYBCJfB0RB81",
        "outputId": "389297d9-ca1d-4c9c-906e-05d87e47771a"
      },
      "execution_count": 33,
      "outputs": [
        {
          "output_type": "stream",
          "name": "stdout",
          "text": [
            "0.8636928489999997\n",
            "-1.1449491696\n"
          ]
        },
        {
          "output_type": "execute_result",
          "data": {
            "text/plain": [
              "<matplotlib.axes._subplots.AxesSubplot at 0x7f10fcca8a50>"
            ]
          },
          "metadata": {},
          "execution_count": 33
        },
        {
          "output_type": "display_data",
          "data": {
            "text/plain": [
              "<Figure size 432x288 with 1 Axes>"
            ],
            "image/png": "[encoded data removed]"
          },
          "metadata": {
            "needs_background": "light"
          }
        }
      ]
    },
    {
      "cell_type": "code",
      "source": [
        "max_thresold = dataset['P25'].quantile(0.95)\n",
        "print(max_thresold)\n",
        "\n",
        "\n",
        "min_thresold = dataset['P25'].quantile(0.05)\n",
        "print(min_thresold)\n",
        "\n",
        "'''\n",
        "dataset = dataset[(dataset['P25']<max_thresold) & (dataset['P25']>min_thresold)]\n",
        "print(dataset[(dataset['P25']<max_thresold) & (dataset['P25']>min_thresold)][\"Class\"].sum())\n",
        "'''\n",
        "\n",
        "sns.boxplot(x=dataset[\"P25\"])"
      ],
      "metadata": {
        "colab": {
          "base_uri": "https://localhost:8080/",
          "height": 331
        },
        "id": "ojpxHO1jRB4M",
        "outputId": "925497f0-6c28-41f2-dbaf-ba4f44782399"
      },
      "execution_count": 34,
      "outputs": [
        {
          "output_type": "stream",
          "name": "stdout",
          "text": [
            "0.7618424555999996\n",
            "-0.8259176157999999\n"
          ]
        },
        {
          "output_type": "execute_result",
          "data": {
            "text/plain": [
              "<matplotlib.axes._subplots.AxesSubplot at 0x7f10fcc2e890>"
            ]
          },
          "metadata": {},
          "execution_count": 34
        },
        {
          "output_type": "display_data",
          "data": {
            "text/plain": [
              "<Figure size 432x288 with 1 Axes>"
            ],
            "image/png": "[encoded data removed]"
          },
          "metadata": {
            "needs_background": "light"
          }
        }
      ]
    },
    {
      "cell_type": "code",
      "source": [
        "max_thresold = dataset['P26'].quantile(0.95)\n",
        "print(max_thresold)\n",
        "\n",
        "\n",
        "min_thresold = dataset['P26'].quantile(0.05)\n",
        "print(min_thresold)\n",
        "\n",
        "'''\n",
        "dataset = dataset[(dataset['P26']<max_thresold) & (dataset['P26']>min_thresold)]\n",
        "print(dataset[(dataset['P26']<max_thresold) & (dataset['P26']>min_thresold)][\"Class\"].sum())\n",
        "'''\n",
        "\n",
        "sns.boxplot(x=dataset[\"P26\"])"
      ],
      "metadata": {
        "colab": {
          "base_uri": "https://localhost:8080/",
          "height": 331
        },
        "id": "GXkB9JhTRBxp",
        "outputId": "b1ff4c7f-8e38-4e2e-cdc5-28ed47dd0910"
      },
      "execution_count": 35,
      "outputs": [
        {
          "output_type": "stream",
          "name": "stdout",
          "text": [
            "0.9196799927999996\n",
            "-0.6976027238\n"
          ]
        },
        {
          "output_type": "execute_result",
          "data": {
            "text/plain": [
              "<matplotlib.axes._subplots.AxesSubplot at 0x7f10fcba07d0>"
            ]
          },
          "metadata": {},
          "execution_count": 35
        },
        {
          "output_type": "display_data",
          "data": {
            "text/plain": [
              "<Figure size 432x288 with 1 Axes>"
            ],
            "image/png": "[encoded data removed]"
          },
          "metadata": {
            "needs_background": "light"
          }
        }
      ]
    },
    {
      "cell_type": "code",
      "source": [
        "max_thresold = dataset['P27'].quantile(0.95)\n",
        "print(max_thresold)\n",
        "\n",
        "\n",
        "min_thresold = dataset['P27'].quantile(0.05)\n",
        "print(min_thresold)\n",
        "\n",
        "'''\n",
        "dataset = dataset[(dataset['P27']<max_thresold) & (dataset['P27']>min_thresold)]\n",
        "print(dataset[(dataset['P27']<max_thresold) & (dataset['P27']>min_thresold)][\"Class\"].sum())\n",
        "'''\n",
        "\n",
        "sns.boxplot(x=dataset[\"P27\"])"
      ],
      "metadata": {
        "colab": {
          "base_uri": "https://localhost:8080/",
          "height": 331
        },
        "id": "EBLj6IY3REWh",
        "outputId": "c7721cff-75fc-4983-e704-a9546d8ed215"
      },
      "execution_count": 36,
      "outputs": [
        {
          "output_type": "stream",
          "name": "stdout",
          "text": [
            "0.3882505977999992\n",
            "-0.41500726019999995\n"
          ]
        },
        {
          "output_type": "execute_result",
          "data": {
            "text/plain": [
              "<matplotlib.axes._subplots.AxesSubplot at 0x7f10fcb0fd50>"
            ]
          },
          "metadata": {},
          "execution_count": 36
        },
        {
          "output_type": "display_data",
          "data": {
            "text/plain": [
              "<Figure size 432x288 with 1 Axes>"
            ],
            "image/png": "[encoded data removed]"
          },
          "metadata": {
            "needs_background": "light"
          }
        }
      ]
    },
    {
      "cell_type": "code",
      "source": [
        "max_thresold = dataset['P28'].quantile(0.95)\n",
        "print(max_thresold)\n",
        "\n",
        "\n",
        "min_thresold = dataset['P28'].quantile(0.05)\n",
        "print(min_thresold)\n",
        "\n",
        "dataset = dataset[(dataset['P28']<max_thresold) & (dataset['P28']>min_thresold)]\n",
        "print(dataset[(dataset['P28']<max_thresold) & (dataset['P28']>min_thresold)][\"Class\"].sum())\n",
        "\n",
        "sns.boxplot(x=dataset[\"P28\"])"
      ],
      "metadata": {
        "colab": {
          "base_uri": "https://localhost:8080/",
          "height": 348
        },
        "id": "524QihmKRBeZ",
        "outputId": "b378d79b-bda9-4275-ef5f-64635e268503"
      },
      "execution_count": 37,
      "outputs": [
        {
          "output_type": "stream",
          "name": "stdout",
          "text": [
            "0.25582104979999987\n",
            "-0.3172958084\n",
            "179\n"
          ]
        },
        {
          "output_type": "execute_result",
          "data": {
            "text/plain": [
              "<matplotlib.axes._subplots.AxesSubplot at 0x7f10fcae17d0>"
            ]
          },
          "metadata": {},
          "execution_count": 37
        },
        {
          "output_type": "display_data",
          "data": {
            "text/plain": [
              "<Figure size 432x288 with 1 Axes>"
            ],
            "image/png": "[encoded data removed]"
          },
          "metadata": {
            "needs_background": "light"
          }
        }
      ]
    },
    {
      "cell_type": "code",
      "source": [
        "dataset.info()"
      ],
      "metadata": {
        "id": "uRz8CiQ5pOKr",
        "colab": {
          "base_uri": "https://localhost:8080/"
        },
        "outputId": "03ca360d-3e66-4c22-e0d6-1469d874064d"
      },
      "execution_count": 38,
      "outputs": [
        {
          "output_type": "stream",
          "name": "stdout",
          "text": [
            "<class 'pandas.core.frame.DataFrame'>\n",
            "Int64Index: 205059 entries, 0 to 227844\n",
            "Data columns (total 31 columns):\n",
            " #   Column  Non-Null Count   Dtype  \n",
            "---  ------  --------------   -----  \n",
            " 0   Time    205059 non-null  int64  \n",
            " 1   P1      205059 non-null  float64\n",
            " 2   P2      205059 non-null  float64\n",
            " 3   P3      205059 non-null  float64\n",
            " 4   P4      205059 non-null  float64\n",
            " 5   P5      205059 non-null  float64\n",
            " 6   P6      205059 non-null  float64\n",
            " 7   P7      205059 non-null  float64\n",
            " 8   P8      205059 non-null  float64\n",
            " 9   P9      205059 non-null  float64\n",
            " 10  P10     205059 non-null  float64\n",
            " 11  P11     205059 non-null  float64\n",
            " 12  P12     205059 non-null  float64\n",
            " 13  P13     205059 non-null  float64\n",
            " 14  P14     205059 non-null  float64\n",
            " 15  P15     205059 non-null  float64\n",
            " 16  P16     205059 non-null  float64\n",
            " 17  P17     205059 non-null  float64\n",
            " 18  P18     205059 non-null  float64\n",
            " 19  P19     205059 non-null  float64\n",
            " 20  P20     205059 non-null  float64\n",
            " 21  P21     205059 non-null  float64\n",
            " 22  P22     205059 non-null  float64\n",
            " 23  P23     205059 non-null  float64\n",
            " 24  P24     205059 non-null  float64\n",
            " 25  P25     205059 non-null  float64\n",
            " 26  P26     205059 non-null  float64\n",
            " 27  P27     205059 non-null  float64\n",
            " 28  P28     205059 non-null  float64\n",
            " 29  Mud     205059 non-null  float64\n",
            " 30  Class   205059 non-null  int64  \n",
            "dtypes: float64(29), int64(2)\n",
            "memory usage: 50.1 MB\n"
          ]
        }
      ]
    },
    {
      "cell_type": "code",
      "source": [
        "dataset.describe()"
      ],
      "metadata": {
        "colab": {
          "base_uri": "https://localhost:8080/",
          "height": 393
        },
        "id": "Pn6g8lvCkmtm",
        "outputId": "96e161dc-d0e3-4ac2-f42b-e03831e974e5"
      },
      "execution_count": 39,
      "outputs": [
        {
          "output_type": "execute_result",
          "data": {
            "text/plain": [
              "                Time             P1             P2             P3  \\\n",
              "count  205059.000000  205059.000000  205059.000000  205059.000000   \n",
              "mean    94497.852072       0.300299       0.006252       0.051481   \n",
              "std     47502.725355       1.480407       1.150533       1.356043   \n",
              "min         0.000000     -28.255053     -25.005993     -26.871339   \n",
              "25%     53941.500000      -0.750360      -0.589670      -0.844287   \n",
              "50%     84016.000000       0.558593       0.035423       0.198158   \n",
              "75%    139164.000000       1.434057       0.730416       1.026907   \n",
              "max    172788.000000       2.454930      21.467203       4.187811   \n",
              "\n",
              "                  P4             P5             P6             P7  \\\n",
              "count  205059.000000  205059.000000  205059.000000  205059.000000   \n",
              "mean        0.001621      -0.017534       0.003433      -0.024811   \n",
              "std         1.345266       1.111514       1.229607       0.903821   \n",
              "min        -5.560118     -17.999630     -14.425011     -41.506796   \n",
              "25%        -0.817874      -0.691706      -0.748990      -0.555308   \n",
              "50%         0.011342      -0.080481      -0.271825       0.016816   \n",
              "75%         0.730940       0.553880       0.375355       0.515838   \n",
              "max        11.737436      20.277728      11.607923      21.915116   \n",
              "\n",
              "                  P8             P9  ...            P21            P22  \\\n",
              "count  205059.000000  205059.000000  ...  205059.000000  205059.000000   \n",
              "mean        0.041088      -0.039707  ...       0.004041      -0.016553   \n",
              "std         0.894426       1.012982  ...       0.578662       0.694686   \n",
              "min       -50.420090     -13.434066  ...     -22.889347      -8.483441   \n",
              "25%        -0.189218      -0.650178  ...      -0.218687      -0.550095   \n",
              "50%         0.028022      -0.067142  ...      -0.028347      -0.009472   \n",
              "75%         0.316569       0.560060  ...       0.179169       0.499052   \n",
              "max         9.673941       7.730701  ...      22.580675       8.361985   \n",
              "\n",
              "                 P23            P24            P25            P26  \\\n",
              "count  205059.000000  205059.000000  205059.000000  205059.000000   \n",
              "mean        0.002957      -0.004089       0.014996       0.003865   \n",
              "std         0.370205       0.602825       0.481723       0.480691   \n",
              "min       -20.794422      -2.836627      -4.221212      -1.855355   \n",
              "25%        -0.152112      -0.358597      -0.301869      -0.323044   \n",
              "50%        -0.009507       0.038264       0.029114      -0.048563   \n",
              "75%         0.140662       0.433049       0.352620       0.239238   \n",
              "max        13.321114       4.022866       3.467907       3.517346   \n",
              "\n",
              "                 P27            P28            Mud          Class  \n",
              "count  205059.000000  205059.000000  205059.000000  205059.000000  \n",
              "mean        0.004455       0.010283      75.878881       0.000873  \n",
              "std         0.218770       0.099386     159.591653       0.029532  \n",
              "min        -5.407824      -0.317280       0.000000       0.000000  \n",
              "25%        -0.065444      -0.046526       5.700000       0.000000  \n",
              "50%         0.000192       0.011025      21.950000       0.000000  \n",
              "75%         0.075949       0.065599      74.950000       0.000000  \n",
              "max         4.359143       0.255810    5714.200000       1.000000  \n",
              "\n",
              "[8 rows x 31 columns]"
            ],
            "text/html": [
              "\n",
              "  <div id=\"df-c1be6330-bf94-44b2-b2d1-30b980aea385\">\n",
              "    <div class=\"colab-df-container\">\n",
              "      <div>\n",
              "<style scoped>\n",
              "    .dataframe tbody tr th:only-of-type {\n",
              "        vertical-align: middle;\n",
              "    }\n",
              "\n",
              "    .dataframe tbody tr th {\n",
              "        vertical-align: top;\n",
              "    }\n",
              "\n",
              "    .dataframe thead th {\n",
              "        text-align: right;\n",
              "    }\n",
              "</style>\n",
              "<table border=\"1\" class=\"dataframe\">\n",
              "  <thead>\n",
              "    <tr style=\"text-align: right;\">\n",
              "      <th></th>\n",
              "      <th>Time</th>\n",
              "      <th>P1</th>\n",
              "      <th>P2</th>\n",
              "      <th>P3</th>\n",
              "      <th>P4</th>\n",
              "      <th>P5</th>\n",
              "      <th>P6</th>\n",
              "      <th>P7</th>\n",
              "      <th>P8</th>\n",
              "      <th>P9</th>\n",
              "      <th>...</th>\n",
              "      <th>P21</th>\n",
              "      <th>P22</th>\n",
              "      <th>P23</th>\n",
              "      <th>P24</th>\n",
              "      <th>P25</th>\n",
              "      <th>P26</th>\n",
              "      <th>P27</th>\n",
              "      <th>P28</th>\n",
              "      <th>Mud</th>\n",
              "      <th>Class</th>\n",
              "    </tr>\n",
              "  </thead>\n",
              "  <tbody>\n",
              "    <tr>\n",
              "      <th>count</th>\n",
              "      <td>205059.000000</td>\n",
              "      <td>205059.000000</td>\n",
              "      <td>205059.000000</td>\n",
              "      <td>205059.000000</td>\n",
              "      <td>205059.000000</td>\n",
              "      <td>205059.000000</td>\n",
              "      <td>205059.000000</td>\n",
              "      <td>205059.000000</td>\n",
              "      <td>205059.000000</td>\n",
              "      <td>205059.000000</td>\n",
              "      <td>...</td>\n",
              "      <td>205059.000000</td>\n",
              "      <td>205059.000000</td>\n",
              "      <td>205059.000000</td>\n",
              "      <td>205059.000000</td>\n",
              "      <td>205059.000000</td>\n",
              "      <td>205059.000000</td>\n",
              "      <td>205059.000000</td>\n",
              "      <td>205059.000000</td>\n",
              "      <td>205059.000000</td>\n",
              "      <td>205059.000000</td>\n",
              "    </tr>\n",
              "    <tr>\n",
              "      <th>mean</th>\n",
              "      <td>94497.852072</td>\n",
              "      <td>0.300299</td>\n",
              "      <td>0.006252</td>\n",
              "      <td>0.051481</td>\n",
              "      <td>0.001621</td>\n",
              "      <td>-0.017534</td>\n",
              "      <td>0.003433</td>\n",
              "      <td>-0.024811</td>\n",
              "      <td>0.041088</td>\n",
              "      <td>-0.039707</td>\n",
              "      <td>...</td>\n",
              "      <td>0.004041</td>\n",
              "      <td>-0.016553</td>\n",
              "      <td>0.002957</td>\n",
              "      <td>-0.004089</td>\n",
              "      <td>0.014996</td>\n",
              "      <td>0.003865</td>\n",
              "      <td>0.004455</td>\n",
              "      <td>0.010283</td>\n",
              "      <td>75.878881</td>\n",
              "      <td>0.000873</td>\n",
              "    </tr>\n",
              "    <tr>\n",
              "      <th>std</th>\n",
              "      <td>47502.725355</td>\n",
              "      <td>1.480407</td>\n",
              "      <td>1.150533</td>\n",
              "      <td>1.356043</td>\n",
              "      <td>1.345266</td>\n",
              "      <td>1.111514</td>\n",
              "      <td>1.229607</td>\n",
              "      <td>0.903821</td>\n",
              "      <td>0.894426</td>\n",
              "      <td>1.012982</td>\n",
              "      <td>...</td>\n",
              "      <td>0.578662</td>\n",
              "      <td>0.694686</td>\n",
              "      <td>0.370205</td>\n",
              "      <td>0.602825</td>\n",
              "      <td>0.481723</td>\n",
              "      <td>0.480691</td>\n",
              "      <td>0.218770</td>\n",
              "      <td>0.099386</td>\n",
              "      <td>159.591653</td>\n",
              "      <td>0.029532</td>\n",
              "    </tr>\n",
              "    <tr>\n",
              "      <th>min</th>\n",
              "      <td>0.000000</td>\n",
              "      <td>-28.255053</td>\n",
              "      <td>-25.005993</td>\n",
              "      <td>-26.871339</td>\n",
              "      <td>-5.560118</td>\n",
              "      <td>-17.999630</td>\n",
              "      <td>-14.425011</td>\n",
              "      <td>-41.506796</td>\n",
              "      <td>-50.420090</td>\n",
              "      <td>-13.434066</td>\n",
              "      <td>...</td>\n",
              "      <td>-22.889347</td>\n",
              "      <td>-8.483441</td>\n",
              "      <td>-20.794422</td>\n",
              "      <td>-2.836627</td>\n",
              "      <td>-4.221212</td>\n",
              "      <td>-1.855355</td>\n",
              "      <td>-5.407824</td>\n",
              "      <td>-0.317280</td>\n",
              "      <td>0.000000</td>\n",
              "      <td>0.000000</td>\n",
              "    </tr>\n",
              "    <tr>\n",
              "      <th>25%</th>\n",
              "      <td>53941.500000</td>\n",
              "      <td>-0.750360</td>\n",
              "      <td>-0.589670</td>\n",
              "      <td>-0.844287</td>\n",
              "      <td>-0.817874</td>\n",
              "      <td>-0.691706</td>\n",
              "      <td>-0.748990</td>\n",
              "      <td>-0.555308</td>\n",
              "      <td>-0.189218</td>\n",
              "      <td>-0.650178</td>\n",
              "      <td>...</td>\n",
              "      <td>-0.218687</td>\n",
              "      <td>-0.550095</td>\n",
              "      <td>-0.152112</td>\n",
              "      <td>-0.358597</td>\n",
              "      <td>-0.301869</td>\n",
              "      <td>-0.323044</td>\n",
              "      <td>-0.065444</td>\n",
              "      <td>-0.046526</td>\n",
              "      <td>5.700000</td>\n",
              "      <td>0.000000</td>\n",
              "    </tr>\n",
              "    <tr>\n",
              "      <th>50%</th>\n",
              "      <td>84016.000000</td>\n",
              "      <td>0.558593</td>\n",
              "      <td>0.035423</td>\n",
              "      <td>0.198158</td>\n",
              "      <td>0.011342</td>\n",
              "      <td>-0.080481</td>\n",
              "      <td>-0.271825</td>\n",
              "      <td>0.016816</td>\n",
              "      <td>0.028022</td>\n",
              "      <td>-0.067142</td>\n",
              "      <td>...</td>\n",
              "      <td>-0.028347</td>\n",
              "      <td>-0.009472</td>\n",
              "      <td>-0.009507</td>\n",
              "      <td>0.038264</td>\n",
              "      <td>0.029114</td>\n",
              "      <td>-0.048563</td>\n",
              "      <td>0.000192</td>\n",
              "      <td>0.011025</td>\n",
              "      <td>21.950000</td>\n",
              "      <td>0.000000</td>\n",
              "    </tr>\n",
              "    <tr>\n",
              "      <th>75%</th>\n",
              "      <td>139164.000000</td>\n",
              "      <td>1.434057</td>\n",
              "      <td>0.730416</td>\n",
              "      <td>1.026907</td>\n",
              "      <td>0.730940</td>\n",
              "      <td>0.553880</td>\n",
              "      <td>0.375355</td>\n",
              "      <td>0.515838</td>\n",
              "      <td>0.316569</td>\n",
              "      <td>0.560060</td>\n",
              "      <td>...</td>\n",
              "      <td>0.179169</td>\n",
              "      <td>0.499052</td>\n",
              "      <td>0.140662</td>\n",
              "      <td>0.433049</td>\n",
              "      <td>0.352620</td>\n",
              "      <td>0.239238</td>\n",
              "      <td>0.075949</td>\n",
              "      <td>0.065599</td>\n",
              "      <td>74.950000</td>\n",
              "      <td>0.000000</td>\n",
              "    </tr>\n",
              "    <tr>\n",
              "      <th>max</th>\n",
              "      <td>172788.000000</td>\n",
              "      <td>2.454930</td>\n",
              "      <td>21.467203</td>\n",
              "      <td>4.187811</td>\n",
              "      <td>11.737436</td>\n",
              "      <td>20.277728</td>\n",
              "      <td>11.607923</td>\n",
              "      <td>21.915116</td>\n",
              "      <td>9.673941</td>\n",
              "      <td>7.730701</td>\n",
              "      <td>...</td>\n",
              "      <td>22.580675</td>\n",
              "      <td>8.361985</td>\n",
              "      <td>13.321114</td>\n",
              "      <td>4.022866</td>\n",
              "      <td>3.467907</td>\n",
              "      <td>3.517346</td>\n",
              "      <td>4.359143</td>\n",
              "      <td>0.255810</td>\n",
              "      <td>5714.200000</td>\n",
              "      <td>1.000000</td>\n",
              "    </tr>\n",
              "  </tbody>\n",
              "</table>\n",
              "<p>8 rows × 31 columns</p>\n",
              "</div>\n",
              "      <button class=\"colab-df-convert\" onclick=\"convertToInteractive('df-c1be6330-bf94-44b2-b2d1-30b980aea385')\"\n",
              "              title=\"Convert this dataframe to an interactive table.\"\n",
              "              style=\"display:none;\">\n",
              "        \n",
              "  <svg xmlns=\"http://www.w3.org/2000/svg\" height=\"24px\"viewBox=\"0 0 24 24\"\n",
              "       width=\"24px\">\n",
              "    <path d=\"M0 0h24v24H0V0z\" fill=\"none\"/>\n",
              "    <path d=\"M18.56 5.44l.94 2.06.94-2.06 2.06-.94-2.06-.94-.94-2.06-.94 2.06-2.06.94zm-11 1L8.5 8.5l.94-2.06 2.06-.94-2.06-.94L8.5 2.5l-.94 2.06-2.06.94zm10 10l.94 2.06.94-2.06 2.06-.94-2.06-.94-.94-2.06-.94 2.06-2.06.94z\"/><path d=\"M17.41 7.96l-1.37-1.37c-.4-.4-.92-.59-1.43-.59-.52 0-1.04.2-1.43.59L10.3 9.45l-7.72 7.72c-.78.78-.78 2.05 0 2.83L4 21.41c.39.39.9.59 1.41.59.51 0 1.02-.2 1.41-.59l7.78-7.78 2.81-2.81c.8-.78.8-2.07 0-2.86zM5.41 20L4 18.59l7.72-7.72 1.47 1.35L5.41 20z\"/>\n",
              "  </svg>\n",
              "      </button>\n",
              "      \n",
              "  <style>\n",
              "    .colab-df-container {\n",
              "      display:flex;\n",
              "      flex-wrap:wrap;\n",
              "      gap: 12px;\n",
              "    }\n",
              "\n",
              "    .colab-df-convert {\n",
              "      background-color: #E8F0FE;\n",
              "      border: none;\n",
              "      border-radius: 50%;\n",
              "      cursor: pointer;\n",
              "      display: none;\n",
              "      fill: #1967D2;\n",
              "      height: 32px;\n",
              "      padding: 0 0 0 0;\n",
              "      width: 32px;\n",
              "    }\n",
              "\n",
              "    .colab-df-convert:hover {\n",
              "      background-color: #E2EBFA;\n",
              "      box-shadow: 0px 1px 2px rgba(60, 64, 67, 0.3), 0px 1px 3px 1px rgba(60, 64, 67, 0.15);\n",
              "      fill: #174EA6;\n",
              "    }\n",
              "\n",
              "    [theme=dark] .colab-df-convert {\n",
              "      background-color: #3B4455;\n",
              "      fill: #D2E3FC;\n",
              "    }\n",
              "\n",
              "    [theme=dark] .colab-df-convert:hover {\n",
              "      background-color: #434B5C;\n",
              "      box-shadow: 0px 1px 3px 1px rgba(0, 0, 0, 0.15);\n",
              "      filter: drop-shadow(0px 1px 2px rgba(0, 0, 0, 0.3));\n",
              "      fill: #FFFFFF;\n",
              "    }\n",
              "  </style>\n",
              "\n",
              "      <script>\n",
              "        const buttonEl =\n",
              "          document.querySelector('#df-c1be6330-bf94-44b2-b2d1-30b980aea385 button.colab-df-convert');\n",
              "        buttonEl.style.display =\n",
              "          google.colab.kernel.accessAllowed ? 'block' : 'none';\n",
              "\n",
              "        async function convertToInteractive(key) {\n",
              "          const element = document.querySelector('#df-c1be6330-bf94-44b2-b2d1-30b980aea385');\n",
              "          const dataTable =\n",
              "            await google.colab.kernel.invokeFunction('convertToInteractive',\n",
              "                                                     [key], {});\n",
              "          if (!dataTable) return;\n",
              "\n",
              "          const docLinkHtml = 'Like what you see? Visit the ' +\n",
              "            '<a target=\"_blank\" href=https://colab.research.google.com/notebooks/data_table.ipynb>data table notebook</a>'\n",
              "            + ' to learn more about interactive tables.';\n",
              "          element.innerHTML = '';\n",
              "          dataTable['output_type'] = 'display_data';\n",
              "          await google.colab.output.renderOutput(dataTable, element);\n",
              "          const docLink = document.createElement('div');\n",
              "          docLink.innerHTML = docLinkHtml;\n",
              "          element.appendChild(docLink);\n",
              "        }\n",
              "      </script>\n",
              "    </div>\n",
              "  </div>\n",
              "  "
            ]
          },
          "metadata": {},
          "execution_count": 39
        }
      ]
    }
  ],
  "metadata": {
    "colab": {
      "collapsed_sections": [],
      "name": "GC_ML_visualization.ipynb",
      "provenance": []
    },
    "kernelspec": {
      "display_name": "Python 3",
      "name": "python3"
    }
  },
  "nbformat": 4,
  "nbformat_minor": 0
}