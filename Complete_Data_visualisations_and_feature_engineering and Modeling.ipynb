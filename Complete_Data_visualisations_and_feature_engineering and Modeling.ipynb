{
  "cells": [
    {
      "cell_type": "code",
      "source": [
        "import numpy as np\n",
        "import pandas as pd\n",
        "import matplotlib.pyplot as plt\n",
        "import seaborn as sns"
      ],
      "metadata": {
        "id": "KCniJ_u2WWTM"
      },
      "execution_count": 1,
      "outputs": []
    },
    {
      "cell_type": "code",
      "source": [
        "from google.colab import drive\n",
        "drive.mount('/content/drive')"
      ],
      "metadata": {
        "id": "c2c6MWC8geFU",
        "outputId": "67d046ef-c599-4da1-8afc-d4d6a4f31fd8",
        "colab": {
          "base_uri": "https://localhost:8080/"
        }
      },
      "execution_count": 2,
      "outputs": [
        {
          "output_type": "stream",
          "name": "stdout",
          "text": [
            "Drive already mounted at /content/drive; to attempt to forcibly remount, call drive.mount(\"/content/drive\", force_remount=True).\n"
          ]
        }
      ]
    },
    {
      "cell_type": "markdown",
      "source": [
        "### Importing the dataset"
      ],
      "metadata": {
        "id": "qHe4XQcRV7XP"
      }
    },
    {
      "cell_type": "code",
      "source": [
        "dataset=pd.read_csv(\"/content/drive/MyDrive/GC ml hackathon/training_set.csv\")\n",
        "\n",
        "x=dataset.iloc[:,2:-1].values\n",
        "y=dataset.iloc[:,-1].values"
      ],
      "metadata": {
        "id": "CtQBo5bXYh8m"
      },
      "execution_count": 3,
      "outputs": []
    },
    {
      "cell_type": "code",
      "source": [
        "x.shape"
      ],
      "metadata": {
        "colab": {
          "base_uri": "https://localhost:8080/"
        },
        "id": "jfgUzdnimQkj",
        "outputId": "63c18219-983c-43cd-9c36-79286143d495"
      },
      "execution_count": 4,
      "outputs": [
        {
          "output_type": "execute_result",
          "data": {
            "text/plain": [
              "(227845, 29)"
            ]
          },
          "metadata": {},
          "execution_count": 4
        }
      ]
    },
    {
      "cell_type": "code",
      "source": [
        "dataset = dataset.drop(['buffer'], axis = 1)"
      ],
      "metadata": {
        "id": "QVPYIzdErhU4"
      },
      "execution_count": 5,
      "outputs": []
    },
    {
      "cell_type": "code",
      "source": [
        "dataset.info()"
      ],
      "metadata": {
        "colab": {
          "base_uri": "https://localhost:8080/"
        },
        "id": "bYzqEEWbWDFH",
        "outputId": "5749da8c-2b9d-4bc5-c352-f9f868f6944d"
      },
      "execution_count": 6,
      "outputs": [
        {
          "output_type": "stream",
          "name": "stdout",
          "text": [
            "<class 'pandas.core.frame.DataFrame'>\n",
            "RangeIndex: 227845 entries, 0 to 227844\n",
            "Data columns (total 31 columns):\n",
            " #   Column  Non-Null Count   Dtype  \n",
            "---  ------  --------------   -----  \n",
            " 0   Time    227845 non-null  int64  \n",
            " 1   P1      227845 non-null  float64\n",
            " 2   P2      227845 non-null  float64\n",
            " 3   P3      227845 non-null  float64\n",
            " 4   P4      227845 non-null  float64\n",
            " 5   P5      227845 non-null  float64\n",
            " 6   P6      227845 non-null  float64\n",
            " 7   P7      227845 non-null  float64\n",
            " 8   P8      227845 non-null  float64\n",
            " 9   P9      227845 non-null  float64\n",
            " 10  P10     227845 non-null  float64\n",
            " 11  P11     227845 non-null  float64\n",
            " 12  P12     227845 non-null  float64\n",
            " 13  P13     227845 non-null  float64\n",
            " 14  P14     227845 non-null  float64\n",
            " 15  P15     227845 non-null  float64\n",
            " 16  P16     227845 non-null  float64\n",
            " 17  P17     227845 non-null  float64\n",
            " 18  P18     227845 non-null  float64\n",
            " 19  P19     227845 non-null  float64\n",
            " 20  P20     227845 non-null  float64\n",
            " 21  P21     227845 non-null  float64\n",
            " 22  P22     227845 non-null  float64\n",
            " 23  P23     227845 non-null  float64\n",
            " 24  P24     227845 non-null  float64\n",
            " 25  P25     227845 non-null  float64\n",
            " 26  P26     227845 non-null  float64\n",
            " 27  P27     227845 non-null  float64\n",
            " 28  P28     227845 non-null  float64\n",
            " 29  Mud     227845 non-null  float64\n",
            " 30  Class   227845 non-null  int64  \n",
            "dtypes: float64(29), int64(2)\n",
            "memory usage: 53.9 MB\n"
          ]
        }
      ]
    },
    {
      "cell_type": "markdown",
      "source": [
        "As there are no missing values and all are in the datatype of either float64 and int64 we dont need to think about missing values and label encoding or one hot encoding (As there are no catergorial or object datatypes)"
      ],
      "metadata": {
        "id": "lzBfQm3GWFqx"
      }
    },
    {
      "cell_type": "code",
      "source": [
        "dataset.head(10)"
      ],
      "metadata": {
        "colab": {
          "base_uri": "https://localhost:8080/",
          "height": 456
        },
        "id": "yhHk5pogkugM",
        "outputId": "5418fb4f-c415-4632-e61b-5b268965b82a"
      },
      "execution_count": 7,
      "outputs": [
        {
          "output_type": "execute_result",
          "data": {
            "text/plain": [
              "     Time        P1        P2        P3        P4        P5        P6  \\\n",
              "0  134454  1.997387  0.028631 -1.885047  0.341234  0.350263 -0.900297   \n",
              "1   78980 -0.851823  1.446070  0.679759  0.007973  0.617801 -1.210695   \n",
              "2   55273  1.119963  0.546055  0.877856  2.415833 -0.282554 -0.336366   \n",
              "3   36417  1.328189 -0.305950 -0.998639 -1.236795  1.733800  3.236893   \n",
              "4  154977 -0.618361 -0.861401  0.513524  1.677866 -0.143396 -0.510276   \n",
              "5   67706 -1.204396  0.895136  1.416752 -1.515809 -0.232933 -0.278645   \n",
              "6   51705  1.174498  0.363603 -0.213642  0.874376  0.561873 -0.105249   \n",
              "7   36512 -0.407854  0.940336  1.533733 -0.018123 -0.219400 -0.934602   \n",
              "8  159573  2.008964 -0.026310 -1.837550  0.313541  0.272992 -0.816407   \n",
              "9   19901  1.337836 -0.587493  0.724083 -0.300644 -1.207252 -0.605452   \n",
              "\n",
              "         P7        P8        P9  ...       P21       P22       P23       P24  \\\n",
              "0  0.119352 -0.157746  0.474746  ...  0.229023  0.729647 -0.082236 -0.550494   \n",
              "1  1.369637 -0.442985 -0.466060  ...  0.130170  0.471780 -0.215118  0.402875   \n",
              "2  0.018747  0.042135 -0.982280  ... -0.183696 -0.662870  0.156578  0.471700   \n",
              "3 -0.779472  0.830587  0.258104  ... -0.183574 -0.678249  0.056192  1.054628   \n",
              "4 -1.020312  0.734283  0.980549  ...  0.029121 -0.269169  0.410990 -0.091444   \n",
              "5  0.470024  0.291977  0.256230  ... -0.094880 -0.079252  0.038514  0.017078   \n",
              "6  0.505197 -0.178866 -0.364710  ... -0.371282 -1.095817  0.010938 -0.791478   \n",
              "7  0.597172  0.024610 -0.151850  ... -0.247570 -0.725830 -0.006221  0.322366   \n",
              "8 -0.017404 -0.074550  0.323780  ...  0.202899  0.554954  0.058351  0.694446   \n",
              "9 -0.840063 -0.033971  0.788198  ... -0.123340 -0.122951  0.008669  0.461695   \n",
              "\n",
              "        P25       P26       P27       P28    Mud  Class  \n",
              "0  0.227840 -0.090372 -0.012176 -0.044384  21.90      0  \n",
              "1 -0.109756 -0.629885 -0.725665 -0.351324   2.99      0  \n",
              "2  0.182968 -0.295540 -0.012185  0.020821   7.08      0  \n",
              "3  0.275940  0.919345 -0.069212  0.003619   7.68      0  \n",
              "4 -0.883856 -0.863775 -0.023857 -0.293884  49.00      0  \n",
              "5 -0.360650  0.748521  0.510475  0.259724  30.00      0  \n",
              "6  0.473820 -0.669108  0.019495  0.023306  52.05      0  \n",
              "7 -0.249413  0.076587  0.255380  0.117340   1.79      0  \n",
              "8  0.000615  0.627712 -0.083553 -0.045078  16.07      0  \n",
              "9  0.427552 -0.307951 -0.025863 -0.004419  10.00      0  \n",
              "\n",
              "[10 rows x 31 columns]"
            ],
            "text/html": [
              "\n",
              "  <div id=\"df-3cdbadfe-2f2a-4ad7-8c05-073463907b13\">\n",
              "    <div class=\"colab-df-container\">\n",
              "      <div>\n",
              "<style scoped>\n",
              "    .dataframe tbody tr th:only-of-type {\n",
              "        vertical-align: middle;\n",
              "    }\n",
              "\n",
              "    .dataframe tbody tr th {\n",
              "        vertical-align: top;\n",
              "    }\n",
              "\n",
              "    .dataframe thead th {\n",
              "        text-align: right;\n",
              "    }\n",
              "</style>\n",
              "<table border=\"1\" class=\"dataframe\">\n",
              "  <thead>\n",
              "    <tr style=\"text-align: right;\">\n",
              "      <th></th>\n",
              "      <th>Time</th>\n",
              "      <th>P1</th>\n",
              "      <th>P2</th>\n",
              "      <th>P3</th>\n",
              "      <th>P4</th>\n",
              "      <th>P5</th>\n",
              "      <th>P6</th>\n",
              "      <th>P7</th>\n",
              "      <th>P8</th>\n",
              "      <th>P9</th>\n",
              "      <th>...</th>\n",
              "      <th>P21</th>\n",
              "      <th>P22</th>\n",
              "      <th>P23</th>\n",
              "      <th>P24</th>\n",
              "      <th>P25</th>\n",
              "      <th>P26</th>\n",
              "      <th>P27</th>\n",
              "      <th>P28</th>\n",
              "      <th>Mud</th>\n",
              "      <th>Class</th>\n",
              "    </tr>\n",
              "  </thead>\n",
              "  <tbody>\n",
              "    <tr>\n",
              "      <th>0</th>\n",
              "      <td>134454</td>\n",
              "      <td>1.997387</td>\n",
              "      <td>0.028631</td>\n",
              "      <td>-1.885047</td>\n",
              "      <td>0.341234</td>\n",
              "      <td>0.350263</td>\n",
              "      <td>-0.900297</td>\n",
              "      <td>0.119352</td>\n",
              "      <td>-0.157746</td>\n",
              "      <td>0.474746</td>\n",
              "      <td>...</td>\n",
              "      <td>0.229023</td>\n",
              "      <td>0.729647</td>\n",
              "      <td>-0.082236</td>\n",
              "      <td>-0.550494</td>\n",
              "      <td>0.227840</td>\n",
              "      <td>-0.090372</td>\n",
              "      <td>-0.012176</td>\n",
              "      <td>-0.044384</td>\n",
              "      <td>21.90</td>\n",
              "      <td>0</td>\n",
              "    </tr>\n",
              "    <tr>\n",
              "      <th>1</th>\n",
              "      <td>78980</td>\n",
              "      <td>-0.851823</td>\n",
              "      <td>1.446070</td>\n",
              "      <td>0.679759</td>\n",
              "      <td>0.007973</td>\n",
              "      <td>0.617801</td>\n",
              "      <td>-1.210695</td>\n",
              "      <td>1.369637</td>\n",
              "      <td>-0.442985</td>\n",
              "      <td>-0.466060</td>\n",
              "      <td>...</td>\n",
              "      <td>0.130170</td>\n",
              "      <td>0.471780</td>\n",
              "      <td>-0.215118</td>\n",
              "      <td>0.402875</td>\n",
              "      <td>-0.109756</td>\n",
              "      <td>-0.629885</td>\n",
              "      <td>-0.725665</td>\n",
              "      <td>-0.351324</td>\n",
              "      <td>2.99</td>\n",
              "      <td>0</td>\n",
              "    </tr>\n",
              "    <tr>\n",
              "      <th>2</th>\n",
              "      <td>55273</td>\n",
              "      <td>1.119963</td>\n",
              "      <td>0.546055</td>\n",
              "      <td>0.877856</td>\n",
              "      <td>2.415833</td>\n",
              "      <td>-0.282554</td>\n",
              "      <td>-0.336366</td>\n",
              "      <td>0.018747</td>\n",
              "      <td>0.042135</td>\n",
              "      <td>-0.982280</td>\n",
              "      <td>...</td>\n",
              "      <td>-0.183696</td>\n",
              "      <td>-0.662870</td>\n",
              "      <td>0.156578</td>\n",
              "      <td>0.471700</td>\n",
              "      <td>0.182968</td>\n",
              "      <td>-0.295540</td>\n",
              "      <td>-0.012185</td>\n",
              "      <td>0.020821</td>\n",
              "      <td>7.08</td>\n",
              "      <td>0</td>\n",
              "    </tr>\n",
              "    <tr>\n",
              "      <th>3</th>\n",
              "      <td>36417</td>\n",
              "      <td>1.328189</td>\n",
              "      <td>-0.305950</td>\n",
              "      <td>-0.998639</td>\n",
              "      <td>-1.236795</td>\n",
              "      <td>1.733800</td>\n",
              "      <td>3.236893</td>\n",
              "      <td>-0.779472</td>\n",
              "      <td>0.830587</td>\n",
              "      <td>0.258104</td>\n",
              "      <td>...</td>\n",
              "      <td>-0.183574</td>\n",
              "      <td>-0.678249</td>\n",
              "      <td>0.056192</td>\n",
              "      <td>1.054628</td>\n",
              "      <td>0.275940</td>\n",
              "      <td>0.919345</td>\n",
              "      <td>-0.069212</td>\n",
              "      <td>0.003619</td>\n",
              "      <td>7.68</td>\n",
              "      <td>0</td>\n",
              "    </tr>\n",
              "    <tr>\n",
              "      <th>4</th>\n",
              "      <td>154977</td>\n",
              "      <td>-0.618361</td>\n",
              "      <td>-0.861401</td>\n",
              "      <td>0.513524</td>\n",
              "      <td>1.677866</td>\n",
              "      <td>-0.143396</td>\n",
              "      <td>-0.510276</td>\n",
              "      <td>-1.020312</td>\n",
              "      <td>0.734283</td>\n",
              "      <td>0.980549</td>\n",
              "      <td>...</td>\n",
              "      <td>0.029121</td>\n",
              "      <td>-0.269169</td>\n",
              "      <td>0.410990</td>\n",
              "      <td>-0.091444</td>\n",
              "      <td>-0.883856</td>\n",
              "      <td>-0.863775</td>\n",
              "      <td>-0.023857</td>\n",
              "      <td>-0.293884</td>\n",
              "      <td>49.00</td>\n",
              "      <td>0</td>\n",
              "    </tr>\n",
              "    <tr>\n",
              "      <th>5</th>\n",
              "      <td>67706</td>\n",
              "      <td>-1.204396</td>\n",
              "      <td>0.895136</td>\n",
              "      <td>1.416752</td>\n",
              "      <td>-1.515809</td>\n",
              "      <td>-0.232933</td>\n",
              "      <td>-0.278645</td>\n",
              "      <td>0.470024</td>\n",
              "      <td>0.291977</td>\n",
              "      <td>0.256230</td>\n",
              "      <td>...</td>\n",
              "      <td>-0.094880</td>\n",
              "      <td>-0.079252</td>\n",
              "      <td>0.038514</td>\n",
              "      <td>0.017078</td>\n",
              "      <td>-0.360650</td>\n",
              "      <td>0.748521</td>\n",
              "      <td>0.510475</td>\n",
              "      <td>0.259724</td>\n",
              "      <td>30.00</td>\n",
              "      <td>0</td>\n",
              "    </tr>\n",
              "    <tr>\n",
              "      <th>6</th>\n",
              "      <td>51705</td>\n",
              "      <td>1.174498</td>\n",
              "      <td>0.363603</td>\n",
              "      <td>-0.213642</td>\n",
              "      <td>0.874376</td>\n",
              "      <td>0.561873</td>\n",
              "      <td>-0.105249</td>\n",
              "      <td>0.505197</td>\n",
              "      <td>-0.178866</td>\n",
              "      <td>-0.364710</td>\n",
              "      <td>...</td>\n",
              "      <td>-0.371282</td>\n",
              "      <td>-1.095817</td>\n",
              "      <td>0.010938</td>\n",
              "      <td>-0.791478</td>\n",
              "      <td>0.473820</td>\n",
              "      <td>-0.669108</td>\n",
              "      <td>0.019495</td>\n",
              "      <td>0.023306</td>\n",
              "      <td>52.05</td>\n",
              "      <td>0</td>\n",
              "    </tr>\n",
              "    <tr>\n",
              "      <th>7</th>\n",
              "      <td>36512</td>\n",
              "      <td>-0.407854</td>\n",
              "      <td>0.940336</td>\n",
              "      <td>1.533733</td>\n",
              "      <td>-0.018123</td>\n",
              "      <td>-0.219400</td>\n",
              "      <td>-0.934602</td>\n",
              "      <td>0.597172</td>\n",
              "      <td>0.024610</td>\n",
              "      <td>-0.151850</td>\n",
              "      <td>...</td>\n",
              "      <td>-0.247570</td>\n",
              "      <td>-0.725830</td>\n",
              "      <td>-0.006221</td>\n",
              "      <td>0.322366</td>\n",
              "      <td>-0.249413</td>\n",
              "      <td>0.076587</td>\n",
              "      <td>0.255380</td>\n",
              "      <td>0.117340</td>\n",
              "      <td>1.79</td>\n",
              "      <td>0</td>\n",
              "    </tr>\n",
              "    <tr>\n",
              "      <th>8</th>\n",
              "      <td>159573</td>\n",
              "      <td>2.008964</td>\n",
              "      <td>-0.026310</td>\n",
              "      <td>-1.837550</td>\n",
              "      <td>0.313541</td>\n",
              "      <td>0.272992</td>\n",
              "      <td>-0.816407</td>\n",
              "      <td>-0.017404</td>\n",
              "      <td>-0.074550</td>\n",
              "      <td>0.323780</td>\n",
              "      <td>...</td>\n",
              "      <td>0.202899</td>\n",
              "      <td>0.554954</td>\n",
              "      <td>0.058351</td>\n",
              "      <td>0.694446</td>\n",
              "      <td>0.000615</td>\n",
              "      <td>0.627712</td>\n",
              "      <td>-0.083553</td>\n",
              "      <td>-0.045078</td>\n",
              "      <td>16.07</td>\n",
              "      <td>0</td>\n",
              "    </tr>\n",
              "    <tr>\n",
              "      <th>9</th>\n",
              "      <td>19901</td>\n",
              "      <td>1.337836</td>\n",
              "      <td>-0.587493</td>\n",
              "      <td>0.724083</td>\n",
              "      <td>-0.300644</td>\n",
              "      <td>-1.207252</td>\n",
              "      <td>-0.605452</td>\n",
              "      <td>-0.840063</td>\n",
              "      <td>-0.033971</td>\n",
              "      <td>0.788198</td>\n",
              "      <td>...</td>\n",
              "      <td>-0.123340</td>\n",
              "      <td>-0.122951</td>\n",
              "      <td>0.008669</td>\n",
              "      <td>0.461695</td>\n",
              "      <td>0.427552</td>\n",
              "      <td>-0.307951</td>\n",
              "      <td>-0.025863</td>\n",
              "      <td>-0.004419</td>\n",
              "      <td>10.00</td>\n",
              "      <td>0</td>\n",
              "    </tr>\n",
              "  </tbody>\n",
              "</table>\n",
              "<p>10 rows × 31 columns</p>\n",
              "</div>\n",
              "      <button class=\"colab-df-convert\" onclick=\"convertToInteractive('df-3cdbadfe-2f2a-4ad7-8c05-073463907b13')\"\n",
              "              title=\"Convert this dataframe to an interactive table.\"\n",
              "              style=\"display:none;\">\n",
              "        \n",
              "  <svg xmlns=\"http://www.w3.org/2000/svg\" height=\"24px\"viewBox=\"0 0 24 24\"\n",
              "       width=\"24px\">\n",
              "    <path d=\"M0 0h24v24H0V0z\" fill=\"none\"/>\n",
              "    <path d=\"M18.56 5.44l.94 2.06.94-2.06 2.06-.94-2.06-.94-.94-2.06-.94 2.06-2.06.94zm-11 1L8.5 8.5l.94-2.06 2.06-.94-2.06-.94L8.5 2.5l-.94 2.06-2.06.94zm10 10l.94 2.06.94-2.06 2.06-.94-2.06-.94-.94-2.06-.94 2.06-2.06.94z\"/><path d=\"M17.41 7.96l-1.37-1.37c-.4-.4-.92-.59-1.43-.59-.52 0-1.04.2-1.43.59L10.3 9.45l-7.72 7.72c-.78.78-.78 2.05 0 2.83L4 21.41c.39.39.9.59 1.41.59.51 0 1.02-.2 1.41-.59l7.78-7.78 2.81-2.81c.8-.78.8-2.07 0-2.86zM5.41 20L4 18.59l7.72-7.72 1.47 1.35L5.41 20z\"/>\n",
              "  </svg>\n",
              "      </button>\n",
              "      \n",
              "  <style>\n",
              "    .colab-df-container {\n",
              "      display:flex;\n",
              "      flex-wrap:wrap;\n",
              "      gap: 12px;\n",
              "    }\n",
              "\n",
              "    .colab-df-convert {\n",
              "      background-color: #E8F0FE;\n",
              "      border: none;\n",
              "      border-radius: 50%;\n",
              "      cursor: pointer;\n",
              "      display: none;\n",
              "      fill: #1967D2;\n",
              "      height: 32px;\n",
              "      padding: 0 0 0 0;\n",
              "      width: 32px;\n",
              "    }\n",
              "\n",
              "    .colab-df-convert:hover {\n",
              "      background-color: #E2EBFA;\n",
              "      box-shadow: 0px 1px 2px rgba(60, 64, 67, 0.3), 0px 1px 3px 1px rgba(60, 64, 67, 0.15);\n",
              "      fill: #174EA6;\n",
              "    }\n",
              "\n",
              "    [theme=dark] .colab-df-convert {\n",
              "      background-color: #3B4455;\n",
              "      fill: #D2E3FC;\n",
              "    }\n",
              "\n",
              "    [theme=dark] .colab-df-convert:hover {\n",
              "      background-color: #434B5C;\n",
              "      box-shadow: 0px 1px 3px 1px rgba(0, 0, 0, 0.15);\n",
              "      filter: drop-shadow(0px 1px 2px rgba(0, 0, 0, 0.3));\n",
              "      fill: #FFFFFF;\n",
              "    }\n",
              "  </style>\n",
              "\n",
              "      <script>\n",
              "        const buttonEl =\n",
              "          document.querySelector('#df-3cdbadfe-2f2a-4ad7-8c05-073463907b13 button.colab-df-convert');\n",
              "        buttonEl.style.display =\n",
              "          google.colab.kernel.accessAllowed ? 'block' : 'none';\n",
              "\n",
              "        async function convertToInteractive(key) {\n",
              "          const element = document.querySelector('#df-3cdbadfe-2f2a-4ad7-8c05-073463907b13');\n",
              "          const dataTable =\n",
              "            await google.colab.kernel.invokeFunction('convertToInteractive',\n",
              "                                                     [key], {});\n",
              "          if (!dataTable) return;\n",
              "\n",
              "          const docLinkHtml = 'Like what you see? Visit the ' +\n",
              "            '<a target=\"_blank\" href=https://colab.research.google.com/notebooks/data_table.ipynb>data table notebook</a>'\n",
              "            + ' to learn more about interactive tables.';\n",
              "          element.innerHTML = '';\n",
              "          dataTable['output_type'] = 'display_data';\n",
              "          await google.colab.output.renderOutput(dataTable, element);\n",
              "          const docLink = document.createElement('div');\n",
              "          docLink.innerHTML = docLinkHtml;\n",
              "          element.appendChild(docLink);\n",
              "        }\n",
              "      </script>\n",
              "    </div>\n",
              "  </div>\n",
              "  "
            ]
          },
          "metadata": {},
          "execution_count": 7
        }
      ]
    },
    {
      "cell_type": "code",
      "source": [
        "dataset['Class'].sum()"
      ],
      "metadata": {
        "colab": {
          "base_uri": "https://localhost:8080/"
        },
        "id": "cJvYAcunvE1x",
        "outputId": "6ed4fba3-ced9-411c-ce70-4e5e83bc4796"
      },
      "execution_count": 8,
      "outputs": [
        {
          "output_type": "execute_result",
          "data": {
            "text/plain": [
              "400"
            ]
          },
          "metadata": {},
          "execution_count": 8
        }
      ]
    },
    {
      "cell_type": "code",
      "source": [
        "for col in dataset:\n",
        "    print(f'{col}: {dataset[col].unique()}')\n"
      ],
      "metadata": {
        "colab": {
          "base_uri": "https://localhost:8080/"
        },
        "id": "_Q8u87E_tpPz",
        "outputId": "4e504146-4ac6-4f59-ee3f-1d5e4c0ded2a"
      },
      "execution_count": 9,
      "outputs": [
        {
          "output_type": "stream",
          "name": "stdout",
          "text": [
            "Time: [134454  78980  55273 ... 139712  42964  42853]\n",
            "P1: [ 1.99738662 -0.85182304  1.11996283 ...  0.02057785  1.15162816\n",
            "  1.92249746]\n",
            "P2: [ 0.02863075  1.44607049  0.5460548  ... -0.30060018 -0.01172861\n",
            " -0.46416262]\n",
            "P3: [-1.88504708  0.67975938  0.87785555 ...  0.51596431  1.19277978\n",
            "  0.1475083 ]\n",
            "P4: [ 0.34123406  0.00797332  2.41583278 ... -2.42356968  1.13558685\n",
            "  0.34305528]\n",
            "P5: [ 0.35026254  0.61780121 -0.28255398 ...  0.219863   -0.69428712\n",
            " -0.66568411]\n",
            "P6: [-0.90029741 -1.21069503 -0.33636581 ...  0.17617976  0.3253029\n",
            "  0.35575   ]\n",
            "P7: [ 0.11935187  1.36963682  0.01874691 ... -0.10892754 -0.63714433\n",
            " -1.11752469]\n",
            "P8: [-0.15774643 -0.44298526  0.04213506 ...  0.13181585  0.22368309\n",
            "  0.18561354]\n",
            "P9: [ 0.47474587 -0.46606005 -0.9822802  ... -0.88327916  0.55415902\n",
            "  2.33486871]\n",
            "P10: [-0.29622776 -0.01877438  0.84328598 ...  0.05485735 -0.04773753\n",
            " -0.24925436]\n",
            "P11: [ 0.90851755 -0.52503042  1.3666721  ...  0.3085199   0.72914782\n",
            "  1.89223692]\n",
            "P12: [ 0.22124002  0.13662876  0.61161151 ...  0.27778104  1.4180904\n",
            " -1.2770274 ]\n",
            "P13: [-0.80916607  0.27673018 -0.25940708 ...  1.10587491  0.67378092\n",
            "  2.15301478]\n",
            "P14: [-0.38888202  0.15652621  0.53355047 ... -0.62380205 -0.31806242\n",
            "  1.22186942]\n",
            "P15: [ 0.36286273 -0.01596735 -0.13521686 ... -1.42610984 -0.57271078\n",
            " -0.62426018]\n",
            "P16: [ 0.49616023 -0.18216077  0.92061138 ...  1.58652475  0.33741086\n",
            "  0.77217075]\n",
            "P17: [ 0.102897   -0.66073347 -0.81411323 ... -0.67277093 -0.65660627\n",
            " -0.13239914]\n",
            "P18: [ 1.13694824 -0.35081819 -0.02005239 ... -0.5709601   0.45586549\n",
            "  0.68392218]\n",
            "P19: [-0.06511436 -0.77430098 -0.70952271 ...  0.07741563  0.20022948\n",
            " -0.29960454]\n",
            "P20: [-0.20183737 -0.19874729 -0.15214319 ...  0.09742828 -0.08846634\n",
            " -0.14997875]\n",
            "P21: [ 0.22902262  0.13017024 -0.18369629 ...  0.54241477 -0.030267\n",
            " -0.05532522]\n",
            "P22: [ 0.72964714  0.47177994 -0.66286984 ...  1.51367516  0.13844551\n",
            "  0.18309862]\n",
            "P23: [-0.08223632 -0.2151179   0.15657817 ...  0.02560204 -0.05699199\n",
            "  0.35559336]\n",
            "P24: [-0.55049358  0.40287525  0.47169998 ...  0.27426718  0.03155939\n",
            "  0.68049306]\n",
            "P25: [ 0.22783986 -0.10975606  0.18296803 ... -1.04330368  0.45473975\n",
            " -0.6404989 ]\n",
            "P26: [-0.09037204 -0.62988471 -0.29554038 ... -0.40717697 -0.4075993\n",
            "  0.39074875]\n",
            "P27: [-0.01217591 -0.72566483 -0.01218483 ...  0.25416114  0.07436725\n",
            " -0.04295093]\n",
            "P28: [-0.04438383 -0.35132374  0.02082098 ...  0.25766137  0.02464218\n",
            " -0.04573341]\n",
            "Mud: [  21.9     2.99    7.08 ... 1860.    201.13  150.96]\n",
            "Class: [0 1]\n"
          ]
        }
      ]
    },
    {
      "cell_type": "markdown",
      "source": [
        "### Outlier Removal"
      ],
      "metadata": {
        "id": "iXzfTMfkXrua"
      }
    },
    {
      "cell_type": "code",
      "source": [
        "max_thresold = dataset['Mud'].quantile(0.95)\n",
        "print(max_thresold)\n",
        "\n",
        "\n",
        "min_thresold = dataset['Mud'].quantile(0.05)\n",
        "print(min_thresold)\n",
        "\n",
        "\"\"\"\n",
        "dataset = dataset[(dataset['Mud']<max_thresold) & (dataset['Mud']>min_thresold)]\n",
        "print(dataset[(dataset['Mud']>max_thresold) & (dataset['Mud']min_thresold)][\"Class\"].sum())\n",
        "\"\"\"\n",
        "sns.boxplot(x=dataset[\"Mud\"])\n"
      ],
      "metadata": {
        "colab": {
          "base_uri": "https://localhost:8080/",
          "height": 331
        },
        "id": "A2e1qnH3lYy-",
        "outputId": "9fda19bc-c18c-4a3c-91b8-e943fb54ecce"
      },
      "execution_count": 10,
      "outputs": [
        {
          "output_type": "stream",
          "name": "stdout",
          "text": [
            "364.89599999999973\n",
            "0.92\n"
          ]
        },
        {
          "output_type": "execute_result",
          "data": {
            "text/plain": [
              "<matplotlib.axes._subplots.AxesSubplot at 0x7f8279551290>"
            ]
          },
          "metadata": {},
          "execution_count": 10
        },
        {
          "output_type": "display_data",
          "data": {
            "text/plain": [
              "<Figure size 432x288 with 1 Axes>"
            ],
            "image/png": "[encoded data removed]"
          },
          "metadata": {
            "needs_background": "light"
          }
        }
      ]
    },
    {
      "cell_type": "code",
      "source": [
        "max_thresold = dataset['P1'].quantile(0.99)\n",
        "print(max_thresold)\n",
        "\n",
        "\n",
        "min_thresold = dataset['P1'].quantile(0.01)\n",
        "print(min_thresold)\n",
        "\n",
        "\"\"\"\n",
        "dataset = dataset[(dataset['P1']<max_thresold) & (dataset['P1']>min_thresold)]\n",
        "print(dataset[(dataset['P1']<max_thresold) & (dataset['P1']>min_thresold)][\"Class\"].sum())\n",
        "\"\"\"\n",
        "\n",
        "sns.boxplot(x=dataset[\"P1\"])"
      ],
      "metadata": {
        "colab": {
          "base_uri": "https://localhost:8080/",
          "height": 331
        },
        "id": "SIY_-XdBvX_E",
        "outputId": "52b344f0-cc72-4a93-c7f6-a96e0ff2d64c"
      },
      "execution_count": 11,
      "outputs": [
        {
          "output_type": "stream",
          "name": "stdout",
          "text": [
            "2.2381772428\n",
            "-6.5256609352\n"
          ]
        },
        {
          "output_type": "execute_result",
          "data": {
            "text/plain": [
              "<matplotlib.axes._subplots.AxesSubplot at 0x7f82794f1a10>"
            ]
          },
          "metadata": {},
          "execution_count": 11
        },
        {
          "output_type": "display_data",
          "data": {
            "text/plain": [
              "<Figure size 432x288 with 1 Axes>"
            ],
            "image/png": "[encoded data removed]"
          },
          "metadata": {
            "needs_background": "light"
          }
        }
      ]
    },
    {
      "cell_type": "code",
      "source": [
        "max_thresold = dataset['P2'].quantile(0.95)\n",
        "print(max_thresold)\n",
        "\n",
        "\n",
        "min_thresold = dataset['P2'].quantile(0.05)\n",
        "print(min_thresold)\n",
        "\n",
        "\"\"\"\n",
        "dataset = dataset[(dataset['P2']<max_thresold) & (dataset['P2']>min_thresold)]\n",
        "print(dataset[(dataset['P2']<max_thresold) & (dataset['P2']>min_thresold)][\"Class\"].sum())\n",
        "\"\"\"\n",
        "\n",
        "sns.boxplot(x=dataset[\"P2\"])"
      ],
      "metadata": {
        "colab": {
          "base_uri": "https://localhost:8080/",
          "height": 331
        },
        "id": "D2ffKEniwK_L",
        "outputId": "fb24c61c-d605-4d5b-bc76-93804a2ac344"
      },
      "execution_count": 12,
      "outputs": [
        {
          "output_type": "stream",
          "name": "stdout",
          "text": [
            "1.8059130689999998\n",
            "-1.9744760289999999\n"
          ]
        },
        {
          "output_type": "execute_result",
          "data": {
            "text/plain": [
              "<matplotlib.axes._subplots.AxesSubplot at 0x7f8279030a10>"
            ]
          },
          "metadata": {},
          "execution_count": 12
        },
        {
          "output_type": "display_data",
          "data": {
            "text/plain": [
              "<Figure size 432x288 with 1 Axes>"
            ],
            "image/png": "[encoded data removed]"
          },
          "metadata": {
            "needs_background": "light"
          }
        }
      ]
    },
    {
      "cell_type": "code",
      "source": [
        "max_thresold = dataset['P3'].quantile(0.95)\n",
        "print(max_thresold)\n",
        "\n",
        "\n",
        "min_thresold = dataset['P3'].quantile(0.05)\n",
        "print(min_thresold)\n",
        "\n",
        "\"\"\"\n",
        "dataset = dataset[(dataset['P3']<max_thresold) & (dataset['P3']>min_thresold)]\n",
        "print(dataset[(dataset['P3']<max_thresold) & (dataset['P3']>min_thresold)][\"Class\"].sum())\n",
        "\"\"\"\n",
        "\n",
        "sns.boxplot(x=dataset[\"P3\"])"
      ],
      "metadata": {
        "colab": {
          "base_uri": "https://localhost:8080/",
          "height": 331
        },
        "id": "56aSC-q7wrNB",
        "outputId": "7882e0e8-6f64-415a-b475-ae62afe21dfe"
      },
      "execution_count": 13,
      "outputs": [
        {
          "output_type": "stream",
          "name": "stdout",
          "text": [
            "2.0603833853999993\n",
            "-2.3914704847999997\n"
          ]
        },
        {
          "output_type": "execute_result",
          "data": {
            "text/plain": [
              "<matplotlib.axes._subplots.AxesSubplot at 0x7f8278fa0990>"
            ]
          },
          "metadata": {},
          "execution_count": 13
        },
        {
          "output_type": "display_data",
          "data": {
            "text/plain": [
              "<Figure size 432x288 with 1 Axes>"
            ],
            "image/png": "[encoded data removed]"
          },
          "metadata": {
            "needs_background": "light"
          }
        }
      ]
    },
    {
      "cell_type": "code",
      "source": [
        "max_thresold = dataset['P8'].quantile(0.95)\n",
        "print(max_thresold)\n",
        "\n",
        "\n",
        "min_thresold = dataset['P8'].quantile(0.05)\n",
        "print(min_thresold)\n",
        "\n",
        "\"\"\"\n",
        "dataset = dataset[(dataset['P8']<max_thresold) & (dataset['P8']>min_thresold)]\n",
        "print(dataset[(dataset['P8']<max_thresold) & (dataset['P8']>min_thresold)][\"Class\"].sum())\n",
        "\"\"\"\n",
        "\n",
        "sns.boxplot(x=dataset[\"P8\"])"
      ],
      "metadata": {
        "colab": {
          "base_uri": "https://localhost:8080/",
          "height": 331
        },
        "id": "v8uJPYm4xCTN",
        "outputId": "2f93cb64-28d0-4ef4-f6ca-3507f3933308"
      },
      "execution_count": 14,
      "outputs": [
        {
          "output_type": "stream",
          "name": "stdout",
          "text": [
            "1.0485980213999992\n",
            "-0.8507066254\n"
          ]
        },
        {
          "output_type": "execute_result",
          "data": {
            "text/plain": [
              "<matplotlib.axes._subplots.AxesSubplot at 0x7f8278fc0450>"
            ]
          },
          "metadata": {},
          "execution_count": 14
        },
        {
          "output_type": "display_data",
          "data": {
            "text/plain": [
              "<Figure size 432x288 with 1 Axes>"
            ],
            "image/png": "[encoded data removed]"
          },
          "metadata": {
            "needs_background": "light"
          }
        }
      ]
    },
    {
      "cell_type": "code",
      "source": [
        "max_thresold = dataset['P21'].quantile(0.95)\n",
        "print(max_thresold)\n",
        "\n",
        "\n",
        "min_thresold = dataset['P21'].quantile(0.05)\n",
        "print(min_thresold)\n",
        "\n",
        "\"\"\"\n",
        "dataset = dataset[(dataset['P21']<max_thresold) & (dataset['P21']>min_thresold)]\n",
        "print(dataset[(dataset['P21']<max_thresold) & (dataset['P21']>min_thresold)][\"Class\"].sum())\n",
        "\"\"\"\n",
        "\n",
        "sns.boxplot(x=dataset[\"P21\"])"
      ],
      "metadata": {
        "colab": {
          "base_uri": "https://localhost:8080/",
          "height": 331
        },
        "id": "c-IuoWXFxO3c",
        "outputId": "a0de320f-3cfc-492b-ce13-77e83e7849e8"
      },
      "execution_count": 15,
      "outputs": [
        {
          "output_type": "stream",
          "name": "stdout",
          "text": [
            "0.5401274583999993\n",
            "-0.5036268145999999\n"
          ]
        },
        {
          "output_type": "execute_result",
          "data": {
            "text/plain": [
              "<matplotlib.axes._subplots.AxesSubplot at 0x7f8278edb390>"
            ]
          },
          "metadata": {},
          "execution_count": 15
        },
        {
          "output_type": "display_data",
          "data": {
            "text/plain": [
              "<Figure size 432x288 with 1 Axes>"
            ],
            "image/png": "[encoded data removed]"
          },
          "metadata": {
            "needs_background": "light"
          }
        }
      ]
    },
    {
      "cell_type": "markdown",
      "source": [
        "#### After removing the outliers with 5-95 quantile range we are losing the minority class variables which is a big loss for training the model. So we decided not to remove any outliers.  "
      ],
      "metadata": {
        "id": "exEtoyhYX1NF"
      }
    },
    {
      "cell_type": "code",
      "source": [
        "#dataset.describe()"
      ],
      "metadata": {
        "id": "Pn6g8lvCkmtm"
      },
      "execution_count": 16,
      "outputs": []
    },
    {
      "cell_type": "markdown",
      "source": [
        "### Plotting the correlation visualizations"
      ],
      "metadata": {
        "id": "6j5yYVh0Y648"
      }
    },
    {
      "cell_type": "code",
      "source": [
        "def plot_corr(df, size=29):\n",
        "    corr = df.corr()\n",
        "    fig, ax = plt.subplots(figsize=(size, size))\n",
        "    ax.matshow(corr)\n",
        "    plt.xticks(range(len(corr.columns)), corr.columns)\n",
        "    plt.yticks(range(len(corr.columns)), corr.columns)"
      ],
      "metadata": {
        "id": "zKH8_8dGGBBw"
      },
      "execution_count": 17,
      "outputs": []
    },
    {
      "cell_type": "code",
      "source": [
        "plot_corr(dataset)"
      ],
      "metadata": {
        "colab": {
          "base_uri": "https://localhost:8080/",
          "height": 1000
        },
        "id": "ryY7erA0GA_K",
        "outputId": "5524478f-c6a0-4d44-9032-f82c03a4854d"
      },
      "execution_count": 18,
      "outputs": [
        {
          "output_type": "display_data",
          "data": {
            "text/plain": [
              "<Figure size 2088x2088 with 1 Axes>"
            ],
            "image/png": "[encoded data removed]"
          },
          "metadata": {
            "needs_background": "light"
          }
        }
      ]
    },
    {
      "cell_type": "markdown",
      "source": [
        "### SMOTE (Synthetic minority oversampling technique)\n",
        "\n",
        "Since we have Class \"1\" as a minority class we need to oversample the dataset and we need to use the smote technique from imblearn library.\n",
        "\n",
        "Resource: https://arxiv.org/abs/2003.09788v1"
      ],
      "metadata": {
        "id": "TcFOBHoZZFw0"
      }
    },
    {
      "cell_type": "code",
      "source": [
        "X = dataset.drop('Class',axis='columns')\n",
        "Y = dataset['Class']\n",
        "\n",
        "from imblearn.over_sampling import SMOTE\n",
        "sm = SMOTE(sampling_strategy='minority')\n",
        "x, y = sm.fit_resample(X, Y)"
      ],
      "metadata": {
        "id": "As5MydYKJL81"
      },
      "execution_count": 19,
      "outputs": []
    },
    {
      "cell_type": "code",
      "source": [
        "x.shape"
      ],
      "metadata": {
        "colab": {
          "base_uri": "https://localhost:8080/"
        },
        "id": "OTsjLNzaJL2Y",
        "outputId": "5fc96378-016f-4423-df9c-0debc7de6698"
      },
      "execution_count": 20,
      "outputs": [
        {
          "output_type": "execute_result",
          "data": {
            "text/plain": [
              "(454890, 30)"
            ]
          },
          "metadata": {},
          "execution_count": 20
        }
      ]
    },
    {
      "cell_type": "markdown",
      "source": [
        "Splitting with 70-30 ratio"
      ],
      "metadata": {
        "id": "heyaSCnUcVFB"
      }
    },
    {
      "cell_type": "code",
      "source": [
        "from sklearn.model_selection import train_test_split\n",
        "x_train,x_test,y_train,y_test=train_test_split(x,y,test_size=0.3,random_state=0)"
      ],
      "metadata": {
        "id": "LggubcgQJQgj"
      },
      "execution_count": 21,
      "outputs": []
    },
    {
      "cell_type": "code",
      "source": [
        "\"\"\"\n",
        "from sklearn.preprocessing import StandardScaler\n",
        "sc=StandardScaler()\n",
        "x_train=sc.fit_transform(x_train)\n",
        "x_test=sc.transform(x_test)\n",
        "\"\"\""
      ],
      "metadata": {
        "colab": {
          "base_uri": "https://localhost:8080/",
          "height": 36
        },
        "id": "m6kN2ZnKJWmQ",
        "outputId": "5cd2c0e5-0e7d-4d74-bd81-180ed2ee24dc"
      },
      "execution_count": 22,
      "outputs": [
        {
          "output_type": "execute_result",
          "data": {
            "text/plain": [
              "'\\nfrom sklearn.preprocessing import StandardScaler\\nsc=StandardScaler()\\nx_train=sc.fit_transform(x_train)\\nx_test=sc.transform(x_test)\\n'"
            ],
            "application/vnd.google.colaboratory.intrinsic+json": {
              "type": "string"
            }
          },
          "metadata": {},
          "execution_count": 22
        }
      ]
    },
    {
      "cell_type": "markdown",
      "source": [
        "### Feature Dropping and Feature selection"
      ],
      "metadata": {
        "id": "QHUjJtqdJBda"
      }
    },
    {
      "cell_type": "markdown",
      "source": [
        "We tried to drop features which has variance less then 0.1 but there are no such features which we can drop"
      ],
      "metadata": {
        "id": "QgaBxOweaV7V"
      }
    },
    {
      "cell_type": "code",
      "source": [
        "from sklearn.feature_selection import VarianceThreshold\n",
        "var_thres=VarianceThreshold(threshold=0.1)\n",
        "var_thres.fit(x_train)\n",
        "var_thres.get_support()"
      ],
      "metadata": {
        "colab": {
          "base_uri": "https://localhost:8080/"
        },
        "id": "uw2YFDbPGA8n",
        "outputId": "25bc5f12-c73e-4388-d2e2-6ad73ac50614"
      },
      "execution_count": 23,
      "outputs": [
        {
          "output_type": "execute_result",
          "data": {
            "text/plain": [
              "array([ True,  True,  True,  True,  True,  True,  True,  True,  True,\n",
              "        True,  True,  True,  True,  True,  True,  True,  True,  True,\n",
              "        True,  True,  True,  True,  True,  True,  True,  True,  True,\n",
              "        True,  True,  True])"
            ]
          },
          "metadata": {},
          "execution_count": 23
        }
      ]
    },
    {
      "cell_type": "code",
      "source": [
        "x_train.corr()"
      ],
      "metadata": {
        "colab": {
          "base_uri": "https://localhost:8080/",
          "height": 1000
        },
        "id": "tdDU0-rPGA6X",
        "outputId": "a229314c-4976-4c6f-80db-92ede5fdf71e"
      },
      "execution_count": 24,
      "outputs": [
        {
          "output_type": "execute_result",
          "data": {
            "text/plain": [
              "          Time        P1        P2        P3        P4        P5        P6  \\\n",
              "Time  1.000000  0.256176 -0.237554  0.161588 -0.221324  0.306931  0.112518   \n",
              "P1    0.256176  1.000000 -0.798235  0.872568 -0.614683  0.854042  0.289375   \n",
              "P2   -0.237554 -0.798235  1.000000 -0.852575  0.673104 -0.779465 -0.254294   \n",
              "P3    0.161588  0.872568 -0.852575  1.000000 -0.782204  0.841539  0.442568   \n",
              "P4   -0.221324 -0.614683  0.673104 -0.782204  1.000000 -0.576200 -0.449980   \n",
              "P5    0.306931  0.854042 -0.779465  0.841539 -0.576200  1.000000  0.289974   \n",
              "P6    0.112518  0.289375 -0.254294  0.442568 -0.449980  0.289974  1.000000   \n",
              "P7    0.238128  0.876785 -0.851797  0.883297 -0.709995  0.828127  0.255104   \n",
              "P8   -0.121799 -0.032106 -0.088599 -0.129458  0.096855 -0.177035 -0.584782   \n",
              "P9    0.180841  0.648055 -0.676075  0.765017 -0.793282  0.649432  0.400541   \n",
              "P10   0.243133  0.734184 -0.764641  0.855890 -0.813616  0.749310  0.426276   \n",
              "P11  -0.337652 -0.545435  0.633301 -0.733159  0.816198 -0.537945 -0.489175   \n",
              "P12   0.282744  0.592388 -0.667002  0.767672 -0.848547  0.613615  0.504722   \n",
              "P13  -0.116712 -0.040140  0.027841 -0.072216  0.059912 -0.125428 -0.120928   \n",
              "P14   0.196397  0.467523 -0.585153  0.675299 -0.818405  0.449354  0.518730   \n",
              "P15  -0.166337  0.105925 -0.169752  0.146023 -0.120035  0.075790 -0.054759   \n",
              "P16   0.261948  0.645030 -0.648216  0.740250 -0.751704  0.692334  0.429993   \n",
              "P17   0.261243  0.673911 -0.644718  0.743196 -0.731625  0.742074  0.434808   \n",
              "P18   0.287682  0.678880 -0.625379  0.709922 -0.663623  0.744372  0.364440   \n",
              "P19  -0.099024 -0.325042  0.238376 -0.341093  0.343885 -0.425612 -0.251559   \n",
              "P20  -0.047126 -0.268244  0.277869 -0.333240  0.276696 -0.291426 -0.163526   \n",
              "P21  -0.068923 -0.071375  0.149793 -0.024166  0.008493 -0.012744  0.136779   \n",
              "P22   0.127317  0.037044 -0.097384 -0.022697  0.095233 -0.037076 -0.120336   \n",
              "P23   0.049714 -0.070389  0.173098 -0.038424  0.009771 -0.076813  0.348905   \n",
              "P24  -0.005487 -0.039128 -0.026557  0.035332 -0.091059 -0.118984 -0.030286   \n",
              "P25  -0.214238 -0.102786  0.117135 -0.101809 -0.008104 -0.110046 -0.129844   \n",
              "P26  -0.069517  0.060981 -0.013146 -0.015417  0.137456  0.059567 -0.061298   \n",
              "P27  -0.179933  0.128226 -0.098702  0.055394  0.018355  0.125711 -0.149518   \n",
              "P28  -0.011245  0.122979  0.025898  0.087638 -0.040787  0.132117 -0.015696   \n",
              "Mud   0.010324 -0.045319 -0.237943 -0.010432 -0.000246 -0.121954  0.166827   \n",
              "\n",
              "            P7        P8        P9  ...       P20       P21       P22  \\\n",
              "Time  0.238128 -0.121799  0.180841  ... -0.047126 -0.068923  0.127317   \n",
              "P1    0.876785 -0.032106  0.648055  ... -0.268244 -0.071375  0.037044   \n",
              "P2   -0.851797 -0.088599 -0.676075  ...  0.277869  0.149793 -0.097384   \n",
              "P3    0.883297 -0.129458  0.765017  ... -0.333240 -0.024166 -0.022697   \n",
              "P4   -0.709995  0.096855 -0.793282  ...  0.276696  0.008493  0.095233   \n",
              "P5    0.828127 -0.177035  0.649432  ... -0.291426 -0.012744 -0.037076   \n",
              "P6    0.255104 -0.584782  0.400541  ... -0.163526  0.136779 -0.120336   \n",
              "P7    1.000000  0.136496  0.749689  ... -0.332204 -0.078655 -0.016029   \n",
              "P8    0.136496  1.000000 -0.100186  ...  0.069194 -0.327658  0.234234   \n",
              "P9    0.749689 -0.100186  1.000000  ... -0.371855  0.122937 -0.211067   \n",
              "P10   0.861727 -0.046075  0.847689  ... -0.352296  0.029932 -0.160905   \n",
              "P11  -0.659521  0.130546 -0.716984  ...  0.189028  0.146245  0.003319   \n",
              "P12   0.722230 -0.146544  0.774546  ... -0.217615 -0.085339 -0.088620   \n",
              "P13  -0.019491  0.277217 -0.057264  ... -0.004539 -0.063478  0.077497   \n",
              "P14   0.570903 -0.138643  0.697244  ... -0.112494 -0.229686  0.072038   \n",
              "P15   0.177356  0.159042  0.119678  ... -0.168159  0.113699 -0.079712   \n",
              "P16   0.761258 -0.132058  0.743994  ... -0.169281 -0.179903 -0.046016   \n",
              "P17   0.769715 -0.198784  0.769819  ... -0.198911 -0.113656 -0.086653   \n",
              "P18   0.766140 -0.156187  0.722212  ... -0.172010 -0.112820 -0.070014   \n",
              "P19  -0.370453  0.220170 -0.369697  ...  0.033636  0.107869  0.103226   \n",
              "P20  -0.332204  0.069194 -0.371855  ...  1.000000 -0.530945  0.450413   \n",
              "P21  -0.078655 -0.327658  0.122937  ... -0.530945  1.000000 -0.791822   \n",
              "P22  -0.016029  0.234234 -0.211067  ...  0.450413 -0.791822  1.000000   \n",
              "P23  -0.128210 -0.500499 -0.021972  ...  0.028509  0.279223 -0.157984   \n",
              "P24  -0.009904  0.108887  0.014883  ... -0.021519 -0.061705  0.073410   \n",
              "P25   0.025650  0.206299 -0.018187  ...  0.007274  0.126198 -0.217221   \n",
              "P26   0.031437  0.066691 -0.113421  ...  0.007159  0.017899  0.022845   \n",
              "P27   0.170623  0.229215  0.077315  ... -0.156772  0.347244 -0.349472   \n",
              "P28   0.101261 -0.065166  0.128546  ... -0.052609  0.299307 -0.261061   \n",
              "Mud   0.128398  0.024411  0.024623  ...  0.146307  0.007873 -0.012180   \n",
              "\n",
              "           P23       P24       P25       P26       P27       P28       Mud  \n",
              "Time  0.049714 -0.005487 -0.214238 -0.069517 -0.179933 -0.011245  0.010324  \n",
              "P1   -0.070389 -0.039128 -0.102786  0.060981  0.128226  0.122979 -0.045319  \n",
              "P2    0.173098 -0.026557  0.117135 -0.013146 -0.098702  0.025898 -0.237943  \n",
              "P3   -0.038424  0.035332 -0.101809 -0.015417  0.055394  0.087638 -0.010432  \n",
              "P4    0.009771 -0.091059 -0.008104  0.137456  0.018355 -0.040787 -0.000246  \n",
              "P5   -0.076813 -0.118984 -0.110046  0.059567  0.125711  0.132117 -0.121954  \n",
              "P6    0.348905 -0.030286 -0.129844 -0.061298 -0.149518 -0.015696  0.166827  \n",
              "P7   -0.128210 -0.009904  0.025650  0.031437  0.170623  0.101261  0.128398  \n",
              "P8   -0.500499  0.108887  0.206299  0.066691  0.229215 -0.065166  0.024411  \n",
              "P9   -0.021972  0.014883 -0.018187 -0.113421  0.077315  0.128546  0.024623  \n",
              "P10  -0.045945  0.017093  0.007598 -0.038309  0.097132  0.099731  0.010744  \n",
              "P11  -0.013672 -0.129147  0.031296  0.154683  0.188629  0.048814 -0.032775  \n",
              "P12   0.012536  0.055292  0.017510 -0.121751 -0.058155 -0.016449  0.029419  \n",
              "P13  -0.124169  0.047600 -0.007824  0.056304  0.044147 -0.120159  0.004482  \n",
              "P14  -0.004132  0.140246 -0.088212 -0.167835 -0.209656 -0.136311  0.048529  \n",
              "P15  -0.053729  0.043252  0.014274  0.043127  0.144137  0.077835  0.050062  \n",
              "P16  -0.014802 -0.028461  0.030268 -0.063523 -0.058461 -0.004501  0.002576  \n",
              "P17   0.016046 -0.066540  0.010445 -0.052803 -0.042165  0.032729 -0.005115  \n",
              "P18   0.011944 -0.090886  0.028492 -0.026252  0.001417  0.067223  0.001351  \n",
              "P19  -0.015455  0.124634 -0.123440  0.054949  0.041262 -0.049714  0.045493  \n",
              "P20   0.028509 -0.021519  0.007274  0.007159 -0.156772 -0.052609  0.146307  \n",
              "P21   0.279223 -0.061705  0.126198  0.017899  0.347244  0.299307  0.007873  \n",
              "P22  -0.157984  0.073410 -0.217221  0.022845 -0.349472 -0.261061 -0.012180  \n",
              "P23   1.000000 -0.050978  0.058638  0.003727 -0.131592  0.088540 -0.114843  \n",
              "P24  -0.050978  1.000000 -0.055652 -0.104780 -0.164561 -0.034506  0.038922  \n",
              "P25   0.058638 -0.055652  1.000000  0.059203  0.228103  0.158685 -0.076052  \n",
              "P26   0.003727 -0.104780  0.059203  1.000000  0.171150  0.018307 -0.029196  \n",
              "P27  -0.131592 -0.164561  0.228103  0.171150  1.000000  0.202570  0.062423  \n",
              "P28   0.088540 -0.034506  0.158685  0.018307  0.202570  1.000000 -0.053380  \n",
              "Mud  -0.114843  0.038922 -0.076052 -0.029196  0.062423 -0.053380  1.000000  \n",
              "\n",
              "[30 rows x 30 columns]"
            ],
            "text/html": [
              "\n",
              "  <div id=\"df-7eb1d088-c7d9-4c6d-8f1d-2d5aa884b2b0\">\n",
              "    <div class=\"colab-df-container\">\n",
              "      <div>\n",
              "<style scoped>\n",
              "    .dataframe tbody tr th:only-of-type {\n",
              "        vertical-align: middle;\n",
              "    }\n",
              "\n",
              "    .dataframe tbody tr th {\n",
              "        vertical-align: top;\n",
              "    }\n",
              "\n",
              "    .dataframe thead th {\n",
              "        text-align: right;\n",
              "    }\n",
              "</style>\n",
              "<table border=\"1\" class=\"dataframe\">\n",
              "  <thead>\n",
              "    <tr style=\"text-align: right;\">\n",
              "      <th></th>\n",
              "      <th>Time</th>\n",
              "      <th>P1</th>\n",
              "      <th>P2</th>\n",
              "      <th>P3</th>\n",
              "      <th>P4</th>\n",
              "      <th>P5</th>\n",
              "      <th>P6</th>\n",
              "      <th>P7</th>\n",
              "      <th>P8</th>\n",
              "      <th>P9</th>\n",
              "      <th>...</th>\n",
              "      <th>P20</th>\n",
              "      <th>P21</th>\n",
              "      <th>P22</th>\n",
              "      <th>P23</th>\n",
              "      <th>P24</th>\n",
              "      <th>P25</th>\n",
              "      <th>P26</th>\n",
              "      <th>P27</th>\n",
              "      <th>P28</th>\n",
              "      <th>Mud</th>\n",
              "    </tr>\n",
              "  </thead>\n",
              "  <tbody>\n",
              "    <tr>\n",
              "      <th>Time</th>\n",
              "      <td>1.000000</td>\n",
              "      <td>0.256176</td>\n",
              "      <td>-0.237554</td>\n",
              "      <td>0.161588</td>\n",
              "      <td>-0.221324</td>\n",
              "      <td>0.306931</td>\n",
              "      <td>0.112518</td>\n",
              "      <td>0.238128</td>\n",
              "      <td>-0.121799</td>\n",
              "      <td>0.180841</td>\n",
              "      <td>...</td>\n",
              "      <td>-0.047126</td>\n",
              "      <td>-0.068923</td>\n",
              "      <td>0.127317</td>\n",
              "      <td>0.049714</td>\n",
              "      <td>-0.005487</td>\n",
              "      <td>-0.214238</td>\n",
              "      <td>-0.069517</td>\n",
              "      <td>-0.179933</td>\n",
              "      <td>-0.011245</td>\n",
              "      <td>0.010324</td>\n",
              "    </tr>\n",
              "    <tr>\n",
              "      <th>P1</th>\n",
              "      <td>0.256176</td>\n",
              "      <td>1.000000</td>\n",
              "      <td>-0.798235</td>\n",
              "      <td>0.872568</td>\n",
              "      <td>-0.614683</td>\n",
              "      <td>0.854042</td>\n",
              "      <td>0.289375</td>\n",
              "      <td>0.876785</td>\n",
              "      <td>-0.032106</td>\n",
              "      <td>0.648055</td>\n",
              "      <td>...</td>\n",
              "      <td>-0.268244</td>\n",
              "      <td>-0.071375</td>\n",
              "      <td>0.037044</td>\n",
              "      <td>-0.070389</td>\n",
              "      <td>-0.039128</td>\n",
              "      <td>-0.102786</td>\n",
              "      <td>0.060981</td>\n",
              "      <td>0.128226</td>\n",
              "      <td>0.122979</td>\n",
              "      <td>-0.045319</td>\n",
              "    </tr>\n",
              "    <tr>\n",
              "      <th>P2</th>\n",
              "      <td>-0.237554</td>\n",
              "      <td>-0.798235</td>\n",
              "      <td>1.000000</td>\n",
              "      <td>-0.852575</td>\n",
              "      <td>0.673104</td>\n",
              "      <td>-0.779465</td>\n",
              "      <td>-0.254294</td>\n",
              "      <td>-0.851797</td>\n",
              "      <td>-0.088599</td>\n",
              "      <td>-0.676075</td>\n",
              "      <td>...</td>\n",
              "      <td>0.277869</td>\n",
              "      <td>0.149793</td>\n",
              "      <td>-0.097384</td>\n",
              "      <td>0.173098</td>\n",
              "      <td>-0.026557</td>\n",
              "      <td>0.117135</td>\n",
              "      <td>-0.013146</td>\n",
              "      <td>-0.098702</td>\n",
              "      <td>0.025898</td>\n",
              "      <td>-0.237943</td>\n",
              "    </tr>\n",
              "    <tr>\n",
              "      <th>P3</th>\n",
              "      <td>0.161588</td>\n",
              "      <td>0.872568</td>\n",
              "      <td>-0.852575</td>\n",
              "      <td>1.000000</td>\n",
              "      <td>-0.782204</td>\n",
              "      <td>0.841539</td>\n",
              "      <td>0.442568</td>\n",
              "      <td>0.883297</td>\n",
              "      <td>-0.129458</td>\n",
              "      <td>0.765017</td>\n",
              "      <td>...</td>\n",
              "      <td>-0.333240</td>\n",
              "      <td>-0.024166</td>\n",
              "      <td>-0.022697</td>\n",
              "      <td>-0.038424</td>\n",
              "      <td>0.035332</td>\n",
              "      <td>-0.101809</td>\n",
              "      <td>-0.015417</td>\n",
              "      <td>0.055394</td>\n",
              "      <td>0.087638</td>\n",
              "      <td>-0.010432</td>\n",
              "    </tr>\n",
              "    <tr>\n",
              "      <th>P4</th>\n",
              "      <td>-0.221324</td>\n",
              "      <td>-0.614683</td>\n",
              "      <td>0.673104</td>\n",
              "      <td>-0.782204</td>\n",
              "      <td>1.000000</td>\n",
              "      <td>-0.576200</td>\n",
              "      <td>-0.449980</td>\n",
              "      <td>-0.709995</td>\n",
              "      <td>0.096855</td>\n",
              "      <td>-0.793282</td>\n",
              "      <td>...</td>\n",
              "      <td>0.276696</td>\n",
              "      <td>0.008493</td>\n",
              "      <td>0.095233</td>\n",
              "      <td>0.009771</td>\n",
              "      <td>-0.091059</td>\n",
              "      <td>-0.008104</td>\n",
              "      <td>0.137456</td>\n",
              "      <td>0.018355</td>\n",
              "      <td>-0.040787</td>\n",
              "      <td>-0.000246</td>\n",
              "    </tr>\n",
              "    <tr>\n",
              "      <th>P5</th>\n",
              "      <td>0.306931</td>\n",
              "      <td>0.854042</td>\n",
              "      <td>-0.779465</td>\n",
              "      <td>0.841539</td>\n",
              "      <td>-0.576200</td>\n",
              "      <td>1.000000</td>\n",
              "      <td>0.289974</td>\n",
              "      <td>0.828127</td>\n",
              "      <td>-0.177035</td>\n",
              "      <td>0.649432</td>\n",
              "      <td>...</td>\n",
              "      <td>-0.291426</td>\n",
              "      <td>-0.012744</td>\n",
              "      <td>-0.037076</td>\n",
              "      <td>-0.076813</td>\n",
              "      <td>-0.118984</td>\n",
              "      <td>-0.110046</td>\n",
              "      <td>0.059567</td>\n",
              "      <td>0.125711</td>\n",
              "      <td>0.132117</td>\n",
              "      <td>-0.121954</td>\n",
              "    </tr>\n",
              "    <tr>\n",
              "      <th>P6</th>\n",
              "      <td>0.112518</td>\n",
              "      <td>0.289375</td>\n",
              "      <td>-0.254294</td>\n",
              "      <td>0.442568</td>\n",
              "      <td>-0.449980</td>\n",
              "      <td>0.289974</td>\n",
              "      <td>1.000000</td>\n",
              "      <td>0.255104</td>\n",
              "      <td>-0.584782</td>\n",
              "      <td>0.400541</td>\n",
              "      <td>...</td>\n",
              "      <td>-0.163526</td>\n",
              "      <td>0.136779</td>\n",
              "      <td>-0.120336</td>\n",
              "      <td>0.348905</td>\n",
              "      <td>-0.030286</td>\n",
              "      <td>-0.129844</td>\n",
              "      <td>-0.061298</td>\n",
              "      <td>-0.149518</td>\n",
              "      <td>-0.015696</td>\n",
              "      <td>0.166827</td>\n",
              "    </tr>\n",
              "    <tr>\n",
              "      <th>P7</th>\n",
              "      <td>0.238128</td>\n",
              "      <td>0.876785</td>\n",
              "      <td>-0.851797</td>\n",
              "      <td>0.883297</td>\n",
              "      <td>-0.709995</td>\n",
              "      <td>0.828127</td>\n",
              "      <td>0.255104</td>\n",
              "      <td>1.000000</td>\n",
              "      <td>0.136496</td>\n",
              "      <td>0.749689</td>\n",
              "      <td>...</td>\n",
              "      <td>-0.332204</td>\n",
              "      <td>-0.078655</td>\n",
              "      <td>-0.016029</td>\n",
              "      <td>-0.128210</td>\n",
              "      <td>-0.009904</td>\n",
              "      <td>0.025650</td>\n",
              "      <td>0.031437</td>\n",
              "      <td>0.170623</td>\n",
              "      <td>0.101261</td>\n",
              "      <td>0.128398</td>\n",
              "    </tr>\n",
              "    <tr>\n",
              "      <th>P8</th>\n",
              "      <td>-0.121799</td>\n",
              "      <td>-0.032106</td>\n",
              "      <td>-0.088599</td>\n",
              "      <td>-0.129458</td>\n",
              "      <td>0.096855</td>\n",
              "      <td>-0.177035</td>\n",
              "      <td>-0.584782</td>\n",
              "      <td>0.136496</td>\n",
              "      <td>1.000000</td>\n",
              "      <td>-0.100186</td>\n",
              "      <td>...</td>\n",
              "      <td>0.069194</td>\n",
              "      <td>-0.327658</td>\n",
              "      <td>0.234234</td>\n",
              "      <td>-0.500499</td>\n",
              "      <td>0.108887</td>\n",
              "      <td>0.206299</td>\n",
              "      <td>0.066691</td>\n",
              "      <td>0.229215</td>\n",
              "      <td>-0.065166</td>\n",
              "      <td>0.024411</td>\n",
              "    </tr>\n",
              "    <tr>\n",
              "      <th>P9</th>\n",
              "      <td>0.180841</td>\n",
              "      <td>0.648055</td>\n",
              "      <td>-0.676075</td>\n",
              "      <td>0.765017</td>\n",
              "      <td>-0.793282</td>\n",
              "      <td>0.649432</td>\n",
              "      <td>0.400541</td>\n",
              "      <td>0.749689</td>\n",
              "      <td>-0.100186</td>\n",
              "      <td>1.000000</td>\n",
              "      <td>...</td>\n",
              "      <td>-0.371855</td>\n",
              "      <td>0.122937</td>\n",
              "      <td>-0.211067</td>\n",
              "      <td>-0.021972</td>\n",
              "      <td>0.014883</td>\n",
              "      <td>-0.018187</td>\n",
              "      <td>-0.113421</td>\n",
              "      <td>0.077315</td>\n",
              "      <td>0.128546</td>\n",
              "      <td>0.024623</td>\n",
              "    </tr>\n",
              "    <tr>\n",
              "      <th>P10</th>\n",
              "      <td>0.243133</td>\n",
              "      <td>0.734184</td>\n",
              "      <td>-0.764641</td>\n",
              "      <td>0.855890</td>\n",
              "      <td>-0.813616</td>\n",
              "      <td>0.749310</td>\n",
              "      <td>0.426276</td>\n",
              "      <td>0.861727</td>\n",
              "      <td>-0.046075</td>\n",
              "      <td>0.847689</td>\n",
              "      <td>...</td>\n",
              "      <td>-0.352296</td>\n",
              "      <td>0.029932</td>\n",
              "      <td>-0.160905</td>\n",
              "      <td>-0.045945</td>\n",
              "      <td>0.017093</td>\n",
              "      <td>0.007598</td>\n",
              "      <td>-0.038309</td>\n",
              "      <td>0.097132</td>\n",
              "      <td>0.099731</td>\n",
              "      <td>0.010744</td>\n",
              "    </tr>\n",
              "    <tr>\n",
              "      <th>P11</th>\n",
              "      <td>-0.337652</td>\n",
              "      <td>-0.545435</td>\n",
              "      <td>0.633301</td>\n",
              "      <td>-0.733159</td>\n",
              "      <td>0.816198</td>\n",
              "      <td>-0.537945</td>\n",
              "      <td>-0.489175</td>\n",
              "      <td>-0.659521</td>\n",
              "      <td>0.130546</td>\n",
              "      <td>-0.716984</td>\n",
              "      <td>...</td>\n",
              "      <td>0.189028</td>\n",
              "      <td>0.146245</td>\n",
              "      <td>0.003319</td>\n",
              "      <td>-0.013672</td>\n",
              "      <td>-0.129147</td>\n",
              "      <td>0.031296</td>\n",
              "      <td>0.154683</td>\n",
              "      <td>0.188629</td>\n",
              "      <td>0.048814</td>\n",
              "      <td>-0.032775</td>\n",
              "    </tr>\n",
              "    <tr>\n",
              "      <th>P12</th>\n",
              "      <td>0.282744</td>\n",
              "      <td>0.592388</td>\n",
              "      <td>-0.667002</td>\n",
              "      <td>0.767672</td>\n",
              "      <td>-0.848547</td>\n",
              "      <td>0.613615</td>\n",
              "      <td>0.504722</td>\n",
              "      <td>0.722230</td>\n",
              "      <td>-0.146544</td>\n",
              "      <td>0.774546</td>\n",
              "      <td>...</td>\n",
              "      <td>-0.217615</td>\n",
              "      <td>-0.085339</td>\n",
              "      <td>-0.088620</td>\n",
              "      <td>0.012536</td>\n",
              "      <td>0.055292</td>\n",
              "      <td>0.017510</td>\n",
              "      <td>-0.121751</td>\n",
              "      <td>-0.058155</td>\n",
              "      <td>-0.016449</td>\n",
              "      <td>0.029419</td>\n",
              "    </tr>\n",
              "    <tr>\n",
              "      <th>P13</th>\n",
              "      <td>-0.116712</td>\n",
              "      <td>-0.040140</td>\n",
              "      <td>0.027841</td>\n",
              "      <td>-0.072216</td>\n",
              "      <td>0.059912</td>\n",
              "      <td>-0.125428</td>\n",
              "      <td>-0.120928</td>\n",
              "      <td>-0.019491</td>\n",
              "      <td>0.277217</td>\n",
              "      <td>-0.057264</td>\n",
              "      <td>...</td>\n",
              "      <td>-0.004539</td>\n",
              "      <td>-0.063478</td>\n",
              "      <td>0.077497</td>\n",
              "      <td>-0.124169</td>\n",
              "      <td>0.047600</td>\n",
              "      <td>-0.007824</td>\n",
              "      <td>0.056304</td>\n",
              "      <td>0.044147</td>\n",
              "      <td>-0.120159</td>\n",
              "      <td>0.004482</td>\n",
              "    </tr>\n",
              "    <tr>\n",
              "      <th>P14</th>\n",
              "      <td>0.196397</td>\n",
              "      <td>0.467523</td>\n",
              "      <td>-0.585153</td>\n",
              "      <td>0.675299</td>\n",
              "      <td>-0.818405</td>\n",
              "      <td>0.449354</td>\n",
              "      <td>0.518730</td>\n",
              "      <td>0.570903</td>\n",
              "      <td>-0.138643</td>\n",
              "      <td>0.697244</td>\n",
              "      <td>...</td>\n",
              "      <td>-0.112494</td>\n",
              "      <td>-0.229686</td>\n",
              "      <td>0.072038</td>\n",
              "      <td>-0.004132</td>\n",
              "      <td>0.140246</td>\n",
              "      <td>-0.088212</td>\n",
              "      <td>-0.167835</td>\n",
              "      <td>-0.209656</td>\n",
              "      <td>-0.136311</td>\n",
              "      <td>0.048529</td>\n",
              "    </tr>\n",
              "    <tr>\n",
              "      <th>P15</th>\n",
              "      <td>-0.166337</td>\n",
              "      <td>0.105925</td>\n",
              "      <td>-0.169752</td>\n",
              "      <td>0.146023</td>\n",
              "      <td>-0.120035</td>\n",
              "      <td>0.075790</td>\n",
              "      <td>-0.054759</td>\n",
              "      <td>0.177356</td>\n",
              "      <td>0.159042</td>\n",
              "      <td>0.119678</td>\n",
              "      <td>...</td>\n",
              "      <td>-0.168159</td>\n",
              "      <td>0.113699</td>\n",
              "      <td>-0.079712</td>\n",
              "      <td>-0.053729</td>\n",
              "      <td>0.043252</td>\n",
              "      <td>0.014274</td>\n",
              "      <td>0.043127</td>\n",
              "      <td>0.144137</td>\n",
              "      <td>0.077835</td>\n",
              "      <td>0.050062</td>\n",
              "    </tr>\n",
              "    <tr>\n",
              "      <th>P16</th>\n",
              "      <td>0.261948</td>\n",
              "      <td>0.645030</td>\n",
              "      <td>-0.648216</td>\n",
              "      <td>0.740250</td>\n",
              "      <td>-0.751704</td>\n",
              "      <td>0.692334</td>\n",
              "      <td>0.429993</td>\n",
              "      <td>0.761258</td>\n",
              "      <td>-0.132058</td>\n",
              "      <td>0.743994</td>\n",
              "      <td>...</td>\n",
              "      <td>-0.169281</td>\n",
              "      <td>-0.179903</td>\n",
              "      <td>-0.046016</td>\n",
              "      <td>-0.014802</td>\n",
              "      <td>-0.028461</td>\n",
              "      <td>0.030268</td>\n",
              "      <td>-0.063523</td>\n",
              "      <td>-0.058461</td>\n",
              "      <td>-0.004501</td>\n",
              "      <td>0.002576</td>\n",
              "    </tr>\n",
              "    <tr>\n",
              "      <th>P17</th>\n",
              "      <td>0.261243</td>\n",
              "      <td>0.673911</td>\n",
              "      <td>-0.644718</td>\n",
              "      <td>0.743196</td>\n",
              "      <td>-0.731625</td>\n",
              "      <td>0.742074</td>\n",
              "      <td>0.434808</td>\n",
              "      <td>0.769715</td>\n",
              "      <td>-0.198784</td>\n",
              "      <td>0.769819</td>\n",
              "      <td>...</td>\n",
              "      <td>-0.198911</td>\n",
              "      <td>-0.113656</td>\n",
              "      <td>-0.086653</td>\n",
              "      <td>0.016046</td>\n",
              "      <td>-0.066540</td>\n",
              "      <td>0.010445</td>\n",
              "      <td>-0.052803</td>\n",
              "      <td>-0.042165</td>\n",
              "      <td>0.032729</td>\n",
              "      <td>-0.005115</td>\n",
              "    </tr>\n",
              "    <tr>\n",
              "      <th>P18</th>\n",
              "      <td>0.287682</td>\n",
              "      <td>0.678880</td>\n",
              "      <td>-0.625379</td>\n",
              "      <td>0.709922</td>\n",
              "      <td>-0.663623</td>\n",
              "      <td>0.744372</td>\n",
              "      <td>0.364440</td>\n",
              "      <td>0.766140</td>\n",
              "      <td>-0.156187</td>\n",
              "      <td>0.722212</td>\n",
              "      <td>...</td>\n",
              "      <td>-0.172010</td>\n",
              "      <td>-0.112820</td>\n",
              "      <td>-0.070014</td>\n",
              "      <td>0.011944</td>\n",
              "      <td>-0.090886</td>\n",
              "      <td>0.028492</td>\n",
              "      <td>-0.026252</td>\n",
              "      <td>0.001417</td>\n",
              "      <td>0.067223</td>\n",
              "      <td>0.001351</td>\n",
              "    </tr>\n",
              "    <tr>\n",
              "      <th>P19</th>\n",
              "      <td>-0.099024</td>\n",
              "      <td>-0.325042</td>\n",
              "      <td>0.238376</td>\n",
              "      <td>-0.341093</td>\n",
              "      <td>0.343885</td>\n",
              "      <td>-0.425612</td>\n",
              "      <td>-0.251559</td>\n",
              "      <td>-0.370453</td>\n",
              "      <td>0.220170</td>\n",
              "      <td>-0.369697</td>\n",
              "      <td>...</td>\n",
              "      <td>0.033636</td>\n",
              "      <td>0.107869</td>\n",
              "      <td>0.103226</td>\n",
              "      <td>-0.015455</td>\n",
              "      <td>0.124634</td>\n",
              "      <td>-0.123440</td>\n",
              "      <td>0.054949</td>\n",
              "      <td>0.041262</td>\n",
              "      <td>-0.049714</td>\n",
              "      <td>0.045493</td>\n",
              "    </tr>\n",
              "    <tr>\n",
              "      <th>P20</th>\n",
              "      <td>-0.047126</td>\n",
              "      <td>-0.268244</td>\n",
              "      <td>0.277869</td>\n",
              "      <td>-0.333240</td>\n",
              "      <td>0.276696</td>\n",
              "      <td>-0.291426</td>\n",
              "      <td>-0.163526</td>\n",
              "      <td>-0.332204</td>\n",
              "      <td>0.069194</td>\n",
              "      <td>-0.371855</td>\n",
              "      <td>...</td>\n",
              "      <td>1.000000</td>\n",
              "      <td>-0.530945</td>\n",
              "      <td>0.450413</td>\n",
              "      <td>0.028509</td>\n",
              "      <td>-0.021519</td>\n",
              "      <td>0.007274</td>\n",
              "      <td>0.007159</td>\n",
              "      <td>-0.156772</td>\n",
              "      <td>-0.052609</td>\n",
              "      <td>0.146307</td>\n",
              "    </tr>\n",
              "    <tr>\n",
              "      <th>P21</th>\n",
              "      <td>-0.068923</td>\n",
              "      <td>-0.071375</td>\n",
              "      <td>0.149793</td>\n",
              "      <td>-0.024166</td>\n",
              "      <td>0.008493</td>\n",
              "      <td>-0.012744</td>\n",
              "      <td>0.136779</td>\n",
              "      <td>-0.078655</td>\n",
              "      <td>-0.327658</td>\n",
              "      <td>0.122937</td>\n",
              "      <td>...</td>\n",
              "      <td>-0.530945</td>\n",
              "      <td>1.000000</td>\n",
              "      <td>-0.791822</td>\n",
              "      <td>0.279223</td>\n",
              "      <td>-0.061705</td>\n",
              "      <td>0.126198</td>\n",
              "      <td>0.017899</td>\n",
              "      <td>0.347244</td>\n",
              "      <td>0.299307</td>\n",
              "      <td>0.007873</td>\n",
              "    </tr>\n",
              "    <tr>\n",
              "      <th>P22</th>\n",
              "      <td>0.127317</td>\n",
              "      <td>0.037044</td>\n",
              "      <td>-0.097384</td>\n",
              "      <td>-0.022697</td>\n",
              "      <td>0.095233</td>\n",
              "      <td>-0.037076</td>\n",
              "      <td>-0.120336</td>\n",
              "      <td>-0.016029</td>\n",
              "      <td>0.234234</td>\n",
              "      <td>-0.211067</td>\n",
              "      <td>...</td>\n",
              "      <td>0.450413</td>\n",
              "      <td>-0.791822</td>\n",
              "      <td>1.000000</td>\n",
              "      <td>-0.157984</td>\n",
              "      <td>0.073410</td>\n",
              "      <td>-0.217221</td>\n",
              "      <td>0.022845</td>\n",
              "      <td>-0.349472</td>\n",
              "      <td>-0.261061</td>\n",
              "      <td>-0.012180</td>\n",
              "    </tr>\n",
              "    <tr>\n",
              "      <th>P23</th>\n",
              "      <td>0.049714</td>\n",
              "      <td>-0.070389</td>\n",
              "      <td>0.173098</td>\n",
              "      <td>-0.038424</td>\n",
              "      <td>0.009771</td>\n",
              "      <td>-0.076813</td>\n",
              "      <td>0.348905</td>\n",
              "      <td>-0.128210</td>\n",
              "      <td>-0.500499</td>\n",
              "      <td>-0.021972</td>\n",
              "      <td>...</td>\n",
              "      <td>0.028509</td>\n",
              "      <td>0.279223</td>\n",
              "      <td>-0.157984</td>\n",
              "      <td>1.000000</td>\n",
              "      <td>-0.050978</td>\n",
              "      <td>0.058638</td>\n",
              "      <td>0.003727</td>\n",
              "      <td>-0.131592</td>\n",
              "      <td>0.088540</td>\n",
              "      <td>-0.114843</td>\n",
              "    </tr>\n",
              "    <tr>\n",
              "      <th>P24</th>\n",
              "      <td>-0.005487</td>\n",
              "      <td>-0.039128</td>\n",
              "      <td>-0.026557</td>\n",
              "      <td>0.035332</td>\n",
              "      <td>-0.091059</td>\n",
              "      <td>-0.118984</td>\n",
              "      <td>-0.030286</td>\n",
              "      <td>-0.009904</td>\n",
              "      <td>0.108887</td>\n",
              "      <td>0.014883</td>\n",
              "      <td>...</td>\n",
              "      <td>-0.021519</td>\n",
              "      <td>-0.061705</td>\n",
              "      <td>0.073410</td>\n",
              "      <td>-0.050978</td>\n",
              "      <td>1.000000</td>\n",
              "      <td>-0.055652</td>\n",
              "      <td>-0.104780</td>\n",
              "      <td>-0.164561</td>\n",
              "      <td>-0.034506</td>\n",
              "      <td>0.038922</td>\n",
              "    </tr>\n",
              "    <tr>\n",
              "      <th>P25</th>\n",
              "      <td>-0.214238</td>\n",
              "      <td>-0.102786</td>\n",
              "      <td>0.117135</td>\n",
              "      <td>-0.101809</td>\n",
              "      <td>-0.008104</td>\n",
              "      <td>-0.110046</td>\n",
              "      <td>-0.129844</td>\n",
              "      <td>0.025650</td>\n",
              "      <td>0.206299</td>\n",
              "      <td>-0.018187</td>\n",
              "      <td>...</td>\n",
              "      <td>0.007274</td>\n",
              "      <td>0.126198</td>\n",
              "      <td>-0.217221</td>\n",
              "      <td>0.058638</td>\n",
              "      <td>-0.055652</td>\n",
              "      <td>1.000000</td>\n",
              "      <td>0.059203</td>\n",
              "      <td>0.228103</td>\n",
              "      <td>0.158685</td>\n",
              "      <td>-0.076052</td>\n",
              "    </tr>\n",
              "    <tr>\n",
              "      <th>P26</th>\n",
              "      <td>-0.069517</td>\n",
              "      <td>0.060981</td>\n",
              "      <td>-0.013146</td>\n",
              "      <td>-0.015417</td>\n",
              "      <td>0.137456</td>\n",
              "      <td>0.059567</td>\n",
              "      <td>-0.061298</td>\n",
              "      <td>0.031437</td>\n",
              "      <td>0.066691</td>\n",
              "      <td>-0.113421</td>\n",
              "      <td>...</td>\n",
              "      <td>0.007159</td>\n",
              "      <td>0.017899</td>\n",
              "      <td>0.022845</td>\n",
              "      <td>0.003727</td>\n",
              "      <td>-0.104780</td>\n",
              "      <td>0.059203</td>\n",
              "      <td>1.000000</td>\n",
              "      <td>0.171150</td>\n",
              "      <td>0.018307</td>\n",
              "      <td>-0.029196</td>\n",
              "    </tr>\n",
              "    <tr>\n",
              "      <th>P27</th>\n",
              "      <td>-0.179933</td>\n",
              "      <td>0.128226</td>\n",
              "      <td>-0.098702</td>\n",
              "      <td>0.055394</td>\n",
              "      <td>0.018355</td>\n",
              "      <td>0.125711</td>\n",
              "      <td>-0.149518</td>\n",
              "      <td>0.170623</td>\n",
              "      <td>0.229215</td>\n",
              "      <td>0.077315</td>\n",
              "      <td>...</td>\n",
              "      <td>-0.156772</td>\n",
              "      <td>0.347244</td>\n",
              "      <td>-0.349472</td>\n",
              "      <td>-0.131592</td>\n",
              "      <td>-0.164561</td>\n",
              "      <td>0.228103</td>\n",
              "      <td>0.171150</td>\n",
              "      <td>1.000000</td>\n",
              "      <td>0.202570</td>\n",
              "      <td>0.062423</td>\n",
              "    </tr>\n",
              "    <tr>\n",
              "      <th>P28</th>\n",
              "      <td>-0.011245</td>\n",
              "      <td>0.122979</td>\n",
              "      <td>0.025898</td>\n",
              "      <td>0.087638</td>\n",
              "      <td>-0.040787</td>\n",
              "      <td>0.132117</td>\n",
              "      <td>-0.015696</td>\n",
              "      <td>0.101261</td>\n",
              "      <td>-0.065166</td>\n",
              "      <td>0.128546</td>\n",
              "      <td>...</td>\n",
              "      <td>-0.052609</td>\n",
              "      <td>0.299307</td>\n",
              "      <td>-0.261061</td>\n",
              "      <td>0.088540</td>\n",
              "      <td>-0.034506</td>\n",
              "      <td>0.158685</td>\n",
              "      <td>0.018307</td>\n",
              "      <td>0.202570</td>\n",
              "      <td>1.000000</td>\n",
              "      <td>-0.053380</td>\n",
              "    </tr>\n",
              "    <tr>\n",
              "      <th>Mud</th>\n",
              "      <td>0.010324</td>\n",
              "      <td>-0.045319</td>\n",
              "      <td>-0.237943</td>\n",
              "      <td>-0.010432</td>\n",
              "      <td>-0.000246</td>\n",
              "      <td>-0.121954</td>\n",
              "      <td>0.166827</td>\n",
              "      <td>0.128398</td>\n",
              "      <td>0.024411</td>\n",
              "      <td>0.024623</td>\n",
              "      <td>...</td>\n",
              "      <td>0.146307</td>\n",
              "      <td>0.007873</td>\n",
              "      <td>-0.012180</td>\n",
              "      <td>-0.114843</td>\n",
              "      <td>0.038922</td>\n",
              "      <td>-0.076052</td>\n",
              "      <td>-0.029196</td>\n",
              "      <td>0.062423</td>\n",
              "      <td>-0.053380</td>\n",
              "      <td>1.000000</td>\n",
              "    </tr>\n",
              "  </tbody>\n",
              "</table>\n",
              "<p>30 rows × 30 columns</p>\n",
              "</div>\n",
              "      <button class=\"colab-df-convert\" onclick=\"convertToInteractive('df-7eb1d088-c7d9-4c6d-8f1d-2d5aa884b2b0')\"\n",
              "              title=\"Convert this dataframe to an interactive table.\"\n",
              "              style=\"display:none;\">\n",
              "        \n",
              "  <svg xmlns=\"http://www.w3.org/2000/svg\" height=\"24px\"viewBox=\"0 0 24 24\"\n",
              "       width=\"24px\">\n",
              "    <path d=\"M0 0h24v24H0V0z\" fill=\"none\"/>\n",
              "    <path d=\"M18.56 5.44l.94 2.06.94-2.06 2.06-.94-2.06-.94-.94-2.06-.94 2.06-2.06.94zm-11 1L8.5 8.5l.94-2.06 2.06-.94-2.06-.94L8.5 2.5l-.94 2.06-2.06.94zm10 10l.94 2.06.94-2.06 2.06-.94-2.06-.94-.94-2.06-.94 2.06-2.06.94z\"/><path d=\"M17.41 7.96l-1.37-1.37c-.4-.4-.92-.59-1.43-.59-.52 0-1.04.2-1.43.59L10.3 9.45l-7.72 7.72c-.78.78-.78 2.05 0 2.83L4 21.41c.39.39.9.59 1.41.59.51 0 1.02-.2 1.41-.59l7.78-7.78 2.81-2.81c.8-.78.8-2.07 0-2.86zM5.41 20L4 18.59l7.72-7.72 1.47 1.35L5.41 20z\"/>\n",
              "  </svg>\n",
              "      </button>\n",
              "      \n",
              "  <style>\n",
              "    .colab-df-container {\n",
              "      display:flex;\n",
              "      flex-wrap:wrap;\n",
              "      gap: 12px;\n",
              "    }\n",
              "\n",
              "    .colab-df-convert {\n",
              "      background-color: #E8F0FE;\n",
              "      border: none;\n",
              "      border-radius: 50%;\n",
              "      cursor: pointer;\n",
              "      display: none;\n",
              "      fill: #1967D2;\n",
              "      height: 32px;\n",
              "      padding: 0 0 0 0;\n",
              "      width: 32px;\n",
              "    }\n",
              "\n",
              "    .colab-df-convert:hover {\n",
              "      background-color: #E2EBFA;\n",
              "      box-shadow: 0px 1px 2px rgba(60, 64, 67, 0.3), 0px 1px 3px 1px rgba(60, 64, 67, 0.15);\n",
              "      fill: #174EA6;\n",
              "    }\n",
              "\n",
              "    [theme=dark] .colab-df-convert {\n",
              "      background-color: #3B4455;\n",
              "      fill: #D2E3FC;\n",
              "    }\n",
              "\n",
              "    [theme=dark] .colab-df-convert:hover {\n",
              "      background-color: #434B5C;\n",
              "      box-shadow: 0px 1px 3px 1px rgba(0, 0, 0, 0.15);\n",
              "      filter: drop-shadow(0px 1px 2px rgba(0, 0, 0, 0.3));\n",
              "      fill: #FFFFFF;\n",
              "    }\n",
              "  </style>\n",
              "\n",
              "      <script>\n",
              "        const buttonEl =\n",
              "          document.querySelector('#df-7eb1d088-c7d9-4c6d-8f1d-2d5aa884b2b0 button.colab-df-convert');\n",
              "        buttonEl.style.display =\n",
              "          google.colab.kernel.accessAllowed ? 'block' : 'none';\n",
              "\n",
              "        async function convertToInteractive(key) {\n",
              "          const element = document.querySelector('#df-7eb1d088-c7d9-4c6d-8f1d-2d5aa884b2b0');\n",
              "          const dataTable =\n",
              "            await google.colab.kernel.invokeFunction('convertToInteractive',\n",
              "                                                     [key], {});\n",
              "          if (!dataTable) return;\n",
              "\n",
              "          const docLinkHtml = 'Like what you see? Visit the ' +\n",
              "            '<a target=\"_blank\" href=https://colab.research.google.com/notebooks/data_table.ipynb>data table notebook</a>'\n",
              "            + ' to learn more about interactive tables.';\n",
              "          element.innerHTML = '';\n",
              "          dataTable['output_type'] = 'display_data';\n",
              "          await google.colab.output.renderOutput(dataTable, element);\n",
              "          const docLink = document.createElement('div');\n",
              "          docLink.innerHTML = docLinkHtml;\n",
              "          element.appendChild(docLink);\n",
              "        }\n",
              "      </script>\n",
              "    </div>\n",
              "  </div>\n",
              "  "
            ]
          },
          "metadata": {},
          "execution_count": 24
        }
      ]
    },
    {
      "cell_type": "markdown",
      "source": [
        "Plotting the correlation heatmap after smote analysis"
      ],
      "metadata": {
        "id": "LhNb4XYQa6rl"
      }
    },
    {
      "cell_type": "code",
      "source": [
        "corrmat = x_train.corr()\n",
        "fig, ax = plt.subplots()\n",
        "fig.set_size_inches(11,11)\n",
        "sns.heatmap(corrmat)"
      ],
      "metadata": {
        "colab": {
          "base_uri": "https://localhost:8080/",
          "height": 682
        },
        "id": "nVcwpKT3GA3Z",
        "outputId": "ef76d18e-a5ad-45f7-b846-2d650c0da027"
      },
      "execution_count": 25,
      "outputs": [
        {
          "output_type": "execute_result",
          "data": {
            "text/plain": [
              "<matplotlib.axes._subplots.AxesSubplot at 0x7f8278d74b10>"
            ]
          },
          "metadata": {},
          "execution_count": 25
        },
        {
          "output_type": "display_data",
          "data": {
            "text/plain": [
              "<Figure size 792x792 with 2 Axes>"
            ],
            "image/png": "[encoded data removed]"
          },
          "metadata": {
            "needs_background": "light"
          }
        }
      ]
    },
    {
      "cell_type": "markdown",
      "source": [
        "### Dropping the features which has high correlation"
      ],
      "metadata": {
        "id": "thAnEsPGbjKP"
      }
    },
    {
      "cell_type": "code",
      "source": [
        "def correlation(dataset, threshold):\n",
        "    col_corr = set()  # Set of all the names of correlated columns\n",
        "    corr_matrix = dataset.corr()\n",
        "    for i in range(len(corr_matrix.columns)):\n",
        "        for j in range(i):\n",
        "            if abs(corr_matrix.iloc[i, j]) > threshold: # we are interested in absolute coeff value\n",
        "                colname = corr_matrix.columns[i]  # getting the name of column\n",
        "                col_corr.add(colname)\n",
        "    return col_corr"
      ],
      "metadata": {
        "id": "SJouFuL_GA1q"
      },
      "execution_count": 26,
      "outputs": []
    },
    {
      "cell_type": "code",
      "source": [
        "corr_features = correlation(x_train, 0.9)\n",
        "len(set(corr_features))\n",
        "print(corr_features)"
      ],
      "metadata": {
        "colab": {
          "base_uri": "https://localhost:8080/"
        },
        "id": "iVDVOrkxGAzE",
        "outputId": "e7d10c14-6914-457c-820f-66c4ba76fb4f"
      },
      "execution_count": 27,
      "outputs": [
        {
          "output_type": "stream",
          "name": "stdout",
          "text": [
            "{'P12', 'P18', 'P16', 'P17'}\n"
          ]
        }
      ]
    },
    {
      "cell_type": "code",
      "source": [
        "x_train = x_train.drop(['Time','P12','P17','P18'], axis=1)\n",
        "x_test = x_test.drop(['Time','P12','P17','P18'], axis=1)"
      ],
      "metadata": {
        "id": "KfsN8MlIGAvn"
      },
      "execution_count": 28,
      "outputs": []
    },
    {
      "cell_type": "markdown",
      "source": [
        "Here, I'm dropping time also as there is no use of using time as a feature for predicting the quality of water"
      ],
      "metadata": {
        "id": "0qeDysGHXL3Y"
      }
    },
    {
      "cell_type": "code",
      "source": [
        "x_train.shape"
      ],
      "metadata": {
        "id": "he6EqJXxGAsz",
        "colab": {
          "base_uri": "https://localhost:8080/"
        },
        "outputId": "33734d73-a235-4235-a096-a78fbe1c75ab"
      },
      "execution_count": 29,
      "outputs": [
        {
          "output_type": "execute_result",
          "data": {
            "text/plain": [
              "(318423, 26)"
            ]
          },
          "metadata": {},
          "execution_count": 29
        }
      ]
    },
    {
      "cell_type": "code",
      "source": [
        "\"\"\"\n",
        "from sklearn.preprocessing import StandardScaler\n",
        "sc=StandardScaler()\n",
        "x_train=sc.fit_transform(x_train)\n",
        "x_test=sc.transform(x_test)\n",
        "\"\"\""
      ],
      "metadata": {
        "id": "1RGc5Xr9bRBr",
        "colab": {
          "base_uri": "https://localhost:8080/",
          "height": 36
        },
        "outputId": "07139b9e-0f95-426a-a241-0207a4ec7cc9"
      },
      "execution_count": 30,
      "outputs": [
        {
          "output_type": "execute_result",
          "data": {
            "text/plain": [
              "'\\nfrom sklearn.preprocessing import StandardScaler\\nsc=StandardScaler()\\nx_train=sc.fit_transform(x_train)\\nx_test=sc.transform(x_test)\\n'"
            ],
            "application/vnd.google.colaboratory.intrinsic+json": {
              "type": "string"
            }
          },
          "metadata": {},
          "execution_count": 30
        }
      ]
    },
    {
      "cell_type": "markdown",
      "source": [
        "### Modeling"
      ],
      "metadata": {
        "id": "BOM255IBdSuw"
      }
    },
    {
      "cell_type": "code",
      "source": [
        "#f1scorelgbm=0.999487\n",
        "#f1scoredecisiontree=0.998453\n",
        "\n",
        "\n",
        "# from sklearn.tree import DecisionTreeClassifier\n",
        "# classifier=DecisionTreeClassifier(criterion='entropy')\n",
        "# classifier.fit(x_train,y_train)\n",
        "\n",
        "\"\"\"\n",
        "from xgboost import XGBClassifier\n",
        "\n",
        "classifier=XGBClassifier(max_depth=7, learning_rate=0.1, n_estimators=500, objective='binary:logistic', booster='gbtree')\n",
        "classifier.fit(x_train,y_train)\n",
        "\"\"\"\n",
        "\n",
        "\n",
        "\n",
        "\"\"\"\n",
        "from lightgbm import LGBMClassifier\n",
        "classifier=LGBMClassifier()\n",
        "classifier.fit(x_train,y_train)\n",
        "\"\"\"\n",
        "\n",
        "\n",
        "from sklearn.ensemble import RandomForestClassifier\n",
        "classifier=RandomForestClassifier(criterion='entropy',n_estimators=150)\n",
        "classifier.fit(x_train,y_train)\n",
        "\n",
        "\n",
        "\n",
        "\"\"\"\n",
        "import tensorflow as tf\n",
        "ann=tf.keras.models.Sequential()\n",
        "ann.add(tf.keras.layers.Dense(units=128,activation='relu'))\n",
        "ann.add(tf.keras.layers.Dense(units=128,activation='relu'))\n",
        "ann.add(tf.keras.layers.Dense(units=1,activation='sigmoid'))\n",
        "\n",
        "ann.compile(optimizer='adam',loss='binary_crossentropy',metrics=['accuracy'])\n",
        "ann.fit(x_train,y_train,batch_size=32,epochs=20)\n",
        "\n",
        "y_pred=ann.predict(x_test)\n",
        "y_pred=(y_pred>=0.5)\n",
        "\n",
        "from sklearn.metrics import f1_score,confusion_matrix\n",
        "cm=confusion_matrix(y_test,y_pred)\n",
        "print(cm)\n",
        "f1_score(y_test,y_pred)\n",
        "\"\"\"\n",
        "\n"
      ],
      "metadata": {
        "id": "mvvNHoAubb1o",
        "colab": {
          "base_uri": "https://localhost:8080/",
          "height": 88
        },
        "outputId": "c42d8f96-05b5-4704-c7c2-e3e2308221c4"
      },
      "execution_count": 31,
      "outputs": [
        {
          "output_type": "execute_result",
          "data": {
            "text/plain": [
              "\"\\nimport tensorflow as tf\\nann=tf.keras.models.Sequential()\\nann.add(tf.keras.layers.Dense(units=128,activation='relu'))\\nann.add(tf.keras.layers.Dense(units=128,activation='relu'))\\nann.add(tf.keras.layers.Dense(units=1,activation='sigmoid'))\\n\\nann.compile(optimizer='adam',loss='binary_crossentropy',metrics=['accuracy'])\\nann.fit(x_train,y_train,batch_size=32,epochs=20)\\n\\ny_pred=ann.predict(x_test)\\ny_pred=(y_pred>=0.5)\\n\\nfrom sklearn.metrics import f1_score,confusion_matrix\\ncm=confusion_matrix(y_test,y_pred)\\nprint(cm)\\nf1_score(y_test,y_pred)\\n\""
            ],
            "application/vnd.google.colaboratory.intrinsic+json": {
              "type": "string"
            }
          },
          "metadata": {},
          "execution_count": 31
        }
      ]
    },
    {
      "cell_type": "code",
      "source": [
        "\"\"\"\n",
        "from sklearn.svm import SVC\n",
        "\n",
        "classfier = SVC(kernel = \"rbf\", random_state = 43)\n",
        "classfier.fit(x_train,y_train)\n",
        "\"\"\""
      ],
      "metadata": {
        "colab": {
          "base_uri": "https://localhost:8080/",
          "height": 36
        },
        "id": "ygPiA062prb_",
        "outputId": "0e729111-ffa1-4e44-a8a8-7218835e3e43"
      },
      "execution_count": 32,
      "outputs": [
        {
          "output_type": "execute_result",
          "data": {
            "text/plain": [
              "'\\nfrom sklearn.svm import SVC\\n\\nclassfier = SVC(kernel = \"rbf\", random_state = 43)\\nclassfier.fit(x_train,y_train)\\n'"
            ],
            "application/vnd.google.colaboratory.intrinsic+json": {
              "type": "string"
            }
          },
          "metadata": {},
          "execution_count": 32
        }
      ]
    },
    {
      "cell_type": "code",
      "source": [
        "y_pred=classifier.predict(x_test)"
      ],
      "metadata": {
        "id": "0kcfs3FyctKt"
      },
      "execution_count": 33,
      "outputs": []
    },
    {
      "cell_type": "code",
      "source": [
        "from sklearn.metrics import f1_score,confusion_matrix\n",
        "cm=confusion_matrix(y_test,y_pred)\n",
        "print(cm)\n",
        "f1_score(y_test,y_pred,average='macro')"
      ],
      "metadata": {
        "id": "IBSHn9vxc2Y5",
        "colab": {
          "base_uri": "https://localhost:8080/"
        },
        "outputId": "dc791ee9-a4b9-4e6f-c21f-7e2982f811e8"
      },
      "execution_count": 34,
      "outputs": [
        {
          "output_type": "stream",
          "name": "stdout",
          "text": [
            "[[68401    19]\n",
            " [    0 68047]]\n"
          ]
        },
        {
          "output_type": "execute_result",
          "data": {
            "text/plain": [
              "0.9998607712644664"
            ]
          },
          "metadata": {},
          "execution_count": 34
        }
      ]
    },
    {
      "cell_type": "code",
      "source": [
        "import pickle\n",
        "# open a file, where you ant to store the data\n",
        "filename = 'Random_forest_150_XYZ.pkl'\n",
        "pickle.dump(classifier,open(filename,'wb'))\n",
        "\n",
        "# dump information to that file\n",
        "pickle.load(open(filename,'rb'))"
      ],
      "metadata": {
        "id": "sZRfHZiPmHAG",
        "colab": {
          "base_uri": "https://localhost:8080/"
        },
        "outputId": "a606fa55-8600-4b05-bb5b-b669d46a1f5e"
      },
      "execution_count": 36,
      "outputs": [
        {
          "output_type": "execute_result",
          "data": {
            "text/plain": [
              "RandomForestClassifier(criterion='entropy', n_estimators=150)"
            ]
          },
          "metadata": {},
          "execution_count": 36
        }
      ]
    },
    {
      "cell_type": "code",
      "source": [
        ""
      ],
      "metadata": {
        "id": "nu3jjdneeq5x"
      },
      "execution_count": null,
      "outputs": []
    }
  ],
  "metadata": {
    "colab": {
      "collapsed_sections": [],
      "name": "Complete Data visualisations and feature engineering.ipynb",
      "provenance": []
    },
    "kernelspec": {
      "display_name": "Python 3",
      "name": "python3"
    }
  },
  "nbformat": 4,
  "nbformat_minor": 0
}